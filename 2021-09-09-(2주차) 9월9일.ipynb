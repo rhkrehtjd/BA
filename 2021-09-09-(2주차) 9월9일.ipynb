{
 "cells": [
  {
   "cell_type": "markdown",
   "id": "ec8142a2-7f85-4030-9a27-80a5c8956040",
   "metadata": {
    "tags": []
   },
   "source": [
    "# (2주차) 9월9일 \n",
    "> Path, 이미지 크롤링과 CNN모델 \n",
    "\n",
    "- toc:true\n",
    "- branch: master\n",
    "- badges: true\n",
    "- comments: true\n",
    "- author: 최규빈"
   ]
  },
  {
   "cell_type": "markdown",
   "id": "d76139ee-c97b-42fe-bca1-7e8774924731",
   "metadata": {
    "tags": []
   },
   "source": [
    "### 강의영상 \n",
    "\n",
    "> youtube: https://youtube.com/playlist?list=PLQqh36zP38-xZPeNBj5V8nUrTDV4z3ajp\n"
   ]
  },
  {
   "cell_type": "markdown",
   "id": "15cdde63-95fa-4135-8525-6362130b4f84",
   "metadata": {},
   "source": [
    "`-` (1/4) Path 설명 \n",
    "\n",
    "`-` (2/4) 이미지 크롤링 \n",
    "\n",
    "`-` (3/4) 모형학습 및 결과분석 \n",
    "\n",
    "`-` (4/4) 테스트 "
   ]
  },
  {
   "cell_type": "markdown",
   "id": "ebeedc28-e7b9-4e72-8979-41455b45e583",
   "metadata": {},
   "source": [
    "### import "
   ]
  },
  {
   "cell_type": "code",
   "execution_count": null,
   "id": "c7ba8e8b-2b0e-45c3-9542-73de8cbc6d73",
   "metadata": {},
   "outputs": [],
   "source": [
    "from fastai.data.all import *\n",
    "from fastai.vision.all import * "
   ]
  },
  {
   "cell_type": "markdown",
   "id": "973f0cfb-7f6c-4452-88d5-f7f037383ccb",
   "metadata": {
    "tags": []
   },
   "source": [
    "### Path"
   ]
  },
  {
   "cell_type": "markdown",
   "id": "243abc3e-3d3f-402f-80b5-193b71026bc4",
   "metadata": {},
   "source": [
    "`-` 기능: 현재폴더, 혹은 그 하위폴더들에 속한 파일의 목록을 볼 수 있다. "
   ]
  },
  {
   "cell_type": "code",
   "execution_count": null,
   "id": "ba8015fd-b5b5-45e0-8285-a7a3ee6ffc52",
   "metadata": {},
   "outputs": [],
   "source": [
    "path=Path() # Path클래스에서 인스턴스생성 "
   ]
  },
  {
   "cell_type": "code",
   "execution_count": null,
   "id": "e0c6c90e-5c34-45b4-bbbe-dc9f48549673",
   "metadata": {},
   "outputs": [],
   "source": [
    "path"
   ]
  },
  {
   "cell_type": "markdown",
   "id": "a0178e45-49b3-41e4-928f-2999cb8ec3a0",
   "metadata": {},
   "source": [
    "- dot은 현재 directory를 의마함\n",
    "  - dotdot(..)은 상위 directory를 의미한다."
   ]
  },
  {
   "cell_type": "code",
   "execution_count": null,
   "id": "f6fab591-a1bf-4507-8a5c-989818cbde11",
   "metadata": {},
   "outputs": [],
   "source": [
    "path.ls()\n",
    "# 현재 경로에 있는 파일들이 보이게 됨"
   ]
  },
  {
   "cell_type": "code",
   "execution_count": null,
   "id": "53e0dafe-9d18-4e03-af14-ea51bc57dbef",
   "metadata": {},
   "outputs": [],
   "source": [
    "(path/'ghtop_images').ls()"
   ]
  },
  {
   "cell_type": "markdown",
   "id": "ce877bd4-ada3-438d-af9b-3fae51b70002",
   "metadata": {},
   "source": [
    "`-` Path(...)에서 ...에 무엇을 넣느냐에 따라 원하는 경로를 설정할 수 있다. "
   ]
  },
  {
   "cell_type": "code",
   "execution_count": null,
   "id": "0a4d6172-5aca-4df9-a32c-407eabd2f1b6",
   "metadata": {},
   "outputs": [],
   "source": [
    "path=Path('/')"
   ]
  },
  {
   "cell_type": "code",
   "execution_count": null,
   "id": "1774aeda-b87e-453a-84bb-3224f0fae182",
   "metadata": {},
   "outputs": [],
   "source": [
    "path"
   ]
  },
  {
   "cell_type": "code",
   "execution_count": null,
   "id": "20bc3706-b479-4002-afb7-c82c258e2bdd",
   "metadata": {},
   "outputs": [],
   "source": [
    "path.ls()"
   ]
  },
  {
   "cell_type": "markdown",
   "id": "e8dcb5aa-fd5d-41e8-b40b-1a77391f7a33",
   "metadata": {},
   "source": [
    "- 가장 최상위 경로를 의미함"
   ]
  },
  {
   "cell_type": "code",
   "execution_count": null,
   "id": "48f9bcc4-0c36-4a6d-9de1-95456a722b04",
   "metadata": {},
   "outputs": [],
   "source": [
    "path=Path('/home')"
   ]
  },
  {
   "cell_type": "code",
   "execution_count": null,
   "id": "2c365bf6-9b40-4ca2-bb55-88848aa9fadb",
   "metadata": {},
   "outputs": [],
   "source": [
    "path.ls()"
   ]
  },
  {
   "cell_type": "markdown",
   "id": "58d1a6b1-b1a3-4aa8-b9e6-7325a8434365",
   "metadata": {},
   "source": [
    "- 최상위 폴더 아래 home이라는 폴더로 접근"
   ]
  },
  {
   "cell_type": "markdown",
   "id": "7f9ad477-4bdc-481b-918a-6d466e84f949",
   "metadata": {},
   "source": [
    "`-` 폴더를 만들수 있다. "
   ]
  },
  {
   "cell_type": "code",
   "execution_count": null,
   "id": "2b4b48a3-9ad7-4773-9e06-a6b40ca66f2b",
   "metadata": {},
   "outputs": [],
   "source": [
    "path=Path() "
   ]
  },
  {
   "cell_type": "code",
   "execution_count": null,
   "id": "9e08e81e-88ae-4d82-87e5-066e4eb4d999",
   "metadata": {},
   "outputs": [],
   "source": [
    "(path/'asddf').mkdir()\n",
    "# 기존 directory에선 없었던\n",
    "# asddf라는 폴더를 만듦"
   ]
  },
  {
   "cell_type": "code",
   "execution_count": null,
   "id": "6cb1c39c-ebec-465c-a154-84ac852afaa4",
   "metadata": {},
   "outputs": [],
   "source": [
    "(path/'asdf').ls()"
   ]
  },
  {
   "cell_type": "markdown",
   "id": "042fce0d-378c-4da3-b74b-58ef7e86d8eb",
   "metadata": {},
   "source": [
    "`-` 이미 폴더가 존재할 때는 아래와 같이 에러가 발생"
   ]
  },
  {
   "cell_type": "code",
   "execution_count": null,
   "id": "de660e2f-3cf9-48ff-addb-1da90873cce3",
   "metadata": {},
   "outputs": [],
   "source": [
    "(path/'asddf').mkdir()\n",
    "# 이미 존재하기에 error 발생"
   ]
  },
  {
   "cell_type": "code",
   "execution_count": null,
   "id": "0f0dea8c-1f57-4f1c-bba0-2257c1f87bd3",
   "metadata": {},
   "outputs": [],
   "source": [
    "(path/'asddf').mkdir(exist_ok=True)\n",
    "# 만약 있다면, 그냥 무시해도 된다\n",
    "# def에서 pass같은 기능"
   ]
  },
  {
   "cell_type": "markdown",
   "id": "2aacaadf-6108-4088-9e25-c3815413d1e0",
   "metadata": {},
   "source": [
    "`-` 생성한 폴더를 지우는 방법 "
   ]
  },
  {
   "cell_type": "code",
   "execution_count": null,
   "id": "f9a451ce-49fb-427a-b939-bda29e82130d",
   "metadata": {},
   "outputs": [],
   "source": [
    "(path/'asddf').rmdir()"
   ]
  },
  {
   "cell_type": "markdown",
   "id": "5c51c753-7357-4c62-b09e-389ba5d56952",
   "metadata": {},
   "source": [
    "### 이미지 크롤링 "
   ]
  },
  {
   "cell_type": "markdown",
   "id": "701ed153-0351-4ad3-9485-0a2b66529433",
   "metadata": {},
   "source": [
    "`-` 이미지 크롤링은 (1) 검색 (2) 이미지 주소를 찾음 (3) 해당주소로 이동하여 저장하는 과정을 반복하면 된다. "
   ]
  },
  {
   "cell_type": "markdown",
   "id": "b1c9e201-24e4-422b-9ba2-4a88c11870b2",
   "metadata": {},
   "source": [
    "`-` 교재: 빙을 이용하여 이미지 크롤링 \n",
    "- 단점: 애져에 가입, 완전무료가 아님 (학생에게 1년간 무료) "
   ]
  },
  {
   "cell_type": "markdown",
   "id": "61033870-de28-4fe6-8a20-4c3d5dc85438",
   "metadata": {},
   "source": [
    "`-` 다른방법: 덕덕고를 이용한 이미지 크롤링 \n",
    "\n",
    "- ref: https://github.com/fastai/fastbook/blob/master/utils.py"
   ]
  },
  {
   "cell_type": "code",
   "execution_count": null,
   "id": "c9b5f7c7-914c-4b05-a33d-904f20f4063c",
   "metadata": {},
   "outputs": [],
   "source": [
    "def search_images_ddg(key,max_n=200):\n",
    "    \"\"\"Search for 'key' with DuckDuckGo and return a unique urls of 'max_n' images\n",
    "       (Adopted from https://github.com/deepanprabhu/duckduckgo-images-api)\n",
    "    \"\"\"\n",
    "    url        = 'https://duckduckgo.com/'\n",
    "    params     = {'q':key}\n",
    "    res        = requests.post(url,data=params)\n",
    "    searchObj  = re.search(r'vqd=([\\d-]+)\\&',res.text)\n",
    "    if not searchObj: print('Token Parsing Failed !'); return\n",
    "    requestUrl = url + 'i.js'\n",
    "    headers    = {'User-Agent': 'Mozilla/5.0 (X11; Ubuntu; Linux x86_64; rv:71.0) Gecko/20100101 Firefox/71.0'}\n",
    "    params     = (('l','us-en'),('o','json'),('q',key),('vqd',searchObj.group(1)),('f',',,,'),('p','1'),('v7exp','a'))\n",
    "    urls       = []\n",
    "    while True:\n",
    "        try:\n",
    "            res  = requests.get(requestUrl,headers=headers,params=params)\n",
    "            data = json.loads(res.text)\n",
    "            for obj in data['results']:\n",
    "                urls.append(obj['image'])\n",
    "                max_n = max_n - 1\n",
    "                if max_n < 1: return L(set(urls))     # dedupe\n",
    "            if 'next' not in data: return L(set(urls))\n",
    "            requestUrl = url + data['next']\n",
    "        except:\n",
    "            pass\n"
   ]
  },
  {
   "cell_type": "markdown",
   "id": "92e6795e-7f62-41e0-8029-a7d80a0d465d",
   "metadata": {},
   "source": [
    "`-` `search_images_ddg(검색어)`를 이용하여 검색어에 해당하는 url을 얻는다. \n",
    "  - 인수 key에 해당"
   ]
  },
  {
   "cell_type": "code",
   "execution_count": null,
   "id": "cd9254bf-f26f-43cf-b276-8575bd71d735",
   "metadata": {},
   "outputs": [],
   "source": [
    "search_images_ddg('hynn',max_n=5)"
   ]
  },
  {
   "cell_type": "markdown",
   "id": "8ea881fd-4594-4c6a-877d-31f2467dff0e",
   "metadata": {},
   "source": [
    "`-` `download_images(저장하고싶은폴더위치, url의리스트)`를 이용하여 url에 해당하는 이미지를 저장하고 싶은 폴더에 저장. "
   ]
  },
  {
   "cell_type": "code",
   "execution_count": null,
   "id": "0a2504da-9635-4ae8-a2e4-5d703bdb4f8f",
   "metadata": {},
   "outputs": [],
   "source": [
    "path=Path()"
   ]
  },
  {
   "cell_type": "code",
   "execution_count": null,
   "id": "c5f61192-4f2c-43c5-9e88-ef8267fd02e3",
   "metadata": {},
   "outputs": [],
   "source": [
    "path.ls()"
   ]
  },
  {
   "cell_type": "code",
   "execution_count": null,
   "id": "6c168e94-5015-4202-854c-55e5ab89289c",
   "metadata": {},
   "outputs": [],
   "source": [
    "download_images(path,urls=search_images_ddg('hynn',max_n=5))"
   ]
  },
  {
   "cell_type": "markdown",
   "id": "f853c58a-9060-49d1-af84-209ba048beed",
   "metadata": {},
   "source": [
    "- 현재 working dir에 5개의 이미지가 저장된다. "
   ]
  },
  {
   "cell_type": "code",
   "execution_count": null,
   "id": "445ff102-fd87-4059-ae04-3f5f3e9758cf",
   "metadata": {},
   "outputs": [],
   "source": [
    "keywords = 'hynn', 'iu' \n",
    "path=Path('singer')"
   ]
  },
  {
   "cell_type": "code",
   "execution_count": null,
   "id": "fa64d6ad-96b9-427c-82fb-528b99569613",
   "metadata": {},
   "outputs": [],
   "source": [
    "if not path.exists(): # 현재폴더에 singer라는 폴더가 있는지 체크 \n",
    "    path.mkdir() # 현재폴더에 singer라는 폴더가 만들어짐 \n",
    "    for keyword in keywords: # keyword='hynn', keyword='iu' 일때 아래내용을 반복 \n",
    "        lastpath=path/keyword # ./singer/hynn or ./singer/iu \n",
    "        lastpath.mkdir(exist_ok=True) # make ./singer/hynn or ./singer/iu \n",
    "        urls=search_images_ddg(keyword) # 'hynn' 검색어로 url들의 리스트를 얻음\n",
    "        download_images(lastpath,urls=urls) # 그 url에 해당하는 이미지들을  ./singer/hynn or ./singer/iu 에 저장"
   ]
  },
  {
   "cell_type": "markdown",
   "id": "fb977240-826f-4830-b966-2dc39c5c239f",
   "metadata": {},
   "source": [
    "### Cleaning Data"
   ]
  },
  {
   "cell_type": "markdown",
   "id": "3838f764-03c6-4c56-94fb-9c0e12799212",
   "metadata": {},
   "source": [
    "`-` 탐색기로 파일들을 살펴보니 조금 이상한 확장자도 있음. "
   ]
  },
  {
   "cell_type": "markdown",
   "id": "3c21b760-b654-4e53-94a2-10e8051bf0bd",
   "metadata": {},
   "source": [
    "`-` 조금 이상해보이는 확장자도 열리기는 함. "
   ]
  },
  {
   "cell_type": "code",
   "execution_count": null,
   "id": "0d928af4-2f65-4965-8a06-f6051b346d6c",
   "metadata": {},
   "outputs": [],
   "source": [
    "PILImage.create('./singer/iu/00000006.jpg:large')"
   ]
  },
  {
   "cell_type": "code",
   "execution_count": null,
   "id": "fa046a6e-a532-4fdc-a17f-207038d7b335",
   "metadata": {},
   "outputs": [],
   "source": [
    "verify_images(get_image_files(path))# 열리지 않는 파일 필터링\n",
    "# get_image_files(path)\n",
    "# 이미지만 골라서 list 만들어주는 함수"
   ]
  },
  {
   "cell_type": "markdown",
   "id": "0aade947-3f9b-4948-bc68-35d9c52e4a44",
   "metadata": {},
   "source": [
    "`-` 위에 해당하는 이미지를 수동으로 지워줌. "
   ]
  },
  {
   "cell_type": "markdown",
   "id": "544efb84-de89-44f9-aa32-a90a2c79bd16",
   "metadata": {},
   "source": [
    "`-` csv을 받았으면 df를 만들어야 하듯이, 이미지 파일들을 받았으면 dls를 만들어야 fastai가 지원하는 함수로 분석하기 좋다. "
   ]
  },
  {
   "cell_type": "markdown",
   "id": "06d4ef4b-7024-42bc-8b2b-bc63af84bdb2",
   "metadata": {},
   "source": [
    "`-` csv가 있다고 해서 df를 무조건 생성 가능한 게 아니듯, 이미지 파일도 잘 정리가 되어 있어야 dls로 만들 수 있음"
   ]
  },
  {
   "cell_type": "code",
   "execution_count": null,
   "id": "7845ac85-387a-4e2a-89fa-2c6178a4259b",
   "metadata": {},
   "outputs": [],
   "source": [
    "dls = ImageDataLoaders.from_folder( \n",
    "    # 전 시간에 사용했던 함수는 파일이름으로(첫글자가 대문자인지의 여부)분류 했음\n",
    "    # 전 시간에는 from_name_func이었음\n",
    "    # 지금은 폴더로(hynn, iu)로 분류해놨으니 from_folder라는 메서드를 사용하는 것 \n",
    "    path,\n",
    "    train='singer', \n",
    "    valid_pct=0.2, # training에서 일부 percentage를 validation으로 활용\n",
    "    item_tfms=Resize(224))                                   "
   ]
  },
  {
   "cell_type": "code",
   "execution_count": null,
   "id": "9626a9df-7a39-48f1-b784-0a0651bc68a4",
   "metadata": {},
   "outputs": [],
   "source": [
    "dls.show_batch(max_n=16) # 일정한 크기로 잘 만들어졌음을 확인할 수 있다. \n",
    "# 이 과정이 무엇을 의미하냐면\n",
    "# 우리가 csv를 받았을 때, preprocessing하는 과정과 유사하다고 생각해도 무방할 것 같다."
   ]
  },
  {
   "cell_type": "markdown",
   "id": "37c64d40-7928-4460-8330-bc85f4a5223b",
   "metadata": {},
   "source": [
    "`-` 모형을 만들고 학습을 시키자. "
   ]
  },
  {
   "cell_type": "code",
   "execution_count": null,
   "id": "ac0ee45a-cfc2-4750-a9d0-8dc7cc41f1cd",
   "metadata": {},
   "outputs": [],
   "source": [
    "learn=cnn_learner(dls,resnet34,metrics=error_rate)\n",
    "learn.fine_tune(7)"
   ]
  },
  {
   "cell_type": "code",
   "execution_count": null,
   "id": "baeb1b18-752e-400b-81bb-ccb9bc918880",
   "metadata": {},
   "outputs": [],
   "source": [
    "learn.show_results(max_n=16)"
   ]
  },
  {
   "cell_type": "markdown",
   "id": "b659ca41-2aad-4202-9b67-04c45f0cd10d",
   "metadata": {},
   "source": [
    "### 오답분석 "
   ]
  },
  {
   "cell_type": "code",
   "execution_count": null,
   "id": "747bc4fa-8863-4d43-a7cf-392420de0901",
   "metadata": {},
   "outputs": [],
   "source": [
    "interp = Interpretation.from_learner(learn)\n",
    "interp.plot_top_losses(16)"
   ]
  },
  {
   "cell_type": "markdown",
   "id": "60cb52af-35aa-4494-9299-4e234803e2cd",
   "metadata": {},
   "source": [
    "`-` 수동으로 특정 observation에 대한 예측결과를 확인하여 보자. "
   ]
  },
  {
   "cell_type": "code",
   "execution_count": null,
   "id": "25f54522-dc9a-4242-9f96-5de827574d1c",
   "metadata": {},
   "outputs": [],
   "source": [
    "dls.train_ds"
   ]
  },
  {
   "cell_type": "markdown",
   "id": "89a4ca43-84c8-43f1-92ed-a450dec8f020",
   "metadata": {},
   "source": [
    "- training set "
   ]
  },
  {
   "cell_type": "code",
   "execution_count": null,
   "id": "a92fc812-6eac-4109-b241-99c06df4a771",
   "metadata": {},
   "outputs": [],
   "source": [
    "dls.train_ds[0]"
   ]
  },
  {
   "cell_type": "markdown",
   "id": "c891b5a5-03d7-4b38-b1a2-5e8e583c2ba0",
   "metadata": {},
   "source": [
    "- dls.train_ds[0] 가 의미하는 것은 첫번쨰 observation을 의미함. 즉 $(x_1,y_1)$\n",
    "- $x_1=$PILImage mode=RGB size=960x960\n",
    "- $y_1=$TensorCategory(1)"
   ]
  },
  {
   "cell_type": "code",
   "execution_count": null,
   "id": "89af0085-adc5-40c2-9b82-4cd61c7104fe",
   "metadata": {},
   "outputs": [],
   "source": [
    "dls.train_ds[210][0]"
   ]
  },
  {
   "cell_type": "markdown",
   "id": "39df9d0b-acab-4f92-853d-ad50a250e5be",
   "metadata": {},
   "source": [
    "- $x_{211}$=위의 이미지"
   ]
  },
  {
   "cell_type": "code",
   "execution_count": null,
   "id": "653b5a0e-d611-4599-9dbb-818313d92d4c",
   "metadata": {},
   "outputs": [],
   "source": [
    "dls.train_ds[210][1]"
   ]
  },
  {
   "cell_type": "markdown",
   "id": "6b61c8ab-62ea-4dfa-bc85-6975212251e4",
   "metadata": {},
   "source": [
    "- $y_{211}=$TensorCategory(0)"
   ]
  },
  {
   "cell_type": "code",
   "execution_count": null,
   "id": "abf37c31-9439-4669-b337-901c063ae6a5",
   "metadata": {},
   "outputs": [],
   "source": [
    "x210=dls.train_ds[210][0]"
   ]
  },
  {
   "cell_type": "code",
   "execution_count": null,
   "id": "a4184cd7-84e1-425c-b39a-4f3e4c26ff1d",
   "metadata": {},
   "outputs": [],
   "source": [
    "learn.predict(x210)"
   ]
  },
  {
   "cell_type": "markdown",
   "id": "cd3a37c7-f7f7-4b2d-8bbf-5205d680ca3a",
   "metadata": {},
   "source": [
    "### Test"
   ]
  },
  {
   "cell_type": "code",
   "execution_count": null,
   "id": "cac3cc86-2fa3-4c6c-9751-f086a89e5592",
   "metadata": {},
   "outputs": [],
   "source": [
    "path = Path()"
   ]
  },
  {
   "cell_type": "code",
   "execution_count": null,
   "id": "469173a8-5e26-46c8-8237-0fea54bdcc6b",
   "metadata": {},
   "outputs": [],
   "source": [
    "if not (path/'test').exists():\n",
    "    (path/'test').mkdir()"
   ]
  },
  {
   "cell_type": "code",
   "execution_count": null,
   "id": "5041deef-1084-415d-97be-8260139bda48",
   "metadata": {},
   "outputs": [],
   "source": [
    "urls=search_images_ddg('hynn 박혜원',max_n=20)\n",
    "download_images(path/'test',urls=urls)\n",
    "testset=get_image_files(path/'test')\n",
    "testset"
   ]
  },
  {
   "cell_type": "code",
   "execution_count": null,
   "id": "fff42894-9f09-43ea-b5f2-5a2c2eba05dc",
   "metadata": {},
   "outputs": [],
   "source": [
    "for i in range(len(testset)): \n",
    "    print(learn.predict(PILImage.create(testset[i])))"
   ]
  },
  {
   "cell_type": "markdown",
   "id": "a38a2bb7-3f97-481e-abef-8f586db959b4",
   "metadata": {},
   "source": [
    "- 결과를 보니까 hynn이 많음 $\\to$ 어느정도 맞추는것 같긴하다. "
   ]
  },
  {
   "cell_type": "code",
   "execution_count": null,
   "id": "f2676391-c681-478e-b0ab-f902702fc8f5",
   "metadata": {},
   "outputs": [],
   "source": [
    "PILImage.create(testset[7])"
   ]
  },
  {
   "cell_type": "markdown",
   "id": "9618babc-d0ca-40e0-9070-4b017afd354a",
   "metadata": {},
   "source": [
    "- 실제로는 박혜원인데 아이유로 예측한 사진 "
   ]
  },
  {
   "cell_type": "code",
   "execution_count": null,
   "id": "7f6fb8e8-5d7f-432a-8e26-475c49345f7a",
   "metadata": {},
   "outputs": [],
   "source": [
    "path = Path()"
   ]
  },
  {
   "cell_type": "code",
   "execution_count": null,
   "id": "1d61df5e-ac58-4b22-bd6d-6793ef8c44c0",
   "metadata": {},
   "outputs": [],
   "source": [
    "if not (path/'test2').exists():\n",
    "    (path/'test2').mkdir()"
   ]
  },
  {
   "cell_type": "code",
   "execution_count": null,
   "id": "396d6740-1dd8-42c9-bdf3-663ecb3c75dc",
   "metadata": {},
   "outputs": [],
   "source": [
    "urls=search_images_ddg('iu 아이유',max_n=20)\n",
    "download_images(path/'test2',urls=urls)\n",
    "testset=get_image_files(path/'test2')\n",
    "testset"
   ]
  },
  {
   "cell_type": "code",
   "execution_count": null,
   "id": "456d274d-cd87-4699-92e4-dd6ead4b2c0a",
   "metadata": {},
   "outputs": [],
   "source": [
    "for i in range(len(testset)): \n",
    "    print(learn.predict(PILImage.create(testset[i])))"
   ]
  },
  {
   "cell_type": "markdown",
   "id": "d45ebe5e-30b7-45e5-aaea-a36df7ba785c",
   "metadata": {},
   "source": [
    "- 결과를 보니 아이유 역시 잘 맞추는 듯 보인다. "
   ]
  },
  {
   "cell_type": "markdown",
   "id": "447a7543-b161-44f9-a4c6-eb5d94e18cdf",
   "metadata": {},
   "source": [
    "`-` 정확률이 아쉽긴 하지만 어느정도 유의미한 결과를 얻었다. "
   ]
  },
  {
   "cell_type": "markdown",
   "id": "0b288e90-5d5c-4c95-8033-5d1d97665454",
   "metadata": {
    "tags": []
   },
   "source": [
    "### [숙제](https://ieilms.jbnu.ac.kr/)\n",
    "\n",
    "`-` 원하는 검색어로 이미지를 모은 뒤 결과를 제출 "
   ]
  }
 ],
 "metadata": {
  "kernelspec": {
   "display_name": "Python 3 (ipykernel)",
   "language": "python",
   "name": "python3"
  },
  "language_info": {
   "codemirror_mode": {
    "name": "ipython",
    "version": 3
   },
   "file_extension": ".py",
   "mimetype": "text/x-python",
   "name": "python",
   "nbconvert_exporter": "python",
   "pygments_lexer": "ipython3",
   "version": "3.9.12"
  }
 },
 "nbformat": 4,
 "nbformat_minor": 5
}
