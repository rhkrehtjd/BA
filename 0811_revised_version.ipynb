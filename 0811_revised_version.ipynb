{
  "cells": [
    {
      "cell_type": "markdown",
      "id": "904c2d8f-accf-4a4a-86b3-e9a6361ba29a",
      "metadata": {
        "id": "904c2d8f-accf-4a4a-86b3-e9a6361ba29a"
      },
      "source": [
        "# (2주차) 3월14일\n",
        "\n",
        "- toc:true\n",
        "- branch: master\n",
        "- badges: true\n",
        "- comments: true\n",
        "- author: 최규빈"
      ]
    },
    {
      "cell_type": "markdown",
      "id": "f8237871-83f7-4736-a222-debd1a50fd46",
      "metadata": {
        "id": "f8237871-83f7-4736-a222-debd1a50fd46"
      },
      "source": [
        "### 강의노트 "
      ]
    },
    {
      "cell_type": "markdown",
      "id": "0d83a2b7-e08e-48cf-a8bb-6453c702dba4",
      "metadata": {
        "id": "0d83a2b7-e08e-48cf-a8bb-6453c702dba4"
      },
      "source": [
        "> youtube: https://youtube.com/playlist?list=PLQqh36zP38-z8oR8bQZHR0mpy_9OcsWOz"
      ]
    },
    {
      "cell_type": "markdown",
      "id": "cdc4da3d-9aaa-4a1a-ac19-5070c0a4cbf8",
      "metadata": {
        "id": "cdc4da3d-9aaa-4a1a-ac19-5070c0a4cbf8"
      },
      "source": [
        "### import "
      ]
    },
    {
      "cell_type": "code",
      "execution_count": null,
      "id": "e18d4288-4668-45c2-a66f-5bb76f5b9ca2",
      "metadata": {
        "id": "e18d4288-4668-45c2-a66f-5bb76f5b9ca2"
      },
      "outputs": [],
      "source": [
        "import tensorflow as tf\n",
        "import numpy as np"
      ]
    },
    {
      "cell_type": "code",
      "execution_count": null,
      "id": "c4a78936-73df-4a20-8041-0d76aa07fd0f",
      "metadata": {
        "id": "c4a78936-73df-4a20-8041-0d76aa07fd0f",
        "outputId": "939e1474-9ceb-4e06-8f29-c797297ad22b",
        "colab": {
          "base_uri": "https://localhost:8080/"
        }
      },
      "outputs": [
        {
          "output_type": "execute_result",
          "data": {
            "text/plain": [
              "[]"
            ]
          },
          "metadata": {},
          "execution_count": 2
        }
      ],
      "source": [
        "tf.config.experimental.list_physical_devices('GPU')"
      ]
    },
    {
      "cell_type": "markdown",
      "id": "1f7d8172-8b82-4777-b922-aa46ea9e5a48",
      "metadata": {
        "id": "1f7d8172-8b82-4777-b922-aa46ea9e5a48"
      },
      "source": [
        "### tf.constant "
      ]
    },
    {
      "cell_type": "markdown",
      "id": "19d1b4f6-91ae-4638-b332-103dadaf6473",
      "metadata": {
        "id": "19d1b4f6-91ae-4638-b332-103dadaf6473"
      },
      "source": [
        "#### 예비학습: 중첩리스트 "
      ]
    },
    {
      "cell_type": "markdown",
      "id": "988425c2-1d49-456f-946b-c7e770458016",
      "metadata": {
        "id": "988425c2-1d49-456f-946b-c7e770458016"
      },
      "source": [
        "`-` 리스트"
      ]
    },
    {
      "cell_type": "code",
      "execution_count": null,
      "id": "8ce62ead-2002-4e4c-b9c6-faef7c87e3a9",
      "metadata": {
        "id": "8ce62ead-2002-4e4c-b9c6-faef7c87e3a9",
        "outputId": "6e13fec2-3c42-48b2-c0ca-166bf2c26f2b",
        "colab": {
          "base_uri": "https://localhost:8080/"
        }
      },
      "outputs": [
        {
          "output_type": "execute_result",
          "data": {
            "text/plain": [
              "[1, 2, 4, 5, 6]"
            ]
          },
          "metadata": {},
          "execution_count": 3
        }
      ],
      "source": [
        "lst = [1,2,4,5,6]\n",
        "lst "
      ]
    },
    {
      "cell_type": "code",
      "execution_count": null,
      "id": "640326fb-ac17-4f52-8fb6-f10d15dfc8c2",
      "metadata": {
        "id": "640326fb-ac17-4f52-8fb6-f10d15dfc8c2",
        "outputId": "64ea7796-893f-45ba-df5b-01c6100037c4",
        "colab": {
          "base_uri": "https://localhost:8080/"
        }
      },
      "outputs": [
        {
          "output_type": "execute_result",
          "data": {
            "text/plain": [
              "2"
            ]
          },
          "metadata": {},
          "execution_count": 4
        }
      ],
      "source": [
        "lst[1] # 두번쨰원소 "
      ]
    },
    {
      "cell_type": "code",
      "execution_count": null,
      "id": "c8e2ee14-9ae9-4e4c-8995-f935bd33cbe2",
      "metadata": {
        "id": "c8e2ee14-9ae9-4e4c-8995-f935bd33cbe2",
        "outputId": "615c16f1-f293-467d-d518-7db6199aeae2",
        "colab": {
          "base_uri": "https://localhost:8080/"
        }
      },
      "outputs": [
        {
          "output_type": "execute_result",
          "data": {
            "text/plain": [
              "6"
            ]
          },
          "metadata": {},
          "execution_count": 5
        }
      ],
      "source": [
        "lst[-1] # 마지막원소 "
      ]
    },
    {
      "cell_type": "markdown",
      "id": "6d2dbe9f-74c2-455a-afb0-341aebc9531a",
      "metadata": {
        "id": "6d2dbe9f-74c2-455a-afb0-341aebc9531a"
      },
      "source": [
        "`-` (2,2) matrix 느낌의 list"
      ]
    },
    {
      "cell_type": "code",
      "execution_count": null,
      "id": "94f4135c-5c14-4145-8c29-5a91f3d6bf62",
      "metadata": {
        "id": "94f4135c-5c14-4145-8c29-5a91f3d6bf62",
        "outputId": "c318fea9-1c02-411d-c2c3-17b4526ae354",
        "colab": {
          "base_uri": "https://localhost:8080/"
        }
      },
      "outputs": [
        {
          "output_type": "execute_result",
          "data": {
            "text/plain": [
              "[[1, 2], [3, 4]]"
            ]
          },
          "metadata": {},
          "execution_count": 6
        }
      ],
      "source": [
        "lst= [[1,2],[3,4]]\n",
        "lst"
      ]
    },
    {
      "cell_type": "markdown",
      "id": "eec78e89-0206-487f-a7b9-ef3c0785fb7d",
      "metadata": {
        "id": "eec78e89-0206-487f-a7b9-ef3c0785fb7d"
      },
      "source": [
        "위를 아래와 같은 매트릭스로 생각할수 있다. \n",
        "\n",
        "```\n",
        "1 2 \n",
        "3 4 \n",
        "```"
      ]
    },
    {
      "cell_type": "code",
      "execution_count": null,
      "id": "1633ffe1-7530-4f4b-9b83-d63288f62776",
      "metadata": {
        "id": "1633ffe1-7530-4f4b-9b83-d63288f62776",
        "outputId": "361fe9d0-ed8c-4c3b-a0f8-8f20b4971fbd",
        "colab": {
          "base_uri": "https://localhost:8080/"
        }
      },
      "outputs": [
        {
          "output_type": "stream",
          "name": "stdout",
          "text": [
            "1\n",
            "2\n",
            "3\n",
            "4\n"
          ]
        }
      ],
      "source": [
        "print(lst[0][0]) # (1,1) \n",
        "print(lst[0][1]) # (1,2) \n",
        "print(lst[1][0]) # (2,1) \n",
        "print(lst[1][1]) # (2,2) "
      ]
    },
    {
      "cell_type": "markdown",
      "id": "94ad7902-0710-4d6e-8bc1-490a3033b3b4",
      "metadata": {
        "id": "94ad7902-0710-4d6e-8bc1-490a3033b3b4"
      },
      "source": [
        "`-` (4,1) matrix 느낌의 list "
      ]
    },
    {
      "cell_type": "code",
      "execution_count": null,
      "id": "c85cff1f-ee24-495a-98bf-6ca14b2fad7c",
      "metadata": {
        "id": "c85cff1f-ee24-495a-98bf-6ca14b2fad7c",
        "outputId": "c87855c7-96e8-4bcf-8679-d326a2c418b9",
        "colab": {
          "base_uri": "https://localhost:8080/"
        }
      },
      "outputs": [
        {
          "output_type": "execute_result",
          "data": {
            "text/plain": [
              "[[1], [2], [3], [4]]"
            ]
          },
          "metadata": {},
          "execution_count": 9
        }
      ],
      "source": [
        "lst=[[1],[2],[3],[4]] # (4,1) matrix = 길이가 4인 col-vector\n",
        "lst"
      ]
    },
    {
      "cell_type": "markdown",
      "id": "74c7d4ca-1ce1-4eb6-ac69-9cd62e736f37",
      "metadata": {
        "id": "74c7d4ca-1ce1-4eb6-ac69-9cd62e736f37"
      },
      "source": [
        "`-` (1,4) matrix 느낌의 list "
      ]
    },
    {
      "cell_type": "code",
      "execution_count": null,
      "id": "5e1a530e-afa6-430d-b7bd-ff78958483bc",
      "metadata": {
        "id": "5e1a530e-afa6-430d-b7bd-ff78958483bc",
        "outputId": "19fbe1a2-8ed5-40d5-aa6d-03684fe42bea",
        "colab": {
          "base_uri": "https://localhost:8080/"
        }
      },
      "outputs": [
        {
          "output_type": "execute_result",
          "data": {
            "text/plain": [
              "[[1, 2, 3, 4]]"
            ]
          },
          "metadata": {},
          "execution_count": 10
        }
      ],
      "source": [
        "lst=[[1,2,3,4]] # (1,4) matrix = 길이가 4인 row-vector \n",
        "lst"
      ]
    },
    {
      "cell_type": "markdown",
      "id": "6a4dd379-e9c5-4e5d-a3ec-c2383ae1ac56",
      "metadata": {
        "id": "6a4dd379-e9c5-4e5d-a3ec-c2383ae1ac56"
      },
      "source": [
        "#### 선언"
      ]
    },
    {
      "cell_type": "markdown",
      "id": "679e7366-50a9-4034-87b4-962d1aa64090",
      "metadata": {
        "id": "679e7366-50a9-4034-87b4-962d1aa64090"
      },
      "source": [
        "`-` 스칼라 "
      ]
    },
    {
      "cell_type": "code",
      "execution_count": null,
      "id": "43e60a45-17d6-4d2e-809a-9efe4ebec72c",
      "metadata": {
        "id": "43e60a45-17d6-4d2e-809a-9efe4ebec72c",
        "outputId": "5be52bb3-7d9e-46c3-b0fe-429e9b27e30b",
        "colab": {
          "base_uri": "https://localhost:8080/"
        }
      },
      "outputs": [
        {
          "output_type": "execute_result",
          "data": {
            "text/plain": [
              "<tf.Tensor: shape=(), dtype=float32, numpy=3.14>"
            ]
          },
          "metadata": {},
          "execution_count": 11
        }
      ],
      "source": [
        "tf.constant(3.14)"
      ]
    },
    {
      "cell_type": "code",
      "execution_count": null,
      "id": "df80b9d7-4cc8-42d1-a32c-503170307103",
      "metadata": {
        "id": "df80b9d7-4cc8-42d1-a32c-503170307103",
        "outputId": "34fc70aa-dee6-4a76-dc52-da7acdd6c9dd",
        "colab": {
          "base_uri": "https://localhost:8080/"
        }
      },
      "outputs": [
        {
          "output_type": "execute_result",
          "data": {
            "text/plain": [
              "<tf.Tensor: shape=(), dtype=float32, numpy=6.28>"
            ]
          },
          "metadata": {},
          "execution_count": 12
        }
      ],
      "source": [
        "tf.constant(3.14)+tf.constant(3.14)"
      ]
    },
    {
      "cell_type": "markdown",
      "id": "82978720-7a2d-4e6a-a601-1c983ba2156b",
      "metadata": {
        "id": "82978720-7a2d-4e6a-a601-1c983ba2156b"
      },
      "source": [
        "`-` 벡터"
      ]
    },
    {
      "cell_type": "code",
      "execution_count": null,
      "id": "3501b056-7453-4904-96cd-d1fdb58bbc37",
      "metadata": {
        "id": "3501b056-7453-4904-96cd-d1fdb58bbc37"
      },
      "outputs": [],
      "source": [
        "_vector=tf.constant([1,2,3])"
      ]
    },
    {
      "cell_type": "code",
      "execution_count": null,
      "id": "489f0cf0-2ca4-4e9c-8d15-8a7d9b907788",
      "metadata": {
        "id": "489f0cf0-2ca4-4e9c-8d15-8a7d9b907788",
        "outputId": "a8f05588-ca01-4f6c-eb70-b874632167e7",
        "colab": {
          "base_uri": "https://localhost:8080/"
        }
      },
      "outputs": [
        {
          "output_type": "execute_result",
          "data": {
            "text/plain": [
              "<tf.Tensor: shape=(), dtype=int32, numpy=3>"
            ]
          },
          "metadata": {},
          "execution_count": 14
        }
      ],
      "source": [
        "_vector[-1]"
      ]
    },
    {
      "cell_type": "markdown",
      "id": "b66e0cca-27d7-4891-89b8-82dee75a0176",
      "metadata": {
        "id": "b66e0cca-27d7-4891-89b8-82dee75a0176"
      },
      "source": [
        "`-` 매트릭스"
      ]
    },
    {
      "cell_type": "code",
      "execution_count": null,
      "id": "2f85c204-a946-4b36-b843-0a46cdefba76",
      "metadata": {
        "id": "2f85c204-a946-4b36-b843-0a46cdefba76",
        "outputId": "9bad4b62-d763-4260-882a-1a60156e38d8",
        "colab": {
          "base_uri": "https://localhost:8080/"
        }
      },
      "outputs": [
        {
          "output_type": "execute_result",
          "data": {
            "text/plain": [
              "<tf.Tensor: shape=(2, 2), dtype=int32, numpy=\n",
              "array([[1, 0],\n",
              "       [0, 1]], dtype=int32)>"
            ]
          },
          "metadata": {},
          "execution_count": 15
        }
      ],
      "source": [
        "_matrix= tf.constant([[1,0],[0,1]])\n",
        "_matrix"
      ]
    },
    {
      "cell_type": "markdown",
      "id": "9707518f-e69e-4734-a1cb-70bbf11697b0",
      "metadata": {
        "id": "9707518f-e69e-4734-a1cb-70bbf11697b0"
      },
      "source": [
        "`-` array"
      ]
    },
    {
      "cell_type": "code",
      "execution_count": null,
      "id": "d1e10f35-6e03-4ca2-8c06-dcb691cde56c",
      "metadata": {
        "id": "d1e10f35-6e03-4ca2-8c06-dcb691cde56c",
        "outputId": "c1d5dbaa-d4ab-4e38-cf9b-c1b002732e8d",
        "colab": {
          "base_uri": "https://localhost:8080/"
        }
      },
      "outputs": [
        {
          "output_type": "execute_result",
          "data": {
            "text/plain": [
              "<tf.Tensor: shape=(2, 2, 3), dtype=int32, numpy=\n",
              "array([[[ 0,  1,  1],\n",
              "        [ 1,  2, -1]],\n",
              "\n",
              "       [[ 0,  1,  2],\n",
              "        [ 1,  2, -1]]], dtype=int32)>"
            ]
          },
          "metadata": {},
          "execution_count": 16
        }
      ],
      "source": [
        "tf.constant([[[0,1,1],[1,2,-1]],[[0,1,2],[1,2,-1]]])"
      ]
    },
    {
      "cell_type": "markdown",
      "id": "db79211f-706f-4388-9e10-6b057ec840fb",
      "metadata": {
        "id": "db79211f-706f-4388-9e10-6b057ec840fb"
      },
      "source": [
        "#### 타입"
      ]
    },
    {
      "cell_type": "code",
      "execution_count": null,
      "id": "6fbb7e42-32dc-452e-97f1-eb8f4cd7e53d",
      "metadata": {
        "id": "6fbb7e42-32dc-452e-97f1-eb8f4cd7e53d",
        "outputId": "74b29fd8-ac6c-4775-98ef-a7bc965c0d8e",
        "colab": {
          "base_uri": "https://localhost:8080/"
        }
      },
      "outputs": [
        {
          "output_type": "execute_result",
          "data": {
            "text/plain": [
              "tensorflow.python.framework.ops.EagerTensor"
            ]
          },
          "metadata": {},
          "execution_count": 18
        }
      ],
      "source": [
        "type(tf.constant(3.14))\n",
        "# EagerTensor??"
      ]
    },
    {
      "cell_type": "markdown",
      "id": "f06b1e19-16d1-4667-b881-5aabf63c84d9",
      "metadata": {
        "id": "f06b1e19-16d1-4667-b881-5aabf63c84d9"
      },
      "source": [
        "#### 인덱싱 "
      ]
    },
    {
      "cell_type": "code",
      "execution_count": null,
      "id": "1843d446-7d13-449a-a49a-f7863d452ef8",
      "metadata": {
        "id": "1843d446-7d13-449a-a49a-f7863d452ef8",
        "outputId": "fe1e5a90-2571-4870-e406-e089ad25ecc5",
        "colab": {
          "base_uri": "https://localhost:8080/"
        }
      },
      "outputs": [
        {
          "output_type": "execute_result",
          "data": {
            "text/plain": [
              "<tf.Tensor: shape=(2, 2), dtype=int32, numpy=\n",
              "array([[1, 2],\n",
              "       [3, 4]], dtype=int32)>"
            ]
          },
          "metadata": {},
          "execution_count": 24
        }
      ],
      "source": [
        "_matrix = tf.constant([[1,2],[3,4]])\n",
        "_matrix"
      ]
    },
    {
      "cell_type": "code",
      "execution_count": null,
      "id": "607a83e5-ac70-407d-9246-8fa650d16e2f",
      "metadata": {
        "id": "607a83e5-ac70-407d-9246-8fa650d16e2f",
        "outputId": "24b044ba-2da2-421c-a5fe-ad63e3fd9eb4",
        "colab": {
          "base_uri": "https://localhost:8080/"
        }
      },
      "outputs": [
        {
          "output_type": "execute_result",
          "data": {
            "text/plain": [
              "<tf.Tensor: shape=(), dtype=int32, numpy=1>"
            ]
          },
          "metadata": {},
          "execution_count": 25
        }
      ],
      "source": [
        "_matrix[0][0]"
      ]
    },
    {
      "cell_type": "code",
      "execution_count": null,
      "id": "0b78e746-e6ac-4d19-a9ea-825abdfbbf28",
      "metadata": {
        "id": "0b78e746-e6ac-4d19-a9ea-825abdfbbf28",
        "outputId": "351686e6-3cf4-4186-bfb3-361b7d65e085",
        "colab": {
          "base_uri": "https://localhost:8080/"
        }
      },
      "outputs": [
        {
          "output_type": "execute_result",
          "data": {
            "text/plain": [
              "<tf.Tensor: shape=(2,), dtype=int32, numpy=array([1, 2], dtype=int32)>"
            ]
          },
          "metadata": {},
          "execution_count": 26
        }
      ],
      "source": [
        "_matrix[0]"
      ]
    },
    {
      "cell_type": "code",
      "execution_count": null,
      "id": "64cc08c4-088c-4e16-9be1-98395e7075b6",
      "metadata": {
        "id": "64cc08c4-088c-4e16-9be1-98395e7075b6",
        "outputId": "1097e394-97e1-455d-96f1-0c5980972fcb",
        "colab": {
          "base_uri": "https://localhost:8080/"
        }
      },
      "outputs": [
        {
          "output_type": "execute_result",
          "data": {
            "text/plain": [
              "<tf.Tensor: shape=(2,), dtype=int32, numpy=array([1, 2], dtype=int32)>"
            ]
          },
          "metadata": {},
          "execution_count": 27
        }
      ],
      "source": [
        "_matrix[0,:]"
      ]
    },
    {
      "cell_type": "code",
      "execution_count": null,
      "id": "1aaa7862-1ccc-4f48-bc0d-191a95ef773b",
      "metadata": {
        "id": "1aaa7862-1ccc-4f48-bc0d-191a95ef773b",
        "outputId": "c9279fdf-d9f0-48d6-e4c2-f369d83d49e4",
        "colab": {
          "base_uri": "https://localhost:8080/"
        }
      },
      "outputs": [
        {
          "output_type": "execute_result",
          "data": {
            "text/plain": [
              "<tf.Tensor: shape=(2,), dtype=int32, numpy=array([1, 3], dtype=int32)>"
            ]
          },
          "metadata": {},
          "execution_count": 28
        }
      ],
      "source": [
        "_matrix[:,0]"
      ]
    },
    {
      "cell_type": "markdown",
      "id": "cebc2e49-6c71-47bf-a884-e8556c3198cf",
      "metadata": {
        "id": "cebc2e49-6c71-47bf-a884-e8556c3198cf"
      },
      "source": [
        "#### tf.constant는 불편하다. "
      ]
    },
    {
      "cell_type": "markdown",
      "id": "3f0d5c88-8aeb-4163-a0e8-a04c26ebd64e",
      "metadata": {
        "id": "3f0d5c88-8aeb-4163-a0e8-a04c26ebd64e"
      },
      "source": [
        "`-` 불편한점\n",
        "1. 모든 원소가 `같은` dtype을 가지고 있어야함. \n",
        "2. `원소 수정`이 `불가능`함. \n",
        "3. 묵시적 형변환이 불가능하다. \n",
        "  - 1+2.3 = 3.3\n",
        "  - 이게 tf.constant에선 안 된다.\n",
        "  - 아래 예시 코드를 살펴보자"
      ]
    },
    {
      "cell_type": "code",
      "source": [
        "1+2.3"
      ],
      "metadata": {
        "id": "pE3tsE4HX2AS",
        "outputId": "c0a53346-12e6-4d79-a293-9ad7863642ac",
        "colab": {
          "base_uri": "https://localhost:8080/"
        }
      },
      "id": "pE3tsE4HX2AS",
      "execution_count": null,
      "outputs": [
        {
          "output_type": "execute_result",
          "data": {
            "text/plain": [
              "3.3"
            ]
          },
          "metadata": {},
          "execution_count": 29
        }
      ]
    },
    {
      "cell_type": "code",
      "source": [
        "# tf.constant(1)+tf.constant(2.3)\n",
        "# error 발생 code\n",
        "\n",
        "# 즉 묵시적 형변환이 되지 않음을 알 수 있다. "
      ],
      "metadata": {
        "id": "SM3ZTqroX5Li"
      },
      "id": "SM3ZTqroX5Li",
      "execution_count": null,
      "outputs": []
    },
    {
      "cell_type": "markdown",
      "id": "665ca8fb-0d51-44cc-aac9-f8884808f78f",
      "metadata": {
        "id": "665ca8fb-0d51-44cc-aac9-f8884808f78f"
      },
      "source": [
        "`-` 원소수정이 불가능함 "
      ]
    },
    {
      "cell_type": "code",
      "execution_count": null,
      "id": "0e82d6a5-9004-44be-b50e-5ffbe8384597",
      "metadata": {
        "id": "0e82d6a5-9004-44be-b50e-5ffbe8384597",
        "outputId": "b5f5f2a3-e133-4b7d-d7f7-7cf471b74ab8",
        "colab": {
          "base_uri": "https://localhost:8080/"
        }
      },
      "outputs": [
        {
          "output_type": "execute_result",
          "data": {
            "text/plain": [
              "<tf.Tensor: shape=(3,), dtype=int32, numpy=array([ 1, 22, 33], dtype=int32)>"
            ]
          },
          "metadata": {},
          "execution_count": 33
        }
      ],
      "source": [
        "a=tf.constant([1,22,33])\n",
        "a"
      ]
    },
    {
      "cell_type": "code",
      "execution_count": null,
      "id": "5fc80571-5c93-498c-bc68-1f7e8c14d238",
      "metadata": {
        "id": "5fc80571-5c93-498c-bc68-1f7e8c14d238"
      },
      "outputs": [],
      "source": [
        "# a[0]=11\n",
        "# error 발생 code\n",
        "\n",
        "# 원래 1이었던 원소는 11로 변경 불가능하다.\n",
        "# tf.constant에서.."
      ]
    },
    {
      "cell_type": "markdown",
      "id": "51f12a82-3ffa-45ea-8718-fd78146a0e62",
      "metadata": {
        "id": "51f12a82-3ffa-45ea-8718-fd78146a0e62"
      },
      "source": [
        "`-` 같은 float도 안되는 경우가 있음 "
      ]
    },
    {
      "cell_type": "code",
      "execution_count": null,
      "id": "c4e854b9-7e32-4322-bb18-7634c6e71b1b",
      "metadata": {
        "id": "c4e854b9-7e32-4322-bb18-7634c6e71b1b",
        "outputId": "019f2219-49ff-49db-a52e-ebf87c7efaed",
        "colab": {
          "base_uri": "https://localhost:8080/"
        }
      },
      "outputs": [
        {
          "output_type": "execute_result",
          "data": {
            "text/plain": [
              "<tf.Tensor: shape=(), dtype=float64, numpy=1.0>"
            ]
          },
          "metadata": {},
          "execution_count": 44
        }
      ],
      "source": [
        "tf.constant(1.0,dtype=tf.float64)\n",
        "# 이건 float64\n",
        "\n",
        "# 원래 tf.constant(1.0)도 float32이지만\n",
        "# float32와 float64가 계산되지 않는다는 것을 설명하기 위해\n",
        "# dtype=float64로 배정해주었음"
      ]
    },
    {
      "cell_type": "code",
      "execution_count": null,
      "id": "71a0d05d-5190-4055-93d7-7c93903ab04a",
      "metadata": {
        "id": "71a0d05d-5190-4055-93d7-7c93903ab04a",
        "outputId": "b34ac1f9-ca23-4175-8886-c9299d2c942c",
        "colab": {
          "base_uri": "https://localhost:8080/"
        }
      },
      "outputs": [
        {
          "output_type": "execute_result",
          "data": {
            "text/plain": [
              "<tf.Tensor: shape=(), dtype=float32, numpy=3.14>"
            ]
          },
          "metadata": {},
          "execution_count": 39
        }
      ],
      "source": [
        "tf.constant(3.14)\n",
        "# 이건 float32\n",
        "\n",
        "# 그래서 float64와 계산이 안 됨"
      ]
    },
    {
      "cell_type": "code",
      "execution_count": null,
      "id": "d95be72f-599e-42bc-a98a-1d39d4deedb2",
      "metadata": {
        "id": "d95be72f-599e-42bc-a98a-1d39d4deedb2",
        "outputId": "ff0f2ce4-105f-406f-c072-983524ec1f0c",
        "colab": {
          "base_uri": "https://localhost:8080/"
        }
      },
      "outputs": [
        {
          "output_type": "execute_result",
          "data": {
            "text/plain": [
              "<tf.Tensor: shape=(), dtype=float32, numpy=4.1400003>"
            ]
          },
          "metadata": {},
          "execution_count": 42
        }
      ],
      "source": [
        "tf.constant(1.0,dtype=tf.float32)+tf.constant(3.14)\n",
        "# 이렇게 바꿔주면 계산이 된다. "
      ]
    },
    {
      "cell_type": "markdown",
      "id": "0f7a75ed-b984-4f27-9440-d57253cb89bd",
      "metadata": {
        "id": "0f7a75ed-b984-4f27-9440-d57253cb89bd"
      },
      "source": [
        "#### tf.constant $\\to$ 넘파이 "
      ]
    },
    {
      "cell_type": "code",
      "execution_count": null,
      "id": "b0f01b69-4a9a-46d3-94f3-5e26bcf48ac8",
      "metadata": {
        "id": "b0f01b69-4a9a-46d3-94f3-5e26bcf48ac8",
        "outputId": "9bc0df92-e148-42bf-f4aa-021f7b68e231",
        "colab": {
          "base_uri": "https://localhost:8080/"
        }
      },
      "outputs": [
        {
          "output_type": "execute_result",
          "data": {
            "text/plain": [
              "array(1, dtype=int32)"
            ]
          },
          "metadata": {},
          "execution_count": 45
        }
      ],
      "source": [
        "np.array(tf.constant(1)) # 방법1"
      ]
    },
    {
      "cell_type": "code",
      "execution_count": null,
      "id": "4e97a26f-6d2b-48d8-aa77-34ad2d2d748a",
      "metadata": {
        "id": "4e97a26f-6d2b-48d8-aa77-34ad2d2d748a",
        "outputId": "4dd28c03-782d-4ebb-f665-2f60e49c873f",
        "colab": {
          "base_uri": "https://localhost:8080/"
        }
      },
      "outputs": [
        {
          "output_type": "execute_result",
          "data": {
            "text/plain": [
              "tensorflow.python.framework.ops.EagerTensor"
            ]
          },
          "metadata": {},
          "execution_count": 47
        }
      ],
      "source": [
        "a=tf.constant([3.14,-3.14])\n",
        "type(a)\n",
        "# EagerTensor"
      ]
    },
    {
      "cell_type": "code",
      "execution_count": null,
      "id": "8dbd0c41-9d05-459c-8347-ea25d92798ba",
      "metadata": {
        "id": "8dbd0c41-9d05-459c-8347-ea25d92798ba",
        "outputId": "7669e662-cdf1-4a12-86a5-3b637664ae51",
        "colab": {
          "base_uri": "https://localhost:8080/"
        }
      },
      "outputs": [
        {
          "output_type": "execute_result",
          "data": {
            "text/plain": [
              "array([ 3.14, -3.14], dtype=float32)"
            ]
          },
          "metadata": {},
          "execution_count": 48
        }
      ],
      "source": [
        "a.numpy()"
      ]
    },
    {
      "cell_type": "code",
      "source": [
        "# 혹은\n",
        "np.array(a)"
      ],
      "metadata": {
        "id": "H_JpaTGmZx86",
        "outputId": "fae4632c-df1b-40fa-d596-e67c965ab757",
        "colab": {
          "base_uri": "https://localhost:8080/"
        }
      },
      "id": "H_JpaTGmZx86",
      "execution_count": null,
      "outputs": [
        {
          "output_type": "execute_result",
          "data": {
            "text/plain": [
              "array([ 3.14, -3.14], dtype=float32)"
            ]
          },
          "metadata": {},
          "execution_count": 49
        }
      ]
    },
    {
      "cell_type": "markdown",
      "id": "b1e11f1e-122d-4de3-95e8-e8eda9dac045",
      "metadata": {
        "tags": [],
        "id": "b1e11f1e-122d-4de3-95e8-e8eda9dac045"
      },
      "source": [
        "#### 연산"
      ]
    },
    {
      "cell_type": "markdown",
      "id": "56d2fe05-93cc-4f76-a9a2-a65db01ee991",
      "metadata": {
        "id": "56d2fe05-93cc-4f76-a9a2-a65db01ee991"
      },
      "source": [
        "`-` 더하기 "
      ]
    },
    {
      "cell_type": "code",
      "execution_count": null,
      "id": "5bb395b3-3a2c-4080-b459-c8c5047ac8ca",
      "metadata": {
        "id": "5bb395b3-3a2c-4080-b459-c8c5047ac8ca",
        "outputId": "2c9834d7-6131-43af-fc49-798285b29cce",
        "colab": {
          "base_uri": "https://localhost:8080/"
        }
      },
      "outputs": [
        {
          "output_type": "execute_result",
          "data": {
            "text/plain": [
              "<tf.Tensor: shape=(2,), dtype=int32, numpy=array([4, 6], dtype=int32)>"
            ]
          },
          "metadata": {},
          "execution_count": 50
        }
      ],
      "source": [
        "a=tf.constant([1,2])\n",
        "b=tf.constant([3,4])\n",
        "a+b\n",
        "# numpy처럼 원소별 덧셈이 가능하다. "
      ]
    },
    {
      "cell_type": "code",
      "execution_count": null,
      "id": "a84a265f-58ca-4bda-9dc0-33c6bacacb74",
      "metadata": {
        "id": "a84a265f-58ca-4bda-9dc0-33c6bacacb74",
        "outputId": "f83bfcba-d16f-4f65-f3c4-d8f0a4d7e480",
        "colab": {
          "base_uri": "https://localhost:8080/"
        }
      },
      "outputs": [
        {
          "output_type": "execute_result",
          "data": {
            "text/plain": [
              "<tf.Tensor: shape=(2, 2), dtype=int32, numpy=\n",
              "array([[ 6,  8],\n",
              "       [10, 12]], dtype=int32)>"
            ]
          },
          "metadata": {},
          "execution_count": 54
        }
      ],
      "source": [
        "tf.add(a,b)\n",
        "# 덧셈 method"
      ]
    },
    {
      "cell_type": "markdown",
      "id": "0b637dbb-e313-47de-be58-3a42a6e2c512",
      "metadata": {
        "id": "0b637dbb-e313-47de-be58-3a42a6e2c512"
      },
      "source": [
        "`-` 곱하기"
      ]
    },
    {
      "cell_type": "code",
      "execution_count": null,
      "id": "76906234-6425-4e99-b7a9-21a9b6d102a2",
      "metadata": {
        "id": "76906234-6425-4e99-b7a9-21a9b6d102a2",
        "outputId": "0270d5c4-53c5-4213-9a10-a9ae6f6ab628",
        "colab": {
          "base_uri": "https://localhost:8080/"
        }
      },
      "outputs": [
        {
          "output_type": "execute_result",
          "data": {
            "text/plain": [
              "<tf.Tensor: shape=(2, 2), dtype=int32, numpy=\n",
              "array([[ 5, 12],\n",
              "       [21, 32]], dtype=int32)>"
            ]
          },
          "metadata": {},
          "execution_count": 55
        }
      ],
      "source": [
        "a=tf.constant([[1,2],[3,4]])\n",
        "b=tf.constant([[5,6],[7,8]])\n",
        "a*b"
      ]
    },
    {
      "cell_type": "code",
      "execution_count": null,
      "id": "d1cd1de9-0b9f-4c06-bb57-4254e69e037b",
      "metadata": {
        "id": "d1cd1de9-0b9f-4c06-bb57-4254e69e037b",
        "outputId": "5f2bf51c-ad54-4986-ad6b-6fb636cc9499",
        "colab": {
          "base_uri": "https://localhost:8080/"
        }
      },
      "outputs": [
        {
          "output_type": "execute_result",
          "data": {
            "text/plain": [
              "<tf.Tensor: shape=(2, 2), dtype=int32, numpy=\n",
              "array([[ 5, 12],\n",
              "       [21, 32]], dtype=int32)>"
            ]
          },
          "metadata": {},
          "execution_count": 56
        }
      ],
      "source": [
        "tf.multiply(a,b)\n",
        "# 곱셈 method"
      ]
    },
    {
      "cell_type": "markdown",
      "id": "dd0e6699-39bd-4eeb-b862-8af0ce5a652d",
      "metadata": {
        "id": "dd0e6699-39bd-4eeb-b862-8af0ce5a652d"
      },
      "source": [
        "`-` 매트릭스의곱 "
      ]
    },
    {
      "cell_type": "code",
      "execution_count": null,
      "id": "3c5621f7-b27e-4958-8e42-06265a8ccf9a",
      "metadata": {
        "id": "3c5621f7-b27e-4958-8e42-06265a8ccf9a",
        "outputId": "ea5357fc-6adb-455f-f6a2-c17b3f4f207a",
        "colab": {
          "base_uri": "https://localhost:8080/"
        }
      },
      "outputs": [
        {
          "output_type": "execute_result",
          "data": {
            "text/plain": [
              "<tf.Tensor: shape=(2, 1), dtype=int32, numpy=\n",
              "array([[5],\n",
              "       [7]], dtype=int32)>"
            ]
          },
          "metadata": {},
          "execution_count": 58
        }
      ],
      "source": [
        "a=tf.constant([[1,0],[0,1]]) # (2,2)\n",
        "b=tf.constant([[5],[7]]) # (2,1) \n",
        "a@b #  2 by 1 "
      ]
    },
    {
      "cell_type": "code",
      "execution_count": null,
      "id": "77e8f14a-0413-4c3f-9eef-00cc202eb62b",
      "metadata": {
        "id": "77e8f14a-0413-4c3f-9eef-00cc202eb62b",
        "outputId": "3f76706c-a5c4-4a6c-8f07-b806961eb79e",
        "colab": {
          "base_uri": "https://localhost:8080/"
        }
      },
      "outputs": [
        {
          "output_type": "execute_result",
          "data": {
            "text/plain": [
              "<tf.Tensor: shape=(2, 1), dtype=int32, numpy=\n",
              "array([[5],\n",
              "       [7]], dtype=int32)>"
            ]
          },
          "metadata": {},
          "execution_count": 59
        }
      ],
      "source": [
        "tf.matmul(a,b)\n",
        "# 행렬곱 method"
      ]
    },
    {
      "cell_type": "markdown",
      "id": "686c844e-6813-4f14-95c9-8d1aad8231bf",
      "metadata": {
        "id": "686c844e-6813-4f14-95c9-8d1aad8231bf"
      },
      "source": [
        "`-` 역행렬 "
      ]
    },
    {
      "cell_type": "code",
      "execution_count": null,
      "id": "507fbd44-d03c-4454-aabb-bd330ffcb4f2",
      "metadata": {
        "id": "507fbd44-d03c-4454-aabb-bd330ffcb4f2",
        "outputId": "4f5db5fb-463c-4e7a-924e-15595083b4d1",
        "colab": {
          "base_uri": "https://localhost:8080/"
        }
      },
      "outputs": [
        {
          "output_type": "execute_result",
          "data": {
            "text/plain": [
              "<tf.Tensor: shape=(2, 2), dtype=int32, numpy=\n",
              "array([[1, 0],\n",
              "       [0, 2]], dtype=int32)>"
            ]
          },
          "metadata": {},
          "execution_count": 60
        }
      ],
      "source": [
        "a=tf.constant([[1,0],[0,2]])\n",
        "a"
      ]
    },
    {
      "cell_type": "code",
      "execution_count": null,
      "id": "3affc7b8-de95-44f7-9872-4b6fafe08787",
      "metadata": {
        "id": "3affc7b8-de95-44f7-9872-4b6fafe08787"
      },
      "outputs": [],
      "source": [
        "# tf.linalg.inv(a)\n",
        "\n",
        "# error 발생 float으로 바꾸어줘야 한다.\n",
        "# dtype=tf.float32\n",
        "# dtype=tf.float64\n",
        "# 둘다 가능하다."
      ]
    },
    {
      "cell_type": "code",
      "execution_count": null,
      "id": "f22b4b87-8c65-4c98-872b-e75a0d4bc03d",
      "metadata": {
        "id": "f22b4b87-8c65-4c98-872b-e75a0d4bc03d",
        "outputId": "e5088052-f62f-4f1a-9e99-a0b5f2249e0e",
        "colab": {
          "base_uri": "https://localhost:8080/"
        }
      },
      "outputs": [
        {
          "output_type": "execute_result",
          "data": {
            "text/plain": [
              "<tf.Tensor: shape=(2, 2), dtype=float64, numpy=\n",
              "array([[1. , 0. ],\n",
              "       [0. , 0.5]])>"
            ]
          },
          "metadata": {},
          "execution_count": 68
        }
      ],
      "source": [
        "a=tf.constant([[1.0,0.0],[0.0,2.0]], dtype=tf.float64)\n",
        "tf.linalg.inv(a)"
      ]
    },
    {
      "cell_type": "markdown",
      "id": "a27f0b2c-1218-447f-aa1d-a8ae55b67e5c",
      "metadata": {
        "id": "a27f0b2c-1218-447f-aa1d-a8ae55b67e5c"
      },
      "source": [
        "`-` `tf.linalg.` + `tab`을 누르면 좋아보이는 연산들 많음 "
      ]
    },
    {
      "cell_type": "code",
      "execution_count": null,
      "id": "8c4cd06c-73f2-4e82-bfd0-55438ee2a5de",
      "metadata": {
        "id": "8c4cd06c-73f2-4e82-bfd0-55438ee2a5de",
        "outputId": "b0528970-479e-4b75-ecd4-8d384341173d",
        "colab": {
          "base_uri": "https://localhost:8080/"
        }
      },
      "outputs": [
        {
          "output_type": "stream",
          "name": "stdout",
          "text": [
            "tf.Tensor(\n",
            "[[1. 2.]\n",
            " [3. 4.]], shape=(2, 2), dtype=float32)\n"
          ]
        }
      ],
      "source": [
        "a=tf.constant([[1.0,2.0],[3.0,4.0]])\n",
        "print(a)"
      ]
    },
    {
      "cell_type": "code",
      "source": [
        "tf.linalg.det(a)\n",
        "# 행렬식"
      ],
      "metadata": {
        "id": "t4uzcf1sbAEy",
        "outputId": "c7a548bd-b163-4b78-a7fd-5636e5385849",
        "colab": {
          "base_uri": "https://localhost:8080/"
        }
      },
      "id": "t4uzcf1sbAEy",
      "execution_count": null,
      "outputs": [
        {
          "output_type": "execute_result",
          "data": {
            "text/plain": [
              "<tf.Tensor: shape=(), dtype=float32, numpy=-2.0>"
            ]
          },
          "metadata": {},
          "execution_count": 72
        }
      ]
    },
    {
      "cell_type": "code",
      "execution_count": null,
      "id": "dc33a91b-fc0e-49f9-b9ee-8c098f84e662",
      "metadata": {
        "id": "dc33a91b-fc0e-49f9-b9ee-8c098f84e662",
        "outputId": "30d153e0-0ced-47b6-f723-9339f335e8f3",
        "colab": {
          "base_uri": "https://localhost:8080/"
        }
      },
      "outputs": [
        {
          "output_type": "execute_result",
          "data": {
            "text/plain": [
              "<tf.Tensor: shape=(), dtype=float32, numpy=5.0>"
            ]
          },
          "metadata": {},
          "execution_count": 74
        }
      ],
      "source": [
        "tf.linalg.trace(a)\n",
        "# 대각합"
      ]
    },
    {
      "cell_type": "markdown",
      "id": "36eb6964-8d92-469c-b4fd-5e9ae19bf9af",
      "metadata": {
        "tags": [],
        "id": "36eb6964-8d92-469c-b4fd-5e9ae19bf9af"
      },
      "source": [
        "#### 형태변환"
      ]
    },
    {
      "cell_type": "markdown",
      "id": "9c1dee18-c09a-423c-bff2-ab18dbe79071",
      "metadata": {
        "id": "9c1dee18-c09a-423c-bff2-ab18dbe79071"
      },
      "source": [
        "`-` 기본: tf.reshape() 를 이용"
      ]
    },
    {
      "cell_type": "code",
      "execution_count": null,
      "id": "07db8721-4087-47a5-8b73-15f1c64eb65f",
      "metadata": {
        "id": "07db8721-4087-47a5-8b73-15f1c64eb65f",
        "outputId": "a3ba3349-b1ca-42d4-c085-a74abe1f34f7",
        "colab": {
          "base_uri": "https://localhost:8080/"
        }
      },
      "outputs": [
        {
          "output_type": "execute_result",
          "data": {
            "text/plain": [
              "<tf.Tensor: shape=(4,), dtype=int32, numpy=array([1, 2, 3, 4], dtype=int32)>"
            ]
          },
          "metadata": {},
          "execution_count": 87
        }
      ],
      "source": [
        "a=tf.constant([1,2,3,4])\n",
        "# row-vector\n",
        "a"
      ]
    },
    {
      "cell_type": "code",
      "execution_count": null,
      "id": "5ef2a9f3-c54a-4d8e-9291-ae57d0d4741f",
      "metadata": {
        "id": "5ef2a9f3-c54a-4d8e-9291-ae57d0d4741f",
        "outputId": "7f742f7d-91b8-4fd6-dfb5-c6461166281e",
        "colab": {
          "base_uri": "https://localhost:8080/"
        }
      },
      "outputs": [
        {
          "output_type": "execute_result",
          "data": {
            "text/plain": [
              "<tf.Tensor: shape=(4, 1), dtype=int32, numpy=\n",
              "array([[1],\n",
              "       [2],\n",
              "       [3],\n",
              "       [4]], dtype=int32)>"
            ]
          },
          "metadata": {},
          "execution_count": 88
        }
      ],
      "source": [
        "tf.reshape(a,(4,1))\n",
        "# col-vector로 변경"
      ]
    },
    {
      "cell_type": "code",
      "execution_count": null,
      "id": "9354e52f-40e9-45a1-b4e9-abdd7bf14ef7",
      "metadata": {
        "id": "9354e52f-40e9-45a1-b4e9-abdd7bf14ef7",
        "outputId": "e0e5fe30-30b7-47ff-aced-83ea1c793f0f",
        "colab": {
          "base_uri": "https://localhost:8080/"
        }
      },
      "outputs": [
        {
          "output_type": "execute_result",
          "data": {
            "text/plain": [
              "<tf.Tensor: shape=(2, 2), dtype=int32, numpy=\n",
              "array([[1, 2],\n",
              "       [3, 4]], dtype=int32)>"
            ]
          },
          "metadata": {},
          "execution_count": 89
        }
      ],
      "source": [
        "tf.reshape(a,(2,2))"
      ]
    },
    {
      "cell_type": "code",
      "execution_count": null,
      "id": "de9bb009-a2e2-413e-9be1-44775fdd2357",
      "metadata": {
        "id": "de9bb009-a2e2-413e-9be1-44775fdd2357",
        "outputId": "f239edbf-f009-4395-a6e6-f4dca6bb9a7a",
        "colab": {
          "base_uri": "https://localhost:8080/"
        }
      },
      "outputs": [
        {
          "output_type": "execute_result",
          "data": {
            "text/plain": [
              "<tf.Tensor: shape=(2, 2, 1), dtype=int32, numpy=\n",
              "array([[[1],\n",
              "        [2]],\n",
              "\n",
              "       [[3],\n",
              "        [4]]], dtype=int32)>"
            ]
          },
          "metadata": {},
          "execution_count": 90
        }
      ],
      "source": [
        "tf.reshape(a,(2,2,1))\n",
        "# 3차원?"
      ]
    },
    {
      "cell_type": "markdown",
      "id": "b6ae5c1a-d0e3-46a2-81c0-520f2bbea0f7",
      "metadata": {
        "id": "b6ae5c1a-d0e3-46a2-81c0-520f2bbea0f7"
      },
      "source": [
        "`-` 다차원"
      ]
    },
    {
      "cell_type": "code",
      "execution_count": null,
      "id": "dcec2dd7-8da3-4feb-9dce-895047ab3033",
      "metadata": {
        "id": "dcec2dd7-8da3-4feb-9dce-895047ab3033",
        "outputId": "10facd48-987e-4c7e-839d-dd1d7f3fc5b0",
        "colab": {
          "base_uri": "https://localhost:8080/"
        }
      },
      "outputs": [
        {
          "output_type": "execute_result",
          "data": {
            "text/plain": [
              "<tf.Tensor: shape=(12,), dtype=int32, numpy=array([ 1,  2,  3,  4,  5,  6,  7,  8,  9, 10, 11, 12], dtype=int32)>"
            ]
          },
          "metadata": {},
          "execution_count": 91
        }
      ],
      "source": [
        "a=tf.constant([1,2,3,4,5,6,7,8,9,10,11,12])\n",
        "a"
      ]
    },
    {
      "cell_type": "code",
      "execution_count": null,
      "id": "cf51544b-013b-4d58-a961-89c99318dbe2",
      "metadata": {
        "id": "cf51544b-013b-4d58-a961-89c99318dbe2",
        "outputId": "c987de1e-bc68-42f4-f66e-6f9dc262be02",
        "colab": {
          "base_uri": "https://localhost:8080/"
        }
      },
      "outputs": [
        {
          "output_type": "execute_result",
          "data": {
            "text/plain": [
              "<tf.Tensor: shape=(3, 2, 2), dtype=int32, numpy=\n",
              "array([[[ 1,  2],\n",
              "        [ 3,  4]],\n",
              "\n",
              "       [[ 5,  6],\n",
              "        [ 7,  8]],\n",
              "\n",
              "       [[ 9, 10],\n",
              "        [11, 12]]], dtype=int32)>"
            ]
          },
          "metadata": {},
          "execution_count": 93
        }
      ],
      "source": [
        "tf.reshape(a,(3,2,2))\n",
        "# 3차원?"
      ]
    },
    {
      "cell_type": "code",
      "execution_count": null,
      "id": "6ee27b0d-be41-45a7-8b2f-28d10b285703",
      "metadata": {
        "id": "6ee27b0d-be41-45a7-8b2f-28d10b285703",
        "outputId": "edf54915-fffe-407b-ef3a-5b443458eb37",
        "colab": {
          "base_uri": "https://localhost:8080/"
        }
      },
      "outputs": [
        {
          "output_type": "execute_result",
          "data": {
            "text/plain": [
              "<tf.Tensor: shape=(4, 3), dtype=int32, numpy=\n",
              "array([[ 1,  2,  3],\n",
              "       [ 4,  5,  6],\n",
              "       [ 7,  8,  9],\n",
              "       [10, 11, 12]], dtype=int32)>"
            ]
          },
          "metadata": {},
          "execution_count": 94
        }
      ],
      "source": [
        "tf.reshape(a,(4,3))"
      ]
    },
    {
      "cell_type": "markdown",
      "id": "d832a7c4-123f-48a9-9ae3-01042fa92593",
      "metadata": {
        "id": "d832a7c4-123f-48a9-9ae3-01042fa92593"
      },
      "source": [
        "`-` tf.resh"
      ]
    },
    {
      "cell_type": "code",
      "execution_count": null,
      "id": "43f908fd-6bca-47da-91f3-26e6185cfa6b",
      "metadata": {
        "id": "43f908fd-6bca-47da-91f3-26e6185cfa6b",
        "outputId": "27dffc23-d7c7-42da-a418-5478f2771b3a",
        "colab": {
          "base_uri": "https://localhost:8080/"
        }
      },
      "outputs": [
        {
          "output_type": "execute_result",
          "data": {
            "text/plain": [
              "<tf.Tensor: shape=(12,), dtype=int32, numpy=array([ 1,  2,  3,  4,  5,  6,  7,  8,  9, 10, 11, 12], dtype=int32)>"
            ]
          },
          "metadata": {},
          "execution_count": 95
        }
      ],
      "source": [
        "a=tf.constant([1,2,3,4,5,6,7,8,9,10,11,12])\n",
        "a"
      ]
    },
    {
      "cell_type": "code",
      "execution_count": null,
      "id": "90f10eb0-1e82-49e6-a3ee-f731ec1f72a5",
      "metadata": {
        "id": "90f10eb0-1e82-49e6-a3ee-f731ec1f72a5",
        "outputId": "7877dc41-f9ab-4abc-b71c-38a7888aea60",
        "colab": {
          "base_uri": "https://localhost:8080/"
        }
      },
      "outputs": [
        {
          "output_type": "execute_result",
          "data": {
            "text/plain": [
              "<tf.Tensor: shape=(4, 3), dtype=int32, numpy=\n",
              "array([[ 1,  2,  3],\n",
              "       [ 4,  5,  6],\n",
              "       [ 7,  8,  9],\n",
              "       [10, 11, 12]], dtype=int32)>"
            ]
          },
          "metadata": {},
          "execution_count": 98
        }
      ],
      "source": [
        "tf.reshape(a,(4,-1))\n",
        "# 4행으로 만들 건데~ 그게 몇열이 될지는 모르겠어~"
      ]
    },
    {
      "cell_type": "code",
      "execution_count": null,
      "id": "04e750b1-5421-4211-8528-5aba29b14e5d",
      "metadata": {
        "id": "04e750b1-5421-4211-8528-5aba29b14e5d",
        "outputId": "f5b43453-150b-4754-eff3-e4f9c4149847",
        "colab": {
          "base_uri": "https://localhost:8080/"
        }
      },
      "outputs": [
        {
          "output_type": "execute_result",
          "data": {
            "text/plain": [
              "<tf.Tensor: shape=(2, 2, 3), dtype=int32, numpy=\n",
              "array([[[ 1,  2,  3],\n",
              "        [ 4,  5,  6]],\n",
              "\n",
              "       [[ 7,  8,  9],\n",
              "        [10, 11, 12]]], dtype=int32)>"
            ]
          },
          "metadata": {},
          "execution_count": 99
        }
      ],
      "source": [
        "tf.reshape(a,(2,2,-1))\n",
        "# 일단 3차원으로 만들긴 할 건데~\n",
        "# 일단 2행이고~\n",
        "# 그럼 열은 어떻게 될진 모르겠으니 알아서 계산해~"
      ]
    },
    {
      "cell_type": "code",
      "execution_count": null,
      "id": "df4aabe7-0aa0-40b0-b871-bb9c3fb774c8",
      "metadata": {
        "id": "df4aabe7-0aa0-40b0-b871-bb9c3fb774c8",
        "outputId": "5385ff83-55b0-4bee-9999-fde7f5c531f8",
        "colab": {
          "base_uri": "https://localhost:8080/"
        }
      },
      "outputs": [
        {
          "output_type": "execute_result",
          "data": {
            "text/plain": [
              "<tf.Tensor: shape=(2, 2, 3), dtype=int32, numpy=\n",
              "array([[[ 1,  2,  3],\n",
              "        [ 4,  5,  6]],\n",
              "\n",
              "       [[ 7,  8,  9],\n",
              "        [10, 11, 12]]], dtype=int32)>"
            ]
          },
          "metadata": {},
          "execution_count": 101
        }
      ],
      "source": [
        "b=tf.reshape(a,(2,2,-1))\n",
        "b"
      ]
    },
    {
      "cell_type": "code",
      "execution_count": null,
      "id": "eda38fc5-f863-42fe-9d15-223ff98d6974",
      "metadata": {
        "id": "eda38fc5-f863-42fe-9d15-223ff98d6974",
        "outputId": "25dd8cd2-5b7c-461e-95ab-305c810717ee",
        "colab": {
          "base_uri": "https://localhost:8080/"
        }
      },
      "outputs": [
        {
          "output_type": "execute_result",
          "data": {
            "text/plain": [
              "<tf.Tensor: shape=(12,), dtype=int32, numpy=array([ 1,  2,  3,  4,  5,  6,  7,  8,  9, 10, 11, 12], dtype=int32)>"
            ]
          },
          "metadata": {},
          "execution_count": 105
        }
      ],
      "source": [
        "tf.reshape(b,-1)\n",
        "# row-vector"
      ]
    },
    {
      "cell_type": "markdown",
      "id": "327eb735-9f41-40d5-8837-1ff630860b58",
      "metadata": {
        "id": "327eb735-9f41-40d5-8837-1ff630860b58"
      },
      "source": [
        "#### 선언고급 "
      ]
    },
    {
      "cell_type": "markdown",
      "id": "78a276fe-ebf1-481d-9f3e-c887e233f6f2",
      "metadata": {
        "id": "78a276fe-ebf1-481d-9f3e-c887e233f6f2"
      },
      "source": [
        "`-` 다른 자료형 (리스트나 넘파이)로 만들고 바꾸는것도 좋다."
      ]
    },
    {
      "cell_type": "code",
      "execution_count": null,
      "id": "9185ab7c-7458-447c-9bb8-7b158bd68f53",
      "metadata": {
        "id": "9185ab7c-7458-447c-9bb8-7b158bd68f53",
        "outputId": "b8051c36-1433-46bf-fac7-ba32e66594a6",
        "colab": {
          "base_uri": "https://localhost:8080/"
        }
      },
      "outputs": [
        {
          "output_type": "execute_result",
          "data": {
            "text/plain": [
              "array([[1, 0, 0, 0],\n",
              "       [0, 2, 0, 0],\n",
              "       [0, 0, 3, 0],\n",
              "       [0, 0, 0, 4]])"
            ]
          },
          "metadata": {},
          "execution_count": 106
        }
      ],
      "source": [
        "np.diag([1,2,3,4])\n",
        "# 대각행렬"
      ]
    },
    {
      "cell_type": "code",
      "execution_count": null,
      "id": "f9be760f-aca3-4771-b857-49ccd36c1bdd",
      "metadata": {
        "id": "f9be760f-aca3-4771-b857-49ccd36c1bdd",
        "outputId": "142282de-0b76-42f1-ec44-589795b47526",
        "colab": {
          "base_uri": "https://localhost:8080/"
        }
      },
      "outputs": [
        {
          "output_type": "execute_result",
          "data": {
            "text/plain": [
              "<tf.Tensor: shape=(4, 4), dtype=int64, numpy=\n",
              "array([[1, 0, 0, 0],\n",
              "       [0, 2, 0, 0],\n",
              "       [0, 0, 3, 0],\n",
              "       [0, 0, 0, 4]])>"
            ]
          },
          "metadata": {},
          "execution_count": 108
        }
      ],
      "source": [
        "tf.constant(np.diag([1,2,3,4]))\n",
        "# np => tf.constant"
      ]
    },
    {
      "cell_type": "markdown",
      "id": "bc7ff27a-5296-437a-afe9-1ed94ec680b5",
      "metadata": {
        "id": "bc7ff27a-5296-437a-afe9-1ed94ec680b5"
      },
      "source": [
        "`-` tf.ones, tf.zeros"
      ]
    },
    {
      "cell_type": "code",
      "execution_count": null,
      "id": "60158e48-431a-4a32-97f2-2f20826e6b21",
      "metadata": {
        "id": "60158e48-431a-4a32-97f2-2f20826e6b21",
        "outputId": "c8e85520-509a-48ef-b7b9-837bb900fee8",
        "colab": {
          "base_uri": "https://localhost:8080/"
        }
      },
      "outputs": [
        {
          "output_type": "execute_result",
          "data": {
            "text/plain": [
              "<tf.Tensor: shape=(3, 3), dtype=float32, numpy=\n",
              "array([[0., 0., 0.],\n",
              "       [0., 0., 0.],\n",
              "       [0., 0., 0.]], dtype=float32)>"
            ]
          },
          "metadata": {},
          "execution_count": 109
        }
      ],
      "source": [
        "tf.zeros([3,3])"
      ]
    },
    {
      "cell_type": "code",
      "execution_count": null,
      "id": "198bc334-ad60-4169-ba4c-a34004214040",
      "metadata": {
        "id": "198bc334-ad60-4169-ba4c-a34004214040",
        "outputId": "19bd213a-2394-4f29-833c-51216bf342ba",
        "colab": {
          "base_uri": "https://localhost:8080/"
        }
      },
      "outputs": [
        {
          "output_type": "execute_result",
          "data": {
            "text/plain": [
              "<tf.Tensor: shape=(3, 3), dtype=int32, numpy=\n",
              "array([[0, 0, 0],\n",
              "       [0, 0, 0],\n",
              "       [0, 0, 0]], dtype=int32)>"
            ]
          },
          "metadata": {},
          "execution_count": 110
        }
      ],
      "source": [
        "tf.reshape(tf.constant([0]*9),(3,3))"
      ]
    },
    {
      "cell_type": "markdown",
      "id": "1eb6b6bb-a2b3-4b8c-bd0b-d4aa701a1fa3",
      "metadata": {
        "id": "1eb6b6bb-a2b3-4b8c-bd0b-d4aa701a1fa3"
      },
      "source": [
        "`-` range(10) "
      ]
    },
    {
      "cell_type": "code",
      "execution_count": null,
      "id": "20340c4c-c619-42b6-9001-c0b26a26f5b9",
      "metadata": {
        "id": "20340c4c-c619-42b6-9001-c0b26a26f5b9",
        "outputId": "bca2e64a-dea2-4ffb-ca05-c9bb3a2f3e80",
        "colab": {
          "base_uri": "https://localhost:8080/"
        }
      },
      "outputs": [
        {
          "output_type": "execute_result",
          "data": {
            "text/plain": [
              "<tf.Tensor: shape=(12,), dtype=int32, numpy=array([ 0,  1,  2,  3,  4,  5,  6,  7,  8,  9, 10, 11], dtype=int32)>"
            ]
          },
          "metadata": {},
          "execution_count": 111
        }
      ],
      "source": [
        "a=range(0,12)\n",
        "tf.constant(a)"
      ]
    },
    {
      "cell_type": "code",
      "execution_count": null,
      "id": "84e1cdd1-d2e2-4f23-8a20-28943d3c3562",
      "metadata": {
        "id": "84e1cdd1-d2e2-4f23-8a20-28943d3c3562",
        "outputId": "498f7561-0831-49c7-bc7a-f2aca7ae353b",
        "colab": {
          "base_uri": "https://localhost:8080/"
        }
      },
      "outputs": [
        {
          "output_type": "execute_result",
          "data": {
            "text/plain": [
              "<tf.Tensor: shape=(7,), dtype=int32, numpy=array([ 1,  4,  7, 10, 13, 16, 19], dtype=int32)>"
            ]
          },
          "metadata": {},
          "execution_count": 112
        }
      ],
      "source": [
        "tf.constant(range(1,20,3)) "
      ]
    },
    {
      "cell_type": "markdown",
      "id": "233cc1ed-5fc2-4174-985b-a3f18815436b",
      "metadata": {
        "id": "233cc1ed-5fc2-4174-985b-a3f18815436b"
      },
      "source": [
        "`-` tf.linspace"
      ]
    },
    {
      "cell_type": "code",
      "execution_count": null,
      "id": "74a8c861-e0cb-47d5-bd01-9bc40bb55191",
      "metadata": {
        "id": "74a8c861-e0cb-47d5-bd01-9bc40bb55191",
        "outputId": "0d481f1e-278d-4634-cf96-cd4b7ffd16f2",
        "colab": {
          "base_uri": "https://localhost:8080/"
        }
      },
      "outputs": [
        {
          "output_type": "execute_result",
          "data": {
            "text/plain": [
              "<tf.Tensor: shape=(10,), dtype=float64, numpy=\n",
              "array([0.        , 0.11111111, 0.22222222, 0.33333333, 0.44444444,\n",
              "       0.55555556, 0.66666667, 0.77777778, 0.88888889, 1.        ])>"
            ]
          },
          "metadata": {},
          "execution_count": 113
        }
      ],
      "source": [
        "tf.linspace(0,1,10)"
      ]
    },
    {
      "cell_type": "markdown",
      "id": "2d0f27b7-688e-437a-856a-7ebb6d6a4a27",
      "metadata": {
        "id": "2d0f27b7-688e-437a-856a-7ebb6d6a4a27"
      },
      "source": [
        "#### tf.concat "
      ]
    },
    {
      "cell_type": "markdown",
      "id": "9d24bcf0-7c14-499c-9647-bd48451c7765",
      "metadata": {
        "id": "9d24bcf0-7c14-499c-9647-bd48451c7765"
      },
      "source": [
        "`-` (2,1) concat (2,1) => (2,2)\n",
        "- 두번째 축이 바뀌었다. => axis=1로 설정해주면 된다"
      ]
    },
    {
      "cell_type": "code",
      "execution_count": null,
      "id": "6637263c-4d2c-4902-b609-2c1d043c7f51",
      "metadata": {
        "id": "6637263c-4d2c-4902-b609-2c1d043c7f51",
        "outputId": "9bd80f71-0ffb-4296-fe5a-d33f33df2f50",
        "colab": {
          "base_uri": "https://localhost:8080/"
        }
      },
      "outputs": [
        {
          "output_type": "execute_result",
          "data": {
            "text/plain": [
              "(<tf.Tensor: shape=(2, 1), dtype=int32, numpy=\n",
              " array([[1],\n",
              "        [2]], dtype=int32)>, <tf.Tensor: shape=(2, 1), dtype=int32, numpy=\n",
              " array([[3],\n",
              "        [4]], dtype=int32)>)"
            ]
          },
          "metadata": {},
          "execution_count": 114
        }
      ],
      "source": [
        "a=tf.constant([[1],[2]]) # 2 by 1\n",
        "b=tf.constant([[3],[4]]) # 2 by 1\n",
        "a,b"
      ]
    },
    {
      "cell_type": "code",
      "execution_count": null,
      "id": "e14c479a-b757-437e-aa6c-b4ec195ccef9",
      "metadata": {
        "id": "e14c479a-b757-437e-aa6c-b4ec195ccef9",
        "outputId": "877e27d5-0169-4f19-80bd-00ede55743fe",
        "colab": {
          "base_uri": "https://localhost:8080/"
        }
      },
      "outputs": [
        {
          "output_type": "execute_result",
          "data": {
            "text/plain": [
              "<tf.Tensor: shape=(2, 2), dtype=int32, numpy=\n",
              "array([[1, 3],\n",
              "       [2, 4]], dtype=int32)>"
            ]
          },
          "metadata": {},
          "execution_count": 115
        }
      ],
      "source": [
        "tf.concat([a,b],axis=1)"
      ]
    },
    {
      "cell_type": "markdown",
      "id": "bc88c9f5-df4b-420d-9fe7-40a51de2e92f",
      "metadata": {
        "id": "bc88c9f5-df4b-420d-9fe7-40a51de2e92f"
      },
      "source": [
        "`-` (2,1) concat (2,1) => (4,1)\n",
        "- 첫번째 축이 바뀌었다. => axis=0로 설정해주면 된다\n",
        "- 아래로 쌓는다고 생각해주면 된다"
      ]
    },
    {
      "cell_type": "code",
      "execution_count": null,
      "id": "c9303d28-e105-40cd-845e-48b88350a2c3",
      "metadata": {
        "id": "c9303d28-e105-40cd-845e-48b88350a2c3",
        "outputId": "78565ac7-9848-40f1-9f89-a58bdd3a8d32",
        "colab": {
          "base_uri": "https://localhost:8080/"
        }
      },
      "outputs": [
        {
          "output_type": "execute_result",
          "data": {
            "text/plain": [
              "(<tf.Tensor: shape=(2, 1), dtype=int32, numpy=\n",
              " array([[1],\n",
              "        [2]], dtype=int32)>, <tf.Tensor: shape=(2, 1), dtype=int32, numpy=\n",
              " array([[3],\n",
              "        [4]], dtype=int32)>)"
            ]
          },
          "metadata": {},
          "execution_count": 122
        }
      ],
      "source": [
        "a=tf.constant([[1],[2]])\n",
        "b=tf.constant([[3],[4]])\n",
        "a,b"
      ]
    },
    {
      "cell_type": "code",
      "execution_count": null,
      "id": "93574aad-a592-45cd-bdac-2f2b93d1ca4e",
      "metadata": {
        "id": "93574aad-a592-45cd-bdac-2f2b93d1ca4e",
        "outputId": "b7a620a7-d4e1-46e8-84dd-e13a99566708",
        "colab": {
          "base_uri": "https://localhost:8080/"
        }
      },
      "outputs": [
        {
          "output_type": "execute_result",
          "data": {
            "text/plain": [
              "<tf.Tensor: shape=(4, 1), dtype=int32, numpy=\n",
              "array([[1],\n",
              "       [2],\n",
              "       [3],\n",
              "       [4]], dtype=int32)>"
            ]
          },
          "metadata": {},
          "execution_count": 124
        }
      ],
      "source": [
        "tf.concat([a,b],axis=0)"
      ]
    },
    {
      "cell_type": "markdown",
      "id": "f1515d99-1a9a-426d-acb3-860df3076552",
      "metadata": {
        "id": "f1515d99-1a9a-426d-acb3-860df3076552"
      },
      "source": [
        "`-` (1,2) concat (1,2) => (2,2) \n",
        "- 첫번째 // axis=0"
      ]
    },
    {
      "cell_type": "code",
      "execution_count": null,
      "id": "e95c64f4-e416-49e4-8a1d-c50f74965470",
      "metadata": {
        "id": "e95c64f4-e416-49e4-8a1d-c50f74965470"
      },
      "outputs": [],
      "source": [
        "a=tf.constant([[1,2]])\n",
        "b=tf.constant([[3,4]])"
      ]
    },
    {
      "cell_type": "code",
      "execution_count": null,
      "id": "9c23f461-7340-444b-9fba-a105e8b37961",
      "metadata": {
        "id": "9c23f461-7340-444b-9fba-a105e8b37961",
        "outputId": "fd7ac6ce-8587-4dd5-e4ee-f998b3fdf5df",
        "colab": {
          "base_uri": "https://localhost:8080/"
        }
      },
      "outputs": [
        {
          "output_type": "execute_result",
          "data": {
            "text/plain": [
              "<tf.Tensor: shape=(2, 2), dtype=int32, numpy=\n",
              "array([[1, 2],\n",
              "       [3, 4]], dtype=int32)>"
            ]
          },
          "metadata": {},
          "execution_count": 126
        }
      ],
      "source": [
        "tf.concat([a,b],axis=0)"
      ]
    },
    {
      "cell_type": "markdown",
      "id": "2ff3f9de-d9e6-4091-a0f8-ce4eed1f6a9f",
      "metadata": {
        "id": "2ff3f9de-d9e6-4091-a0f8-ce4eed1f6a9f"
      },
      "source": [
        "`-` (1,2) concat (1,2) => (1,4) \n",
        "- 첫번째 // axis=0"
      ]
    },
    {
      "cell_type": "markdown",
      "id": "38ce37d2-d9a5-4544-b33c-392b0f7d36d9",
      "metadata": {
        "id": "38ce37d2-d9a5-4544-b33c-392b0f7d36d9"
      },
      "source": [
        "`-` (2,3,4,5) concat (2,3,4,5) => (4,3,4,5) \n",
        "- 첫번째 // axis=0"
      ]
    },
    {
      "cell_type": "code",
      "execution_count": null,
      "id": "8f250340-fd33-48ef-86aa-153f0fc23968",
      "metadata": {
        "id": "8f250340-fd33-48ef-86aa-153f0fc23968"
      },
      "outputs": [],
      "source": [
        "a=tf.reshape(tf.constant(range(120)),(2,3,4,5))\n",
        "b=-a"
      ]
    },
    {
      "cell_type": "code",
      "execution_count": null,
      "id": "31591041-8fed-4367-bc21-515bf830578b",
      "metadata": {
        "id": "31591041-8fed-4367-bc21-515bf830578b",
        "outputId": "f10977f0-6353-44cc-d30e-55da715fec0b",
        "colab": {
          "base_uri": "https://localhost:8080/"
        }
      },
      "outputs": [
        {
          "output_type": "execute_result",
          "data": {
            "text/plain": [
              "<tf.Tensor: shape=(4, 3, 4, 5), dtype=int32, numpy=\n",
              "array([[[[   0,    1,    2,    3,    4],\n",
              "         [   5,    6,    7,    8,    9],\n",
              "         [  10,   11,   12,   13,   14],\n",
              "         [  15,   16,   17,   18,   19]],\n",
              "\n",
              "        [[  20,   21,   22,   23,   24],\n",
              "         [  25,   26,   27,   28,   29],\n",
              "         [  30,   31,   32,   33,   34],\n",
              "         [  35,   36,   37,   38,   39]],\n",
              "\n",
              "        [[  40,   41,   42,   43,   44],\n",
              "         [  45,   46,   47,   48,   49],\n",
              "         [  50,   51,   52,   53,   54],\n",
              "         [  55,   56,   57,   58,   59]]],\n",
              "\n",
              "\n",
              "       [[[  60,   61,   62,   63,   64],\n",
              "         [  65,   66,   67,   68,   69],\n",
              "         [  70,   71,   72,   73,   74],\n",
              "         [  75,   76,   77,   78,   79]],\n",
              "\n",
              "        [[  80,   81,   82,   83,   84],\n",
              "         [  85,   86,   87,   88,   89],\n",
              "         [  90,   91,   92,   93,   94],\n",
              "         [  95,   96,   97,   98,   99]],\n",
              "\n",
              "        [[ 100,  101,  102,  103,  104],\n",
              "         [ 105,  106,  107,  108,  109],\n",
              "         [ 110,  111,  112,  113,  114],\n",
              "         [ 115,  116,  117,  118,  119]]],\n",
              "\n",
              "\n",
              "       [[[   0,   -1,   -2,   -3,   -4],\n",
              "         [  -5,   -6,   -7,   -8,   -9],\n",
              "         [ -10,  -11,  -12,  -13,  -14],\n",
              "         [ -15,  -16,  -17,  -18,  -19]],\n",
              "\n",
              "        [[ -20,  -21,  -22,  -23,  -24],\n",
              "         [ -25,  -26,  -27,  -28,  -29],\n",
              "         [ -30,  -31,  -32,  -33,  -34],\n",
              "         [ -35,  -36,  -37,  -38,  -39]],\n",
              "\n",
              "        [[ -40,  -41,  -42,  -43,  -44],\n",
              "         [ -45,  -46,  -47,  -48,  -49],\n",
              "         [ -50,  -51,  -52,  -53,  -54],\n",
              "         [ -55,  -56,  -57,  -58,  -59]]],\n",
              "\n",
              "\n",
              "       [[[ -60,  -61,  -62,  -63,  -64],\n",
              "         [ -65,  -66,  -67,  -68,  -69],\n",
              "         [ -70,  -71,  -72,  -73,  -74],\n",
              "         [ -75,  -76,  -77,  -78,  -79]],\n",
              "\n",
              "        [[ -80,  -81,  -82,  -83,  -84],\n",
              "         [ -85,  -86,  -87,  -88,  -89],\n",
              "         [ -90,  -91,  -92,  -93,  -94],\n",
              "         [ -95,  -96,  -97,  -98,  -99]],\n",
              "\n",
              "        [[-100, -101, -102, -103, -104],\n",
              "         [-105, -106, -107, -108, -109],\n",
              "         [-110, -111, -112, -113, -114],\n",
              "         [-115, -116, -117, -118, -119]]]], dtype=int32)>"
            ]
          },
          "metadata": {},
          "execution_count": 130
        }
      ],
      "source": [
        "tf.concat([a,b],axis=0)\n",
        "# 아래로 쌓기"
      ]
    },
    {
      "cell_type": "markdown",
      "id": "0f85fe76-300e-44cb-9911-431594e89b21",
      "metadata": {
        "id": "0f85fe76-300e-44cb-9911-431594e89b21"
      },
      "source": [
        "`-` (2,3,4,5) concat (2,3,4,5) => (2,6,4,5) \n",
        "- 두번째 // axis=1"
      ]
    },
    {
      "cell_type": "code",
      "execution_count": null,
      "id": "fe2075cd-aa38-494d-8b3a-1156e3c40e6a",
      "metadata": {
        "id": "fe2075cd-aa38-494d-8b3a-1156e3c40e6a"
      },
      "outputs": [],
      "source": [
        "a=tf.reshape(tf.constant(range(120)),(2,3,4,5))\n",
        "b=-a"
      ]
    },
    {
      "cell_type": "code",
      "execution_count": null,
      "id": "a59f627a-3423-4b9b-962a-7869f500ec2f",
      "metadata": {
        "id": "a59f627a-3423-4b9b-962a-7869f500ec2f",
        "outputId": "deba129f-8a5c-4183-ff04-c0f724134bc1",
        "colab": {
          "base_uri": "https://localhost:8080/"
        }
      },
      "outputs": [
        {
          "output_type": "execute_result",
          "data": {
            "text/plain": [
              "<tf.Tensor: shape=(2, 6, 4, 5), dtype=int32, numpy=\n",
              "array([[[[   0,    1,    2,    3,    4],\n",
              "         [   5,    6,    7,    8,    9],\n",
              "         [  10,   11,   12,   13,   14],\n",
              "         [  15,   16,   17,   18,   19]],\n",
              "\n",
              "        [[  20,   21,   22,   23,   24],\n",
              "         [  25,   26,   27,   28,   29],\n",
              "         [  30,   31,   32,   33,   34],\n",
              "         [  35,   36,   37,   38,   39]],\n",
              "\n",
              "        [[  40,   41,   42,   43,   44],\n",
              "         [  45,   46,   47,   48,   49],\n",
              "         [  50,   51,   52,   53,   54],\n",
              "         [  55,   56,   57,   58,   59]],\n",
              "\n",
              "        [[   0,   -1,   -2,   -3,   -4],\n",
              "         [  -5,   -6,   -7,   -8,   -9],\n",
              "         [ -10,  -11,  -12,  -13,  -14],\n",
              "         [ -15,  -16,  -17,  -18,  -19]],\n",
              "\n",
              "        [[ -20,  -21,  -22,  -23,  -24],\n",
              "         [ -25,  -26,  -27,  -28,  -29],\n",
              "         [ -30,  -31,  -32,  -33,  -34],\n",
              "         [ -35,  -36,  -37,  -38,  -39]],\n",
              "\n",
              "        [[ -40,  -41,  -42,  -43,  -44],\n",
              "         [ -45,  -46,  -47,  -48,  -49],\n",
              "         [ -50,  -51,  -52,  -53,  -54],\n",
              "         [ -55,  -56,  -57,  -58,  -59]]],\n",
              "\n",
              "\n",
              "       [[[  60,   61,   62,   63,   64],\n",
              "         [  65,   66,   67,   68,   69],\n",
              "         [  70,   71,   72,   73,   74],\n",
              "         [  75,   76,   77,   78,   79]],\n",
              "\n",
              "        [[  80,   81,   82,   83,   84],\n",
              "         [  85,   86,   87,   88,   89],\n",
              "         [  90,   91,   92,   93,   94],\n",
              "         [  95,   96,   97,   98,   99]],\n",
              "\n",
              "        [[ 100,  101,  102,  103,  104],\n",
              "         [ 105,  106,  107,  108,  109],\n",
              "         [ 110,  111,  112,  113,  114],\n",
              "         [ 115,  116,  117,  118,  119]],\n",
              "\n",
              "        [[ -60,  -61,  -62,  -63,  -64],\n",
              "         [ -65,  -66,  -67,  -68,  -69],\n",
              "         [ -70,  -71,  -72,  -73,  -74],\n",
              "         [ -75,  -76,  -77,  -78,  -79]],\n",
              "\n",
              "        [[ -80,  -81,  -82,  -83,  -84],\n",
              "         [ -85,  -86,  -87,  -88,  -89],\n",
              "         [ -90,  -91,  -92,  -93,  -94],\n",
              "         [ -95,  -96,  -97,  -98,  -99]],\n",
              "\n",
              "        [[-100, -101, -102, -103, -104],\n",
              "         [-105, -106, -107, -108, -109],\n",
              "         [-110, -111, -112, -113, -114],\n",
              "         [-115, -116, -117, -118, -119]]]], dtype=int32)>"
            ]
          },
          "metadata": {},
          "execution_count": 132
        }
      ],
      "source": [
        "tf.concat([a,b],axis=1)"
      ]
    },
    {
      "cell_type": "markdown",
      "id": "aad1526d-1ac1-4f00-871d-1985f51c7df8",
      "metadata": {
        "id": "aad1526d-1ac1-4f00-871d-1985f51c7df8"
      },
      "source": [
        "`-` (2,3,4,5) concat (2,3,4,5) => (2,3,8,5) \n",
        "- 세번째 // axis=2"
      ]
    },
    {
      "cell_type": "code",
      "execution_count": null,
      "id": "156589da-05fc-469e-b498-468c0936f9ad",
      "metadata": {
        "id": "156589da-05fc-469e-b498-468c0936f9ad"
      },
      "outputs": [],
      "source": [
        "a=tf.reshape(tf.constant(range(120)),(2,3,4,5))\n",
        "b=-a"
      ]
    },
    {
      "cell_type": "code",
      "execution_count": null,
      "id": "92c131ed-8ec8-4143-b55c-35c6d8efe323",
      "metadata": {
        "id": "92c131ed-8ec8-4143-b55c-35c6d8efe323",
        "outputId": "84679bbd-f8ae-498d-b0b4-bf0109f58c03",
        "colab": {
          "base_uri": "https://localhost:8080/"
        }
      },
      "outputs": [
        {
          "output_type": "execute_result",
          "data": {
            "text/plain": [
              "<tf.Tensor: shape=(2, 3, 8, 5), dtype=int32, numpy=\n",
              "array([[[[   0,    1,    2,    3,    4],\n",
              "         [   5,    6,    7,    8,    9],\n",
              "         [  10,   11,   12,   13,   14],\n",
              "         [  15,   16,   17,   18,   19],\n",
              "         [   0,   -1,   -2,   -3,   -4],\n",
              "         [  -5,   -6,   -7,   -8,   -9],\n",
              "         [ -10,  -11,  -12,  -13,  -14],\n",
              "         [ -15,  -16,  -17,  -18,  -19]],\n",
              "\n",
              "        [[  20,   21,   22,   23,   24],\n",
              "         [  25,   26,   27,   28,   29],\n",
              "         [  30,   31,   32,   33,   34],\n",
              "         [  35,   36,   37,   38,   39],\n",
              "         [ -20,  -21,  -22,  -23,  -24],\n",
              "         [ -25,  -26,  -27,  -28,  -29],\n",
              "         [ -30,  -31,  -32,  -33,  -34],\n",
              "         [ -35,  -36,  -37,  -38,  -39]],\n",
              "\n",
              "        [[  40,   41,   42,   43,   44],\n",
              "         [  45,   46,   47,   48,   49],\n",
              "         [  50,   51,   52,   53,   54],\n",
              "         [  55,   56,   57,   58,   59],\n",
              "         [ -40,  -41,  -42,  -43,  -44],\n",
              "         [ -45,  -46,  -47,  -48,  -49],\n",
              "         [ -50,  -51,  -52,  -53,  -54],\n",
              "         [ -55,  -56,  -57,  -58,  -59]]],\n",
              "\n",
              "\n",
              "       [[[  60,   61,   62,   63,   64],\n",
              "         [  65,   66,   67,   68,   69],\n",
              "         [  70,   71,   72,   73,   74],\n",
              "         [  75,   76,   77,   78,   79],\n",
              "         [ -60,  -61,  -62,  -63,  -64],\n",
              "         [ -65,  -66,  -67,  -68,  -69],\n",
              "         [ -70,  -71,  -72,  -73,  -74],\n",
              "         [ -75,  -76,  -77,  -78,  -79]],\n",
              "\n",
              "        [[  80,   81,   82,   83,   84],\n",
              "         [  85,   86,   87,   88,   89],\n",
              "         [  90,   91,   92,   93,   94],\n",
              "         [  95,   96,   97,   98,   99],\n",
              "         [ -80,  -81,  -82,  -83,  -84],\n",
              "         [ -85,  -86,  -87,  -88,  -89],\n",
              "         [ -90,  -91,  -92,  -93,  -94],\n",
              "         [ -95,  -96,  -97,  -98,  -99]],\n",
              "\n",
              "        [[ 100,  101,  102,  103,  104],\n",
              "         [ 105,  106,  107,  108,  109],\n",
              "         [ 110,  111,  112,  113,  114],\n",
              "         [ 115,  116,  117,  118,  119],\n",
              "         [-100, -101, -102, -103, -104],\n",
              "         [-105, -106, -107, -108, -109],\n",
              "         [-110, -111, -112, -113, -114],\n",
              "         [-115, -116, -117, -118, -119]]]], dtype=int32)>"
            ]
          },
          "metadata": {},
          "execution_count": 134
        }
      ],
      "source": [
        "tf.concat([a,b],axis=2)"
      ]
    },
    {
      "cell_type": "markdown",
      "id": "9f65a127-51cb-40e3-b526-5f41a84248f8",
      "metadata": {
        "id": "9f65a127-51cb-40e3-b526-5f41a84248f8"
      },
      "source": [
        "`-` (2,3,4,5) concat (2,3,4,5) => (2,3,4,10) \n",
        "- 네번째 // axis=3 # 0,1,2,3 // -4 -3 -2 -1"
      ]
    },
    {
      "cell_type": "code",
      "execution_count": null,
      "id": "d59cf9ac-67c7-4931-be01-8f1432b2d4d5",
      "metadata": {
        "id": "d59cf9ac-67c7-4931-be01-8f1432b2d4d5"
      },
      "outputs": [],
      "source": [
        "a=tf.reshape(tf.constant(range(120)),(2,3,4,5))\n",
        "b=-a"
      ]
    },
    {
      "cell_type": "code",
      "execution_count": null,
      "id": "050efe1d-9744-4b7c-93b5-ab92f01191e4",
      "metadata": {
        "id": "050efe1d-9744-4b7c-93b5-ab92f01191e4",
        "outputId": "23507bff-7b9d-4fca-e763-91753086fd39",
        "colab": {
          "base_uri": "https://localhost:8080/"
        }
      },
      "outputs": [
        {
          "output_type": "execute_result",
          "data": {
            "text/plain": [
              "<tf.Tensor: shape=(2, 3, 4, 10), dtype=int32, numpy=\n",
              "array([[[[   0,    1,    2,    3,    4,    0,   -1,   -2,   -3,   -4],\n",
              "         [   5,    6,    7,    8,    9,   -5,   -6,   -7,   -8,   -9],\n",
              "         [  10,   11,   12,   13,   14,  -10,  -11,  -12,  -13,  -14],\n",
              "         [  15,   16,   17,   18,   19,  -15,  -16,  -17,  -18,  -19]],\n",
              "\n",
              "        [[  20,   21,   22,   23,   24,  -20,  -21,  -22,  -23,  -24],\n",
              "         [  25,   26,   27,   28,   29,  -25,  -26,  -27,  -28,  -29],\n",
              "         [  30,   31,   32,   33,   34,  -30,  -31,  -32,  -33,  -34],\n",
              "         [  35,   36,   37,   38,   39,  -35,  -36,  -37,  -38,  -39]],\n",
              "\n",
              "        [[  40,   41,   42,   43,   44,  -40,  -41,  -42,  -43,  -44],\n",
              "         [  45,   46,   47,   48,   49,  -45,  -46,  -47,  -48,  -49],\n",
              "         [  50,   51,   52,   53,   54,  -50,  -51,  -52,  -53,  -54],\n",
              "         [  55,   56,   57,   58,   59,  -55,  -56,  -57,  -58,  -59]]],\n",
              "\n",
              "\n",
              "       [[[  60,   61,   62,   63,   64,  -60,  -61,  -62,  -63,  -64],\n",
              "         [  65,   66,   67,   68,   69,  -65,  -66,  -67,  -68,  -69],\n",
              "         [  70,   71,   72,   73,   74,  -70,  -71,  -72,  -73,  -74],\n",
              "         [  75,   76,   77,   78,   79,  -75,  -76,  -77,  -78,  -79]],\n",
              "\n",
              "        [[  80,   81,   82,   83,   84,  -80,  -81,  -82,  -83,  -84],\n",
              "         [  85,   86,   87,   88,   89,  -85,  -86,  -87,  -88,  -89],\n",
              "         [  90,   91,   92,   93,   94,  -90,  -91,  -92,  -93,  -94],\n",
              "         [  95,   96,   97,   98,   99,  -95,  -96,  -97,  -98,  -99]],\n",
              "\n",
              "        [[ 100,  101,  102,  103,  104, -100, -101, -102, -103, -104],\n",
              "         [ 105,  106,  107,  108,  109, -105, -106, -107, -108, -109],\n",
              "         [ 110,  111,  112,  113,  114, -110, -111, -112, -113, -114],\n",
              "         [ 115,  116,  117,  118,  119, -115, -116, -117, -118, -119]]]],\n",
              "      dtype=int32)>"
            ]
          },
          "metadata": {},
          "execution_count": 136
        }
      ],
      "source": [
        "\n",
        "tf.concat([a,b],axis=-1)"
      ]
    },
    {
      "cell_type": "markdown",
      "id": "acd955d0-8df1-43cb-8b93-c5aa6e884575",
      "metadata": {
        "id": "acd955d0-8df1-43cb-8b93-c5aa6e884575"
      },
      "source": [
        "`-` (4,) concat (4,) => (8,)\n",
        "- 첫번째축? // axis=0"
      ]
    },
    {
      "cell_type": "code",
      "execution_count": null,
      "id": "45a1cc9b-d2a1-4896-9f10-384896f3e2e8",
      "metadata": {
        "id": "45a1cc9b-d2a1-4896-9f10-384896f3e2e8",
        "outputId": "f8b3a5cc-2843-43b3-9e4b-ecb9b608742f",
        "colab": {
          "base_uri": "https://localhost:8080/"
        }
      },
      "outputs": [
        {
          "output_type": "execute_result",
          "data": {
            "text/plain": [
              "(<tf.Tensor: shape=(4,), dtype=int32, numpy=array([1, 2, 3, 4], dtype=int32)>,\n",
              " <tf.Tensor: shape=(4,), dtype=int32, numpy=array([-1, -2, -3, -4], dtype=int32)>)"
            ]
          },
          "metadata": {},
          "execution_count": 137
        }
      ],
      "source": [
        "a=tf.constant([1,2,3,4]) # row-vector\n",
        "b=-a \n",
        "a,b"
      ]
    },
    {
      "cell_type": "code",
      "execution_count": null,
      "id": "b2f99383-354f-4c41-a6e4-f624b303acc4",
      "metadata": {
        "id": "b2f99383-354f-4c41-a6e4-f624b303acc4",
        "outputId": "c5abc607-cabc-4e3b-ce50-25c05c8837ae",
        "colab": {
          "base_uri": "https://localhost:8080/"
        }
      },
      "outputs": [
        {
          "output_type": "execute_result",
          "data": {
            "text/plain": [
              "<tf.Tensor: shape=(8,), dtype=int32, numpy=array([ 1,  2,  3,  4, -1, -2, -3, -4], dtype=int32)>"
            ]
          },
          "metadata": {},
          "execution_count": 138
        }
      ],
      "source": [
        "tf.concat([a,b],axis=0)"
      ]
    },
    {
      "cell_type": "markdown",
      "id": "9919a953-60c7-4318-b9bc-a75506223688",
      "metadata": {
        "id": "9919a953-60c7-4318-b9bc-a75506223688"
      },
      "source": [
        "`-` (4,) concat (4,) => (4,2) \n",
        "- 두번째축? // axis=1 ==> 이런거없다.."
      ]
    },
    {
      "cell_type": "code",
      "execution_count": null,
      "id": "02794bf8-bdbe-48d9-ad75-f3035e884cc8",
      "metadata": {
        "id": "02794bf8-bdbe-48d9-ad75-f3035e884cc8",
        "outputId": "e4499cfa-e95a-4d33-f6ff-e6923630df1b",
        "colab": {
          "base_uri": "https://localhost:8080/"
        }
      },
      "outputs": [
        {
          "output_type": "execute_result",
          "data": {
            "text/plain": [
              "(<tf.Tensor: shape=(4,), dtype=int32, numpy=array([1, 2, 3, 4], dtype=int32)>,\n",
              " <tf.Tensor: shape=(4,), dtype=int32, numpy=array([-1, -2, -3, -4], dtype=int32)>)"
            ]
          },
          "metadata": {},
          "execution_count": 139
        }
      ],
      "source": [
        "a=tf.constant([1,2,3,4])\n",
        "b=-a \n",
        "a,b"
      ]
    },
    {
      "cell_type": "code",
      "execution_count": null,
      "id": "0ee1d090-7481-4a45-9e43-01783dc1583d",
      "metadata": {
        "id": "0ee1d090-7481-4a45-9e43-01783dc1583d"
      },
      "outputs": [],
      "source": [
        "# tf.concat([a,b],axis=1)\n",
        "# error code"
      ]
    },
    {
      "cell_type": "markdown",
      "id": "fd8402bf-ccef-414e-a574-22524b02b593",
      "metadata": {
        "id": "fd8402bf-ccef-414e-a574-22524b02b593"
      },
      "source": [
        "#### tf.stack "
      ]
    },
    {
      "cell_type": "code",
      "execution_count": null,
      "id": "e1915563-830b-447e-9cab-a2b8263529ea",
      "metadata": {
        "id": "e1915563-830b-447e-9cab-a2b8263529ea",
        "outputId": "972f0109-2e64-4282-c088-cf9235c09ee9",
        "colab": {
          "base_uri": "https://localhost:8080/"
        }
      },
      "outputs": [
        {
          "output_type": "execute_result",
          "data": {
            "text/plain": [
              "(<tf.Tensor: shape=(4,), dtype=int32, numpy=array([1, 2, 3, 4], dtype=int32)>,\n",
              " <tf.Tensor: shape=(4,), dtype=int32, numpy=array([-1, -2, -3, -4], dtype=int32)>)"
            ]
          },
          "metadata": {},
          "execution_count": 141
        }
      ],
      "source": [
        "a=tf.constant([1,2,3,4])\n",
        "b=-a \n",
        "a,b"
      ]
    },
    {
      "cell_type": "code",
      "execution_count": null,
      "id": "e156bea0-cfa3-4f93-9773-aff0101a46be",
      "metadata": {
        "id": "e156bea0-cfa3-4f93-9773-aff0101a46be",
        "outputId": "1bd23a03-2da4-4613-e275-0e4ab19767e5",
        "colab": {
          "base_uri": "https://localhost:8080/"
        }
      },
      "outputs": [
        {
          "output_type": "execute_result",
          "data": {
            "text/plain": [
              "<tf.Tensor: shape=(2, 4), dtype=int32, numpy=\n",
              "array([[ 1,  2,  3,  4],\n",
              "       [-1, -2, -3, -4]], dtype=int32)>"
            ]
          },
          "metadata": {},
          "execution_count": 142
        }
      ],
      "source": [
        "tf.stack([a,b],axis=0)"
      ]
    },
    {
      "cell_type": "code",
      "execution_count": null,
      "id": "9a2389a3-47da-4567-893b-15a9568d6277",
      "metadata": {
        "id": "9a2389a3-47da-4567-893b-15a9568d6277",
        "outputId": "811d3ac4-fbc0-4099-e54c-b4b36c8ee8a4",
        "colab": {
          "base_uri": "https://localhost:8080/"
        }
      },
      "outputs": [
        {
          "output_type": "execute_result",
          "data": {
            "text/plain": [
              "<tf.Tensor: shape=(4, 2), dtype=int32, numpy=\n",
              "array([[ 1, -1],\n",
              "       [ 2, -2],\n",
              "       [ 3, -3],\n",
              "       [ 4, -4]], dtype=int32)>"
            ]
          },
          "metadata": {},
          "execution_count": 143
        }
      ],
      "source": [
        "tf.stack([a,b],axis=1)"
      ]
    },
    {
      "cell_type": "markdown",
      "id": "d314cfb7-f3f1-496d-b5cb-ac6f57eaa503",
      "metadata": {
        "id": "d314cfb7-f3f1-496d-b5cb-ac6f57eaa503"
      },
      "source": [
        "### tnp"
      ]
    },
    {
      "cell_type": "markdown",
      "id": "6cc24d34-a9db-445a-82a8-f0e8ab7372d5",
      "metadata": {
        "id": "6cc24d34-a9db-445a-82a8-f0e8ab7372d5"
      },
      "source": [
        "`-` tf는 넘파이에 비하여 텐서만들기가 너무힘듬 "
      ]
    },
    {
      "cell_type": "code",
      "execution_count": null,
      "id": "2d8d64ab-b1cf-44dd-bd96-089ae64d41e4",
      "metadata": {
        "id": "2d8d64ab-b1cf-44dd-bd96-089ae64d41e4",
        "outputId": "e26cead1-77be-4642-aa79-165c1449f90d",
        "colab": {
          "base_uri": "https://localhost:8080/"
        }
      },
      "outputs": [
        {
          "output_type": "execute_result",
          "data": {
            "text/plain": [
              "array([1, 0, 0, 0, 2, 0, 0, 0, 3])"
            ]
          },
          "metadata": {},
          "execution_count": 144
        }
      ],
      "source": [
        "np.diag([1,2,3]).reshape(-1)"
      ]
    },
    {
      "cell_type": "markdown",
      "id": "28cb4a1a-d8b9-43e3-83bc-9603cb290c25",
      "metadata": {
        "id": "28cb4a1a-d8b9-43e3-83bc-9603cb290c25"
      },
      "source": [
        "- 넘파이는 이런식으로 `np.diag()`도 쓸수 있고 reshape을 메소드로 쓸 수도 있는데... \n",
        "  - tf는 변수 지정해주고 다음 단계로 넘겨서 reshape을 했어야 했음"
      ]
    },
    {
      "cell_type": "markdown",
      "id": "de010dbc-4294-4a4f-a861-c13799fe1eb6",
      "metadata": {
        "id": "de010dbc-4294-4a4f-a861-c13799fe1eb6"
      },
      "source": [
        "#### tnp 사용방법 (불만해결방법)"
      ]
    },
    {
      "cell_type": "code",
      "execution_count": null,
      "id": "7da47e02-6e20-4988-a300-6248e8969472",
      "metadata": {
        "id": "7da47e02-6e20-4988-a300-6248e8969472"
      },
      "outputs": [],
      "source": [
        "import tensorflow.experimental.numpy as tnp\n",
        "tnp.experimental_enable_numpy_behavior()"
      ]
    },
    {
      "cell_type": "code",
      "execution_count": null,
      "id": "be506db8-700b-4a5b-ba39-c6a46d809eb0",
      "metadata": {
        "id": "be506db8-700b-4a5b-ba39-c6a46d809eb0",
        "outputId": "f0fc0efe-25c2-4b69-9563-cd605c719877",
        "colab": {
          "base_uri": "https://localhost:8080/"
        }
      },
      "outputs": [
        {
          "output_type": "execute_result",
          "data": {
            "text/plain": [
              "tensorflow.python.framework.ops.EagerTensor"
            ]
          },
          "metadata": {},
          "execution_count": 146
        }
      ],
      "source": [
        "type(tnp.array([1,2,3]))"
      ]
    },
    {
      "cell_type": "markdown",
      "id": "6f802adc-e72e-4cbc-98b1-1568af58c29d",
      "metadata": {
        "id": "6f802adc-e72e-4cbc-98b1-1568af58c29d"
      },
      "source": [
        "`-` int와 float을 더할 수 있음\n",
        "  - 즉, 묵시적 형변환이 가능하다"
      ]
    },
    {
      "cell_type": "code",
      "execution_count": null,
      "id": "dd6414b7-33d3-4fda-9d5f-ec6451db05e4",
      "metadata": {
        "id": "dd6414b7-33d3-4fda-9d5f-ec6451db05e4",
        "outputId": "19fdd8dd-28eb-46ee-e89c-66adb841b93a",
        "colab": {
          "base_uri": "https://localhost:8080/"
        }
      },
      "outputs": [
        {
          "output_type": "execute_result",
          "data": {
            "text/plain": [
              "<tf.Tensor: shape=(3,), dtype=float64, numpy=array([2., 4., 6.])>"
            ]
          },
          "metadata": {},
          "execution_count": 148
        }
      ],
      "source": [
        "tnp.array([1,2,3])+tnp.array([1.0,2.0,3.0])"
      ]
    },
    {
      "cell_type": "code",
      "execution_count": null,
      "id": "369c0c5a-f87c-412a-b959-7837e0b9c1db",
      "metadata": {
        "id": "369c0c5a-f87c-412a-b959-7837e0b9c1db",
        "outputId": "7501f3a0-cda6-479d-bca9-a78ce28e4523",
        "colab": {
          "base_uri": "https://localhost:8080/"
        }
      },
      "outputs": [
        {
          "output_type": "execute_result",
          "data": {
            "text/plain": [
              "<tf.Tensor: shape=(3,), dtype=float64, numpy=array([2., 4., 6.])>"
            ]
          },
          "metadata": {},
          "execution_count": 149
        }
      ],
      "source": [
        "tf.constant([1,2,3])+tf.constant([1.0,2.0,3.0])"
      ]
    },
    {
      "cell_type": "code",
      "execution_count": null,
      "id": "9a091e68-2ac3-42ec-b97e-bd908e7917a4",
      "metadata": {
        "id": "9a091e68-2ac3-42ec-b97e-bd908e7917a4",
        "outputId": "8fb252c8-e161-4a62-95af-63720e72f17a",
        "colab": {
          "base_uri": "https://localhost:8080/"
        }
      },
      "outputs": [
        {
          "output_type": "execute_result",
          "data": {
            "text/plain": [
              "<tf.Tensor: shape=(3,), dtype=float64, numpy=array([2., 3., 4.])>"
            ]
          },
          "metadata": {},
          "execution_count": 150
        }
      ],
      "source": [
        "tnp.array(1)+tnp.array([1.0,2.0,3.0])"
      ]
    },
    {
      "cell_type": "code",
      "execution_count": null,
      "id": "7f1bb98a-f10b-47b2-8557-6dc4c352e5d2",
      "metadata": {
        "id": "7f1bb98a-f10b-47b2-8557-6dc4c352e5d2",
        "outputId": "4cef10ae-d7b9-4690-be04-f9a30c4ff179",
        "colab": {
          "base_uri": "https://localhost:8080/"
        }
      },
      "outputs": [
        {
          "output_type": "execute_result",
          "data": {
            "text/plain": [
              "<tf.Tensor: shape=(3, 3), dtype=int64, numpy=\n",
              "array([[1, 0, 0],\n",
              "       [0, 2, 0],\n",
              "       [0, 0, 3]])>"
            ]
          },
          "metadata": {},
          "execution_count": 151
        }
      ],
      "source": [
        "tnp.diag([1,2,3])"
      ]
    },
    {
      "cell_type": "code",
      "execution_count": null,
      "id": "f0e851cc-5833-4e60-ab4f-2c88af9d05be",
      "metadata": {
        "id": "f0e851cc-5833-4e60-ab4f-2c88af9d05be",
        "outputId": "29adf73b-423c-4b2d-856a-b59aec761b24",
        "colab": {
          "base_uri": "https://localhost:8080/"
        }
      },
      "outputs": [
        {
          "output_type": "execute_result",
          "data": {
            "text/plain": [
              "tensorflow.python.framework.ops.EagerTensor"
            ]
          },
          "metadata": {},
          "execution_count": 153
        }
      ],
      "source": [
        "a=tnp.diag([1,2,3])\n",
        "type(a)\n",
        "# EagerTensor??"
      ]
    },
    {
      "cell_type": "code",
      "execution_count": null,
      "id": "6f016b73-b45c-4579-8c40-0ed16e9690e3",
      "metadata": {
        "id": "6f016b73-b45c-4579-8c40-0ed16e9690e3",
        "outputId": "6988e085-6f15-4473-b2e5-4be4e90fa6ed",
        "colab": {
          "base_uri": "https://localhost:8080/"
        }
      },
      "outputs": [
        {
          "output_type": "execute_result",
          "data": {
            "text/plain": [
              "<tf.Tensor: shape=(3, 1), dtype=int32, numpy=\n",
              "array([[1],\n",
              "       [2],\n",
              "       [3]], dtype=int32)>"
            ]
          },
          "metadata": {},
          "execution_count": 156
        }
      ],
      "source": [
        "a=tf.constant([1,2,3])\n",
        "a.reshape(3,1)\n",
        "# 이렇게 넘파이처럼 메서드를 쓸 수 있게 되었다. \n",
        "# tnp.experimental_enable_numpy_behavior() 덕분"
      ]
    },
    {
      "cell_type": "markdown",
      "id": "a7e4538a-52ff-4f84-8ac9-5381e0970fef",
      "metadata": {
        "id": "a7e4538a-52ff-4f84-8ac9-5381e0970fef"
      },
      "source": [
        "#### 선언고급"
      ]
    },
    {
      "cell_type": "code",
      "execution_count": null,
      "id": "aa230a41-46e4-42ec-8313-ca9a65af9b5e",
      "metadata": {
        "id": "aa230a41-46e4-42ec-8313-ca9a65af9b5e",
        "outputId": "21c7b833-cfbf-46ff-f568-ad2485239486",
        "colab": {
          "base_uri": "https://localhost:8080/"
        }
      },
      "outputs": [
        {
          "output_type": "execute_result",
          "data": {
            "text/plain": [
              "array([ 0.49319663,  2.75517893, -1.43131833,  1.05555047,  0.3142022 ])"
            ]
          },
          "metadata": {},
          "execution_count": 157
        }
      ],
      "source": [
        "np.random.randn(5)"
      ]
    },
    {
      "cell_type": "code",
      "execution_count": null,
      "id": "75831108-494d-4257-9bb3-4f9bd1d96f90",
      "metadata": {
        "id": "75831108-494d-4257-9bb3-4f9bd1d96f90",
        "outputId": "12567ba4-5201-4405-c422-6a0b38cd1ff7",
        "colab": {
          "base_uri": "https://localhost:8080/"
        }
      },
      "outputs": [
        {
          "output_type": "execute_result",
          "data": {
            "text/plain": [
              "<tf.Tensor: shape=(5,), dtype=float64, numpy=array([ 0.43632542, -0.60942648, -1.74066962,  0.6580403 , -0.21473674])>"
            ]
          },
          "metadata": {},
          "execution_count": 159
        }
      ],
      "source": [
        "tnp.random.randn(5) # 넘파이가 되면 나도 된다."
      ]
    },
    {
      "cell_type": "markdown",
      "id": "c1a84f81-fff4-4a5a-b8b2-8045ba3943fe",
      "metadata": {
        "id": "c1a84f81-fff4-4a5a-b8b2-8045ba3943fe"
      },
      "source": [
        "#### 타입"
      ]
    },
    {
      "cell_type": "code",
      "execution_count": null,
      "id": "001eefa5-3215-47fc-83a7-46c6974a477d",
      "metadata": {
        "id": "001eefa5-3215-47fc-83a7-46c6974a477d",
        "outputId": "524a6504-8db9-4ea2-ff64-463b8cf3ea53",
        "colab": {
          "base_uri": "https://localhost:8080/"
        }
      },
      "outputs": [
        {
          "output_type": "execute_result",
          "data": {
            "text/plain": [
              "tensorflow.python.framework.ops.EagerTensor"
            ]
          },
          "metadata": {},
          "execution_count": 160
        }
      ],
      "source": [
        "type(tnp.random.randn(5))"
      ]
    },
    {
      "cell_type": "markdown",
      "id": "bb759864-ef75-4ba0-9a11-d10cca6669f3",
      "metadata": {
        "id": "bb759864-ef75-4ba0-9a11-d10cca6669f3"
      },
      "source": [
        "#### tf.contant로 만들어도 마치 넘파이인듯 쓰는 기능들"
      ]
    },
    {
      "cell_type": "markdown",
      "id": "4eaf886c-4162-450c-83ab-40aa08af1465",
      "metadata": {
        "id": "4eaf886c-4162-450c-83ab-40aa08af1465"
      },
      "source": [
        "`-` 묵시적형변환이 가능"
      ]
    },
    {
      "cell_type": "code",
      "execution_count": null,
      "id": "0e5ded82-30fe-40f8-94e1-81cefcdf3d49",
      "metadata": {
        "id": "0e5ded82-30fe-40f8-94e1-81cefcdf3d49",
        "outputId": "7da6f5c4-f675-4a13-8428-8cce0ba33edc",
        "colab": {
          "base_uri": "https://localhost:8080/"
        }
      },
      "outputs": [
        {
          "output_type": "execute_result",
          "data": {
            "text/plain": [
              "<tf.Tensor: shape=(2,), dtype=float64, numpy=array([3.20000005, 4.29999995])>"
            ]
          },
          "metadata": {},
          "execution_count": 161
        }
      ],
      "source": [
        "tf.constant([1,1])+tf.constant([2.2,3.3])"
      ]
    },
    {
      "cell_type": "markdown",
      "id": "75131459-b680-4fca-bf95-a4c571e052d2",
      "metadata": {
        "id": "75131459-b680-4fca-bf95-a4c571e052d2"
      },
      "source": [
        "`-` 메소드를 쓸수 있음. "
      ]
    },
    {
      "cell_type": "code",
      "execution_count": null,
      "id": "f343b9ff-ebde-4eb0-b4a7-790e2cd59bd4",
      "metadata": {
        "id": "f343b9ff-ebde-4eb0-b4a7-790e2cd59bd4",
        "outputId": "d848f0c5-de51-4533-e3d7-f1294278f5c1",
        "colab": {
          "base_uri": "https://localhost:8080/"
        }
      },
      "outputs": [
        {
          "output_type": "execute_result",
          "data": {
            "text/plain": [
              "<tf.Tensor: shape=(4, 1), dtype=int64, numpy=\n",
              "array([[1],\n",
              "       [2],\n",
              "       [3],\n",
              "       [4]])>"
            ]
          },
          "metadata": {},
          "execution_count": 162
        }
      ],
      "source": [
        "a= tnp.array([[1,2,3,4]])\n",
        "a.T"
      ]
    },
    {
      "cell_type": "markdown",
      "id": "8426767e-976c-4e35-a390-7f2943ec4e8d",
      "metadata": {
        "id": "8426767e-976c-4e35-a390-7f2943ec4e8d"
      },
      "source": [
        "#### 그렇지만 완벽히 np.array는 아님 \n",
        "- 원소 재배정이 안 됨"
      ]
    },
    {
      "cell_type": "markdown",
      "id": "f771ea7c-6701-4499-b312-f2fc27d2549f",
      "metadata": {
        "id": "f771ea7c-6701-4499-b312-f2fc27d2549f"
      },
      "source": [
        "`-` 원소를 할당하는것은 불가능 "
      ]
    },
    {
      "cell_type": "code",
      "execution_count": null,
      "id": "3ff7d767-683c-4138-8ce3-c75d62e2bff7",
      "metadata": {
        "id": "3ff7d767-683c-4138-8ce3-c75d62e2bff7",
        "outputId": "c8cfb286-1f78-42e5-d18d-a570315e17a3",
        "colab": {
          "base_uri": "https://localhost:8080/"
        }
      },
      "outputs": [
        {
          "output_type": "execute_result",
          "data": {
            "text/plain": [
              "<tf.Tensor: shape=(3,), dtype=int32, numpy=array([1, 2, 3], dtype=int32)>"
            ]
          },
          "metadata": {},
          "execution_count": 172
        }
      ],
      "source": [
        "a=tf.constant([1,2,3])\n",
        "a"
      ]
    },
    {
      "cell_type": "code",
      "execution_count": null,
      "id": "218f3734-9de8-4ba6-b861-947b8ebc0932",
      "metadata": {
        "id": "218f3734-9de8-4ba6-b861-947b8ebc0932",
        "outputId": "d395a7a1-1728-4868-801d-4b5de6511c1e",
        "colab": {
          "base_uri": "https://localhost:8080/",
          "height": 169
        }
      },
      "outputs": [
        {
          "output_type": "error",
          "ename": "TypeError",
          "evalue": "ignored",
          "traceback": [
            "\u001b[0;31m---------------------------------------------------------------------------\u001b[0m",
            "\u001b[0;31mTypeError\u001b[0m                                 Traceback (most recent call last)",
            "\u001b[0;32m<ipython-input-173-b909b2ec59d1>\u001b[0m in \u001b[0;36m<module>\u001b[0;34m\u001b[0m\n\u001b[0;32m----> 1\u001b[0;31m \u001b[0ma\u001b[0m\u001b[0;34m[\u001b[0m\u001b[0;36m0\u001b[0m\u001b[0;34m]\u001b[0m\u001b[0;34m=\u001b[0m\u001b[0;36m11\u001b[0m\u001b[0;34m\u001b[0m\u001b[0;34m\u001b[0m\u001b[0m\n\u001b[0m",
            "\u001b[0;31mTypeError\u001b[0m: 'tensorflow.python.framework.ops.EagerTensor' object does not support item assignment"
          ]
        }
      ],
      "source": [
        "a[0]=11"
      ]
    },
    {
      "cell_type": "code",
      "source": [],
      "metadata": {
        "id": "mptSZimGiu6T"
      },
      "id": "mptSZimGiu6T",
      "execution_count": null,
      "outputs": []
    }
  ],
  "metadata": {
    "kernelspec": {
      "display_name": "Python 3 (ipykernel)",
      "language": "python",
      "name": "python3"
    },
    "language_info": {
      "codemirror_mode": {
        "name": "ipython",
        "version": 3
      },
      "file_extension": ".py",
      "mimetype": "text/x-python",
      "name": "python",
      "nbconvert_exporter": "python",
      "pygments_lexer": "ipython3",
      "version": "3.10.0"
    },
    "colab": {
      "provenance": [],
      "name": "2022-03-14-(2주차) 3월14일.ipynb의 사본"
    }
  },
  "nbformat": 4,
  "nbformat_minor": 5
}