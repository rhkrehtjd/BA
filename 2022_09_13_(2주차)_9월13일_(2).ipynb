{
  "cells": [
    {
      "cell_type": "markdown",
      "id": "68ab0286-cdd1-442a-ab46-452eceb5fa97",
      "metadata": {
        "id": "68ab0286-cdd1-442a-ab46-452eceb5fa97"
      },
      "source": [
        "### imports"
      ]
    },
    {
      "cell_type": "code",
      "execution_count": 28,
      "id": "52b8c79e-4e15-4774-b6dc-305a1235a31c",
      "metadata": {
        "id": "52b8c79e-4e15-4774-b6dc-305a1235a31c"
      },
      "outputs": [],
      "source": [
        "# from fastai.vision.all import *  ## 이미지분석 \n",
        "from fastai.collab import * ## 추천시스템\n",
        "from fastai.text.all import * ## 텍스트분석 \n",
        "from fastai.vision.gan import * ## GAN (이미지생성)"
      ]
    },
    {
      "cell_type": "code",
      "execution_count": 29,
      "id": "6f4a5250-04ff-43e0-b6ab-06b3c544b896",
      "metadata": {
        "id": "6f4a5250-04ff-43e0-b6ab-06b3c544b896"
      },
      "outputs": [],
      "source": [
        "import pandas as pd"
      ]
    },
    {
      "cell_type": "markdown",
      "id": "669c3514-eb7a-40a2-8d50-234821c1da26",
      "metadata": {
        "id": "669c3514-eb7a-40a2-8d50-234821c1da26"
      },
      "source": [
        "### fastai를 이용한 분석 steps"
      ]
    },
    {
      "cell_type": "markdown",
      "id": "dbca54ee-49e2-4db9-b6c9-a547a9c574e2",
      "metadata": {
        "id": "dbca54ee-49e2-4db9-b6c9-a547a9c574e2"
      },
      "source": [
        "`-` 비교 "
      ]
    },
    {
      "cell_type": "markdown",
      "id": "f35d908d-1c95-4d1d-a466-3a462bdab581",
      "metadata": {
        "id": "f35d908d-1c95-4d1d-a466-3a462bdab581"
      },
      "source": [
        "| |이미지분석(CNN) | 추천시스템 | 텍스트분석 | GAN | \n",
        "|:-:|:-:|:-:|:-:|:-:|\n",
        "|1단계|ImageDataLoaders|CollabDataLoaders| TextDataLoaders | DataBlock -> dls |  \n",
        "|2단계|cnn_learner()|collab_learner()| language_model_learner() | GANLearner.wgan() | \n",
        "|3단계|lrnr.fine_tune(1)|lrnr.fit()| lrnr.fit() | lrnr.fit() |\n",
        "|4단계|lrnr.predict(), lrnr.model(X)|lrnr.model(X)| lrnr.predict() | | "
      ]
    },
    {
      "cell_type": "markdown",
      "id": "db3b6ee7-5e66-425d-98c0-d3faa09a3a14",
      "metadata": {
        "id": "db3b6ee7-5e66-425d-98c0-d3faa09a3a14"
      },
      "source": [
        "## 추천시스템"
      ]
    },
    {
      "cell_type": "code",
      "execution_count": 30,
      "id": "2CWGSeZ1P-lL",
      "metadata": {
        "id": "2CWGSeZ1P-lL"
      },
      "outputs": [],
      "source": [
        "df_view = pd.read_csv(\"https://raw.githubusercontent.com/guebin/DL2022/master/_notebooks/2022-09-08-rcmd_view.csv\")"
      ]
    },
    {
      "cell_type": "code",
      "execution_count": 31,
      "id": "pfY6mkQ0QHTb",
      "metadata": {
        "colab": {
          "base_uri": "https://localhost:8080/",
          "height": 143
        },
        "id": "pfY6mkQ0QHTb",
        "outputId": "f34d0436-38a7-489d-dc51-2c8ab65cc72f"
      },
      "outputs": [
        {
          "output_type": "execute_result",
          "data": {
            "text/plain": [
              "        커피1       커피2  커피3       커피4       커피5       커피6  커피7       커피8  \\\n",
              "0  4.149209       NaN  NaN  4.078139  4.033415  4.071871  NaN       NaN   \n",
              "1  4.031811       NaN  NaN  3.822704       NaN       NaN  NaN  4.071410   \n",
              "2  4.082178  4.196436  NaN  3.956876       NaN       NaN  NaN  4.450931   \n",
              "\n",
              "        커피9  커피10       홍차1       홍차2       홍차3       홍차4       홍차5       홍차6  \\\n",
              "0       NaN   NaN  1.142659  1.109452       NaN  0.603118  1.084308       NaN   \n",
              "1  3.996206   NaN       NaN  0.839565  1.011315       NaN  1.120552  0.911340   \n",
              "2  3.972090   NaN       NaN       NaN       NaN  0.983838       NaN  0.918576   \n",
              "\n",
              "        홍차7       홍차8       홍차9      홍차10  \n",
              "0  0.906524       NaN       NaN  0.903826  \n",
              "1       NaN  0.860954  0.871482       NaN  \n",
              "2  1.206796  0.913116       NaN  0.956194  "
            ],
            "text/html": [
              "\n",
              "  <div id=\"df-bebfb09e-6708-494a-b612-ebecac8659f7\">\n",
              "    <div class=\"colab-df-container\">\n",
              "      <div>\n",
              "<style scoped>\n",
              "    .dataframe tbody tr th:only-of-type {\n",
              "        vertical-align: middle;\n",
              "    }\n",
              "\n",
              "    .dataframe tbody tr th {\n",
              "        vertical-align: top;\n",
              "    }\n",
              "\n",
              "    .dataframe thead th {\n",
              "        text-align: right;\n",
              "    }\n",
              "</style>\n",
              "<table border=\"1\" class=\"dataframe\">\n",
              "  <thead>\n",
              "    <tr style=\"text-align: right;\">\n",
              "      <th></th>\n",
              "      <th>커피1</th>\n",
              "      <th>커피2</th>\n",
              "      <th>커피3</th>\n",
              "      <th>커피4</th>\n",
              "      <th>커피5</th>\n",
              "      <th>커피6</th>\n",
              "      <th>커피7</th>\n",
              "      <th>커피8</th>\n",
              "      <th>커피9</th>\n",
              "      <th>커피10</th>\n",
              "      <th>홍차1</th>\n",
              "      <th>홍차2</th>\n",
              "      <th>홍차3</th>\n",
              "      <th>홍차4</th>\n",
              "      <th>홍차5</th>\n",
              "      <th>홍차6</th>\n",
              "      <th>홍차7</th>\n",
              "      <th>홍차8</th>\n",
              "      <th>홍차9</th>\n",
              "      <th>홍차10</th>\n",
              "    </tr>\n",
              "  </thead>\n",
              "  <tbody>\n",
              "    <tr>\n",
              "      <th>0</th>\n",
              "      <td>4.149209</td>\n",
              "      <td>NaN</td>\n",
              "      <td>NaN</td>\n",
              "      <td>4.078139</td>\n",
              "      <td>4.033415</td>\n",
              "      <td>4.071871</td>\n",
              "      <td>NaN</td>\n",
              "      <td>NaN</td>\n",
              "      <td>NaN</td>\n",
              "      <td>NaN</td>\n",
              "      <td>1.142659</td>\n",
              "      <td>1.109452</td>\n",
              "      <td>NaN</td>\n",
              "      <td>0.603118</td>\n",
              "      <td>1.084308</td>\n",
              "      <td>NaN</td>\n",
              "      <td>0.906524</td>\n",
              "      <td>NaN</td>\n",
              "      <td>NaN</td>\n",
              "      <td>0.903826</td>\n",
              "    </tr>\n",
              "    <tr>\n",
              "      <th>1</th>\n",
              "      <td>4.031811</td>\n",
              "      <td>NaN</td>\n",
              "      <td>NaN</td>\n",
              "      <td>3.822704</td>\n",
              "      <td>NaN</td>\n",
              "      <td>NaN</td>\n",
              "      <td>NaN</td>\n",
              "      <td>4.071410</td>\n",
              "      <td>3.996206</td>\n",
              "      <td>NaN</td>\n",
              "      <td>NaN</td>\n",
              "      <td>0.839565</td>\n",
              "      <td>1.011315</td>\n",
              "      <td>NaN</td>\n",
              "      <td>1.120552</td>\n",
              "      <td>0.911340</td>\n",
              "      <td>NaN</td>\n",
              "      <td>0.860954</td>\n",
              "      <td>0.871482</td>\n",
              "      <td>NaN</td>\n",
              "    </tr>\n",
              "    <tr>\n",
              "      <th>2</th>\n",
              "      <td>4.082178</td>\n",
              "      <td>4.196436</td>\n",
              "      <td>NaN</td>\n",
              "      <td>3.956876</td>\n",
              "      <td>NaN</td>\n",
              "      <td>NaN</td>\n",
              "      <td>NaN</td>\n",
              "      <td>4.450931</td>\n",
              "      <td>3.972090</td>\n",
              "      <td>NaN</td>\n",
              "      <td>NaN</td>\n",
              "      <td>NaN</td>\n",
              "      <td>NaN</td>\n",
              "      <td>0.983838</td>\n",
              "      <td>NaN</td>\n",
              "      <td>0.918576</td>\n",
              "      <td>1.206796</td>\n",
              "      <td>0.913116</td>\n",
              "      <td>NaN</td>\n",
              "      <td>0.956194</td>\n",
              "    </tr>\n",
              "  </tbody>\n",
              "</table>\n",
              "</div>\n",
              "      <button class=\"colab-df-convert\" onclick=\"convertToInteractive('df-bebfb09e-6708-494a-b612-ebecac8659f7')\"\n",
              "              title=\"Convert this dataframe to an interactive table.\"\n",
              "              style=\"display:none;\">\n",
              "        \n",
              "  <svg xmlns=\"http://www.w3.org/2000/svg\" height=\"24px\"viewBox=\"0 0 24 24\"\n",
              "       width=\"24px\">\n",
              "    <path d=\"M0 0h24v24H0V0z\" fill=\"none\"/>\n",
              "    <path d=\"M18.56 5.44l.94 2.06.94-2.06 2.06-.94-2.06-.94-.94-2.06-.94 2.06-2.06.94zm-11 1L8.5 8.5l.94-2.06 2.06-.94-2.06-.94L8.5 2.5l-.94 2.06-2.06.94zm10 10l.94 2.06.94-2.06 2.06-.94-2.06-.94-.94-2.06-.94 2.06-2.06.94z\"/><path d=\"M17.41 7.96l-1.37-1.37c-.4-.4-.92-.59-1.43-.59-.52 0-1.04.2-1.43.59L10.3 9.45l-7.72 7.72c-.78.78-.78 2.05 0 2.83L4 21.41c.39.39.9.59 1.41.59.51 0 1.02-.2 1.41-.59l7.78-7.78 2.81-2.81c.8-.78.8-2.07 0-2.86zM5.41 20L4 18.59l7.72-7.72 1.47 1.35L5.41 20z\"/>\n",
              "  </svg>\n",
              "      </button>\n",
              "      \n",
              "  <style>\n",
              "    .colab-df-container {\n",
              "      display:flex;\n",
              "      flex-wrap:wrap;\n",
              "      gap: 12px;\n",
              "    }\n",
              "\n",
              "    .colab-df-convert {\n",
              "      background-color: #E8F0FE;\n",
              "      border: none;\n",
              "      border-radius: 50%;\n",
              "      cursor: pointer;\n",
              "      display: none;\n",
              "      fill: #1967D2;\n",
              "      height: 32px;\n",
              "      padding: 0 0 0 0;\n",
              "      width: 32px;\n",
              "    }\n",
              "\n",
              "    .colab-df-convert:hover {\n",
              "      background-color: #E2EBFA;\n",
              "      box-shadow: 0px 1px 2px rgba(60, 64, 67, 0.3), 0px 1px 3px 1px rgba(60, 64, 67, 0.15);\n",
              "      fill: #174EA6;\n",
              "    }\n",
              "\n",
              "    [theme=dark] .colab-df-convert {\n",
              "      background-color: #3B4455;\n",
              "      fill: #D2E3FC;\n",
              "    }\n",
              "\n",
              "    [theme=dark] .colab-df-convert:hover {\n",
              "      background-color: #434B5C;\n",
              "      box-shadow: 0px 1px 3px 1px rgba(0, 0, 0, 0.15);\n",
              "      filter: drop-shadow(0px 1px 2px rgba(0, 0, 0, 0.3));\n",
              "      fill: #FFFFFF;\n",
              "    }\n",
              "  </style>\n",
              "\n",
              "      <script>\n",
              "        const buttonEl =\n",
              "          document.querySelector('#df-bebfb09e-6708-494a-b612-ebecac8659f7 button.colab-df-convert');\n",
              "        buttonEl.style.display =\n",
              "          google.colab.kernel.accessAllowed ? 'block' : 'none';\n",
              "\n",
              "        async function convertToInteractive(key) {\n",
              "          const element = document.querySelector('#df-bebfb09e-6708-494a-b612-ebecac8659f7');\n",
              "          const dataTable =\n",
              "            await google.colab.kernel.invokeFunction('convertToInteractive',\n",
              "                                                     [key], {});\n",
              "          if (!dataTable) return;\n",
              "\n",
              "          const docLinkHtml = 'Like what you see? Visit the ' +\n",
              "            '<a target=\"_blank\" href=https://colab.research.google.com/notebooks/data_table.ipynb>data table notebook</a>'\n",
              "            + ' to learn more about interactive tables.';\n",
              "          element.innerHTML = '';\n",
              "          dataTable['output_type'] = 'display_data';\n",
              "          await google.colab.output.renderOutput(dataTable, element);\n",
              "          const docLink = document.createElement('div');\n",
              "          docLink.innerHTML = docLinkHtml;\n",
              "          element.appendChild(docLink);\n",
              "        }\n",
              "      </script>\n",
              "    </div>\n",
              "  </div>\n",
              "  "
            ]
          },
          "metadata": {},
          "execution_count": 31
        }
      ],
      "source": [
        "df_view.head(3)\n",
        "# 유저 0~49까지는 커피 선호, 그 나머지 반절은 홍차 선호\n",
        "# 교수님께서 임의로 배정한 dataset임\n",
        "\n",
        "# 그런데 이 dataset은 컴퓨터가 선호하는 dataset이 아님\n",
        "# 아래 df라는 dataset이 컴퓨터가 선호하는 dataset\n",
        "\n",
        "# NaN이 많음\n",
        "# sparse한 data임\n",
        "# 압축하기 용이함\n",
        "# SVD를 이용하면 가능할 것 같음\n",
        "\n",
        "# 암튼 df_view는 컴퓨터가 그닥 선호하지 않는다.\n",
        "# tidy data 형태인 df를 이용해보자"
      ]
    },
    {
      "cell_type": "code",
      "execution_count": 32,
      "id": "7j_f2pPEQYIV",
      "metadata": {
        "id": "7j_f2pPEQYIV"
      },
      "outputs": [],
      "source": [
        "df = pd.read_csv(\"https://raw.githubusercontent.com/guebin/DL2022/master/_notebooks/2022-09-08-rcmd_anal.csv\")"
      ]
    },
    {
      "cell_type": "code",
      "execution_count": 33,
      "id": "nfgM2oIiQoJb",
      "metadata": {
        "colab": {
          "base_uri": "https://localhost:8080/",
          "height": 143
        },
        "id": "nfgM2oIiQoJb",
        "outputId": "91498512-f595-48ff-cd2b-2f40af54440e"
      },
      "outputs": [
        {
          "output_type": "execute_result",
          "data": {
            "text/plain": [
              "   user  item    rating item_name\n",
              "0     1    15  1.084308       홍차5\n",
              "1     1     1  4.149209       커피1\n",
              "2     1    11  1.142659       홍차1"
            ],
            "text/html": [
              "\n",
              "  <div id=\"df-90fc14c7-7447-4cbc-9acf-00021f70e893\">\n",
              "    <div class=\"colab-df-container\">\n",
              "      <div>\n",
              "<style scoped>\n",
              "    .dataframe tbody tr th:only-of-type {\n",
              "        vertical-align: middle;\n",
              "    }\n",
              "\n",
              "    .dataframe tbody tr th {\n",
              "        vertical-align: top;\n",
              "    }\n",
              "\n",
              "    .dataframe thead th {\n",
              "        text-align: right;\n",
              "    }\n",
              "</style>\n",
              "<table border=\"1\" class=\"dataframe\">\n",
              "  <thead>\n",
              "    <tr style=\"text-align: right;\">\n",
              "      <th></th>\n",
              "      <th>user</th>\n",
              "      <th>item</th>\n",
              "      <th>rating</th>\n",
              "      <th>item_name</th>\n",
              "    </tr>\n",
              "  </thead>\n",
              "  <tbody>\n",
              "    <tr>\n",
              "      <th>0</th>\n",
              "      <td>1</td>\n",
              "      <td>15</td>\n",
              "      <td>1.084308</td>\n",
              "      <td>홍차5</td>\n",
              "    </tr>\n",
              "    <tr>\n",
              "      <th>1</th>\n",
              "      <td>1</td>\n",
              "      <td>1</td>\n",
              "      <td>4.149209</td>\n",
              "      <td>커피1</td>\n",
              "    </tr>\n",
              "    <tr>\n",
              "      <th>2</th>\n",
              "      <td>1</td>\n",
              "      <td>11</td>\n",
              "      <td>1.142659</td>\n",
              "      <td>홍차1</td>\n",
              "    </tr>\n",
              "  </tbody>\n",
              "</table>\n",
              "</div>\n",
              "      <button class=\"colab-df-convert\" onclick=\"convertToInteractive('df-90fc14c7-7447-4cbc-9acf-00021f70e893')\"\n",
              "              title=\"Convert this dataframe to an interactive table.\"\n",
              "              style=\"display:none;\">\n",
              "        \n",
              "  <svg xmlns=\"http://www.w3.org/2000/svg\" height=\"24px\"viewBox=\"0 0 24 24\"\n",
              "       width=\"24px\">\n",
              "    <path d=\"M0 0h24v24H0V0z\" fill=\"none\"/>\n",
              "    <path d=\"M18.56 5.44l.94 2.06.94-2.06 2.06-.94-2.06-.94-.94-2.06-.94 2.06-2.06.94zm-11 1L8.5 8.5l.94-2.06 2.06-.94-2.06-.94L8.5 2.5l-.94 2.06-2.06.94zm10 10l.94 2.06.94-2.06 2.06-.94-2.06-.94-.94-2.06-.94 2.06-2.06.94z\"/><path d=\"M17.41 7.96l-1.37-1.37c-.4-.4-.92-.59-1.43-.59-.52 0-1.04.2-1.43.59L10.3 9.45l-7.72 7.72c-.78.78-.78 2.05 0 2.83L4 21.41c.39.39.9.59 1.41.59.51 0 1.02-.2 1.41-.59l7.78-7.78 2.81-2.81c.8-.78.8-2.07 0-2.86zM5.41 20L4 18.59l7.72-7.72 1.47 1.35L5.41 20z\"/>\n",
              "  </svg>\n",
              "      </button>\n",
              "      \n",
              "  <style>\n",
              "    .colab-df-container {\n",
              "      display:flex;\n",
              "      flex-wrap:wrap;\n",
              "      gap: 12px;\n",
              "    }\n",
              "\n",
              "    .colab-df-convert {\n",
              "      background-color: #E8F0FE;\n",
              "      border: none;\n",
              "      border-radius: 50%;\n",
              "      cursor: pointer;\n",
              "      display: none;\n",
              "      fill: #1967D2;\n",
              "      height: 32px;\n",
              "      padding: 0 0 0 0;\n",
              "      width: 32px;\n",
              "    }\n",
              "\n",
              "    .colab-df-convert:hover {\n",
              "      background-color: #E2EBFA;\n",
              "      box-shadow: 0px 1px 2px rgba(60, 64, 67, 0.3), 0px 1px 3px 1px rgba(60, 64, 67, 0.15);\n",
              "      fill: #174EA6;\n",
              "    }\n",
              "\n",
              "    [theme=dark] .colab-df-convert {\n",
              "      background-color: #3B4455;\n",
              "      fill: #D2E3FC;\n",
              "    }\n",
              "\n",
              "    [theme=dark] .colab-df-convert:hover {\n",
              "      background-color: #434B5C;\n",
              "      box-shadow: 0px 1px 3px 1px rgba(0, 0, 0, 0.15);\n",
              "      filter: drop-shadow(0px 1px 2px rgba(0, 0, 0, 0.3));\n",
              "      fill: #FFFFFF;\n",
              "    }\n",
              "  </style>\n",
              "\n",
              "      <script>\n",
              "        const buttonEl =\n",
              "          document.querySelector('#df-90fc14c7-7447-4cbc-9acf-00021f70e893 button.colab-df-convert');\n",
              "        buttonEl.style.display =\n",
              "          google.colab.kernel.accessAllowed ? 'block' : 'none';\n",
              "\n",
              "        async function convertToInteractive(key) {\n",
              "          const element = document.querySelector('#df-90fc14c7-7447-4cbc-9acf-00021f70e893');\n",
              "          const dataTable =\n",
              "            await google.colab.kernel.invokeFunction('convertToInteractive',\n",
              "                                                     [key], {});\n",
              "          if (!dataTable) return;\n",
              "\n",
              "          const docLinkHtml = 'Like what you see? Visit the ' +\n",
              "            '<a target=\"_blank\" href=https://colab.research.google.com/notebooks/data_table.ipynb>data table notebook</a>'\n",
              "            + ' to learn more about interactive tables.';\n",
              "          element.innerHTML = '';\n",
              "          dataTable['output_type'] = 'display_data';\n",
              "          await google.colab.output.renderOutput(dataTable, element);\n",
              "          const docLink = document.createElement('div');\n",
              "          docLink.innerHTML = docLinkHtml;\n",
              "          element.appendChild(docLink);\n",
              "        }\n",
              "      </script>\n",
              "    </div>\n",
              "  </div>\n",
              "  "
            ]
          },
          "metadata": {},
          "execution_count": 33
        }
      ],
      "source": [
        "df.head(3)\n",
        "# 컴퓨터가 좋아하는 dataset 형태임\n",
        "# 확실하진 않지만 이 형태의 dataset이 메모리 공간을 덜 차지할 것임\n",
        "# tidy data여서 좋기도 함"
      ]
    },
    {
      "cell_type": "markdown",
      "id": "1d6a22b1-73ab-49f9-87fd-abeb4cf8b636",
      "metadata": {
        "id": "1d6a22b1-73ab-49f9-87fd-abeb4cf8b636"
      },
      "source": [
        "## 1단계"
      ]
    },
    {
      "cell_type": "code",
      "execution_count": 34,
      "id": "v4GsZatxQrgz",
      "metadata": {
        "id": "v4GsZatxQrgz"
      },
      "outputs": [],
      "source": [
        "# 추천시스템 이용하기 위한 라이브러리 import\n",
        "# from fastai.collab import *\n",
        "dls = CollabDataLoaders.from_df(df)\n",
        "# dls = dataloaders의 약어"
      ]
    },
    {
      "cell_type": "code",
      "execution_count": 35,
      "id": "GUaf5RiIRfE7",
      "metadata": {
        "colab": {
          "base_uri": "https://localhost:8080/",
          "height": 363
        },
        "id": "GUaf5RiIRfE7",
        "outputId": "b97fdb6b-12b7-4927-c01d-8b3754c2f010"
      },
      "outputs": [
        {
          "output_type": "display_data",
          "data": {
            "text/plain": [
              "<IPython.core.display.HTML object>"
            ],
            "text/html": [
              "<table border=\"1\" class=\"dataframe\">\n",
              "  <thead>\n",
              "    <tr style=\"text-align: right;\">\n",
              "      <th></th>\n",
              "      <th>user</th>\n",
              "      <th>item</th>\n",
              "      <th>rating</th>\n",
              "    </tr>\n",
              "  </thead>\n",
              "  <tbody>\n",
              "    <tr>\n",
              "      <th>0</th>\n",
              "      <td>54</td>\n",
              "      <td>7</td>\n",
              "      <td>0.883391</td>\n",
              "    </tr>\n",
              "    <tr>\n",
              "      <th>1</th>\n",
              "      <td>26</td>\n",
              "      <td>18</td>\n",
              "      <td>0.967272</td>\n",
              "    </tr>\n",
              "    <tr>\n",
              "      <th>2</th>\n",
              "      <td>40</td>\n",
              "      <td>16</td>\n",
              "      <td>1.269199</td>\n",
              "    </tr>\n",
              "    <tr>\n",
              "      <th>3</th>\n",
              "      <td>12</td>\n",
              "      <td>1</td>\n",
              "      <td>4.331246</td>\n",
              "    </tr>\n",
              "    <tr>\n",
              "      <th>4</th>\n",
              "      <td>1</td>\n",
              "      <td>4</td>\n",
              "      <td>4.078139</td>\n",
              "    </tr>\n",
              "    <tr>\n",
              "      <th>5</th>\n",
              "      <td>40</td>\n",
              "      <td>11</td>\n",
              "      <td>1.145955</td>\n",
              "    </tr>\n",
              "    <tr>\n",
              "      <th>6</th>\n",
              "      <td>71</td>\n",
              "      <td>2</td>\n",
              "      <td>1.225903</td>\n",
              "    </tr>\n",
              "    <tr>\n",
              "      <th>7</th>\n",
              "      <td>44</td>\n",
              "      <td>9</td>\n",
              "      <td>3.735269</td>\n",
              "    </tr>\n",
              "    <tr>\n",
              "      <th>8</th>\n",
              "      <td>42</td>\n",
              "      <td>1</td>\n",
              "      <td>4.346642</td>\n",
              "    </tr>\n",
              "    <tr>\n",
              "      <th>9</th>\n",
              "      <td>33</td>\n",
              "      <td>20</td>\n",
              "      <td>0.801505</td>\n",
              "    </tr>\n",
              "  </tbody>\n",
              "</table>"
            ]
          },
          "metadata": {}
        }
      ],
      "source": [
        "dls.show_batch(max_n=4)"
      ]
    },
    {
      "cell_type": "code",
      "execution_count": 36,
      "id": "W4At0tXcRnJr",
      "metadata": {
        "colab": {
          "base_uri": "https://localhost:8080/"
        },
        "id": "W4At0tXcRnJr",
        "outputId": "2c7737ab-f185-4562-e0b6-87006b917619"
      },
      "outputs": [
        {
          "output_type": "execute_result",
          "data": {
            "text/plain": [
              "(tensor([[48, 15],\n",
              "         [84, 14],\n",
              "         [17, 15],\n",
              "         [53, 10],\n",
              "         [27, 17],\n",
              "         [ 1,  1],\n",
              "         [50,  4],\n",
              "         [61, 11],\n",
              "         [10,  5],\n",
              "         [ 6,  5],\n",
              "         [31,  9],\n",
              "         [85,  9],\n",
              "         [ 1, 20],\n",
              "         [ 4, 16],\n",
              "         [99, 13],\n",
              "         [ 2,  4],\n",
              "         [ 8, 16],\n",
              "         [ 7,  4],\n",
              "         [73,  4],\n",
              "         [41,  4],\n",
              "         [77,  7],\n",
              "         [11, 11],\n",
              "         [40, 12],\n",
              "         [44,  4],\n",
              "         [22, 20],\n",
              "         [24,  6],\n",
              "         [84,  1],\n",
              "         [24,  5],\n",
              "         [67, 19],\n",
              "         [23,  1],\n",
              "         [42, 18],\n",
              "         [ 4, 10],\n",
              "         [ 9, 13],\n",
              "         [ 8,  5],\n",
              "         [71, 11],\n",
              "         [33, 13],\n",
              "         [ 8,  1],\n",
              "         [43,  7],\n",
              "         [92,  5],\n",
              "         [96,  4],\n",
              "         [86, 10],\n",
              "         [93,  9],\n",
              "         [13,  4],\n",
              "         [90, 13],\n",
              "         [43, 14],\n",
              "         [67, 12],\n",
              "         [12, 13],\n",
              "         [84, 11],\n",
              "         [ 6, 17],\n",
              "         [25, 14],\n",
              "         [85, 10],\n",
              "         [81, 14],\n",
              "         [30, 13],\n",
              "         [63, 19],\n",
              "         [53,  3],\n",
              "         [59, 14],\n",
              "         [34,  5],\n",
              "         [40, 13],\n",
              "         [75, 18],\n",
              "         [33, 10],\n",
              "         [22,  4],\n",
              "         [77, 18],\n",
              "         [38,  3],\n",
              "         [49,  1]]), tensor([[1.3672],\n",
              "         [4.0129],\n",
              "         [1.0523],\n",
              "         [0.8180],\n",
              "         [1.0369],\n",
              "         [4.1492],\n",
              "         [3.8595],\n",
              "         [3.9091],\n",
              "         [3.8699],\n",
              "         [4.1378],\n",
              "         [3.9947],\n",
              "         [0.8339],\n",
              "         [0.9038],\n",
              "         [1.2973],\n",
              "         [4.3294],\n",
              "         [3.8227],\n",
              "         [0.8503],\n",
              "         [3.7279],\n",
              "         [1.1524],\n",
              "         [3.8782],\n",
              "         [0.9977],\n",
              "         [0.5924],\n",
              "         [0.9183],\n",
              "         [4.2265],\n",
              "         [1.3407],\n",
              "         [4.2304],\n",
              "         [0.7755],\n",
              "         [3.6811],\n",
              "         [3.8438],\n",
              "         [3.8493],\n",
              "         [0.7864],\n",
              "         [4.1057],\n",
              "         [0.9676],\n",
              "         [4.0223],\n",
              "         [4.0896],\n",
              "         [0.8486],\n",
              "         [4.1943],\n",
              "         [3.6977],\n",
              "         [1.0236],\n",
              "         [1.3154],\n",
              "         [0.8789],\n",
              "         [1.2637],\n",
              "         [4.3835],\n",
              "         [4.1182],\n",
              "         [1.1088],\n",
              "         [4.0574],\n",
              "         [1.2893],\n",
              "         [4.1664],\n",
              "         [1.0794],\n",
              "         [0.9704],\n",
              "         [1.1314],\n",
              "         [3.9532],\n",
              "         [0.9865],\n",
              "         [3.5198],\n",
              "         [1.1704],\n",
              "         [3.9869],\n",
              "         [3.8240],\n",
              "         [1.0268],\n",
              "         [4.0957],\n",
              "         [3.8900],\n",
              "         [4.1925],\n",
              "         [4.3216],\n",
              "         [4.3062],\n",
              "         [4.0120]]))"
            ]
          },
          "metadata": {},
          "execution_count": 36
        }
      ],
      "source": [
        "dls.one_batch()\n",
        "# 두 tensor가 tuple로 이루어져 있음\n",
        "# 따라서 두 개의 변수로 저장할 수 있음\n",
        "\n",
        "# 첫 번째 tensor는 유저와 아이템\n",
        "# 두 번째 tensor는 평점"
      ]
    },
    {
      "cell_type": "code",
      "execution_count": 37,
      "id": "pMTmEdblSABc",
      "metadata": {
        "id": "pMTmEdblSABc"
      },
      "outputs": [],
      "source": [
        "X,y = dls.one_batch()"
      ]
    },
    {
      "cell_type": "code",
      "execution_count": 38,
      "id": "RHhZ1GLOSFNz",
      "metadata": {
        "colab": {
          "base_uri": "https://localhost:8080/"
        },
        "id": "RHhZ1GLOSFNz",
        "outputId": "0d9fe9af-b672-4af9-c4ec-754d93a51e44"
      },
      "outputs": [
        {
          "output_type": "execute_result",
          "data": {
            "text/plain": [
              "(tensor([98,  9]), tensor([1.3293]))"
            ]
          },
          "metadata": {},
          "execution_count": 38
        }
      ],
      "source": [
        "X[0],y[0]"
      ]
    },
    {
      "cell_type": "markdown",
      "id": "5471a4f4-5196-4ff9-bdf0-22e663a36823",
      "metadata": {
        "id": "5471a4f4-5196-4ff9-bdf0-22e663a36823"
      },
      "source": [
        "## 2단계"
      ]
    },
    {
      "cell_type": "code",
      "execution_count": 39,
      "id": "067AoNDcSSIr",
      "metadata": {
        "id": "067AoNDcSSIr"
      },
      "outputs": [],
      "source": [
        "lrnr = collab_learner(dls, y_range=(0,5))"
      ]
    },
    {
      "cell_type": "code",
      "execution_count": 40,
      "id": "u5v2KhBSSk6T",
      "metadata": {
        "colab": {
          "base_uri": "https://localhost:8080/"
        },
        "id": "u5v2KhBSSk6T",
        "outputId": "5361a37a-e3a8-49d1-e6d4-125b851257a6"
      },
      "outputs": [
        {
          "output_type": "execute_result",
          "data": {
            "text/plain": [
              "140264707973072"
            ]
          },
          "metadata": {},
          "execution_count": 40
        }
      ],
      "source": [
        "id(dls)"
      ]
    },
    {
      "cell_type": "code",
      "execution_count": 41,
      "id": "4LAYx4rbS6TE",
      "metadata": {
        "colab": {
          "base_uri": "https://localhost:8080/"
        },
        "id": "4LAYx4rbS6TE",
        "outputId": "d71e008e-232a-4e02-ef76-06e93c3fe847"
      },
      "outputs": [
        {
          "output_type": "execute_result",
          "data": {
            "text/plain": [
              "140264707973072"
            ]
          },
          "metadata": {},
          "execution_count": 41
        }
      ],
      "source": [
        "id(lrnr.dls)"
      ]
    },
    {
      "cell_type": "code",
      "execution_count": 42,
      "id": "rXpf4wmpSpSs",
      "metadata": {
        "colab": {
          "base_uri": "https://localhost:8080/",
          "height": 363
        },
        "id": "rXpf4wmpSpSs",
        "outputId": "e25454c1-3c64-4154-e8e4-92d2bf70c993"
      },
      "outputs": [
        {
          "output_type": "display_data",
          "data": {
            "text/plain": [
              "<IPython.core.display.HTML object>"
            ],
            "text/html": [
              "<table border=\"1\" class=\"dataframe\">\n",
              "  <thead>\n",
              "    <tr style=\"text-align: right;\">\n",
              "      <th></th>\n",
              "      <th>user</th>\n",
              "      <th>item</th>\n",
              "      <th>rating</th>\n",
              "    </tr>\n",
              "  </thead>\n",
              "  <tbody>\n",
              "    <tr>\n",
              "      <th>0</th>\n",
              "      <td>86</td>\n",
              "      <td>10</td>\n",
              "      <td>0.878860</td>\n",
              "    </tr>\n",
              "    <tr>\n",
              "      <th>1</th>\n",
              "      <td>94</td>\n",
              "      <td>14</td>\n",
              "      <td>4.476173</td>\n",
              "    </tr>\n",
              "    <tr>\n",
              "      <th>2</th>\n",
              "      <td>81</td>\n",
              "      <td>14</td>\n",
              "      <td>3.953160</td>\n",
              "    </tr>\n",
              "    <tr>\n",
              "      <th>3</th>\n",
              "      <td>87</td>\n",
              "      <td>11</td>\n",
              "      <td>4.055826</td>\n",
              "    </tr>\n",
              "    <tr>\n",
              "      <th>4</th>\n",
              "      <td>84</td>\n",
              "      <td>20</td>\n",
              "      <td>4.406747</td>\n",
              "    </tr>\n",
              "    <tr>\n",
              "      <th>5</th>\n",
              "      <td>60</td>\n",
              "      <td>13</td>\n",
              "      <td>3.856908</td>\n",
              "    </tr>\n",
              "    <tr>\n",
              "      <th>6</th>\n",
              "      <td>29</td>\n",
              "      <td>12</td>\n",
              "      <td>0.964676</td>\n",
              "    </tr>\n",
              "    <tr>\n",
              "      <th>7</th>\n",
              "      <td>97</td>\n",
              "      <td>20</td>\n",
              "      <td>4.267142</td>\n",
              "    </tr>\n",
              "    <tr>\n",
              "      <th>8</th>\n",
              "      <td>90</td>\n",
              "      <td>13</td>\n",
              "      <td>4.118186</td>\n",
              "    </tr>\n",
              "    <tr>\n",
              "      <th>9</th>\n",
              "      <td>97</td>\n",
              "      <td>6</td>\n",
              "      <td>0.812558</td>\n",
              "    </tr>\n",
              "  </tbody>\n",
              "</table>"
            ]
          },
          "metadata": {}
        }
      ],
      "source": [
        "lrnr.dls.show_batch()\n",
        "# dls.show_batch()와 결과가 동일하게 반환됨\n",
        "\n",
        "# dls라는 오브젝트와 lrnr.dls는 동일 주소임\n",
        "# dls와 동일한 오브젝트임\n",
        "# id를 통해 동일 주소임을 확인할 수 있다. \n",
        "\n",
        "# 이름만 다름, 변수만 여러개로 binding한 것!"
      ]
    },
    {
      "cell_type": "markdown",
      "id": "5a0bf903-5e69-42aa-a176-0ad0902f0930",
      "metadata": {
        "id": "5a0bf903-5e69-42aa-a176-0ad0902f0930"
      },
      "source": [
        "## 3단계"
      ]
    },
    {
      "cell_type": "code",
      "execution_count": 43,
      "id": "W7pgJBKOTbVE",
      "metadata": {
        "colab": {
          "base_uri": "https://localhost:8080/",
          "height": 363
        },
        "id": "W7pgJBKOTbVE",
        "outputId": "de7f82dd-ef1c-40a0-abf5-1aee9b646e08"
      },
      "outputs": [
        {
          "output_type": "display_data",
          "data": {
            "text/plain": [
              "<IPython.core.display.HTML object>"
            ],
            "text/html": [
              "\n",
              "<style>\n",
              "    /* Turns off some styling */\n",
              "    progress {\n",
              "        /* gets rid of default border in Firefox and Opera. */\n",
              "        border: none;\n",
              "        /* Needs to be in here for Safari polyfill so background images work as expected. */\n",
              "        background-size: auto;\n",
              "    }\n",
              "    progress:not([value]), progress:not([value])::-webkit-progress-bar {\n",
              "        background: repeating-linear-gradient(45deg, #7e7e7e, #7e7e7e 10px, #5c5c5c 10px, #5c5c5c 20px);\n",
              "    }\n",
              "    .progress-bar-interrupted, .progress-bar-interrupted::-webkit-progress-bar {\n",
              "        background: #F44336;\n",
              "    }\n",
              "</style>\n"
            ]
          },
          "metadata": {}
        },
        {
          "output_type": "display_data",
          "data": {
            "text/plain": [
              "<IPython.core.display.HTML object>"
            ],
            "text/html": [
              "<table border=\"1\" class=\"dataframe\">\n",
              "  <thead>\n",
              "    <tr style=\"text-align: left;\">\n",
              "      <th>epoch</th>\n",
              "      <th>train_loss</th>\n",
              "      <th>valid_loss</th>\n",
              "      <th>time</th>\n",
              "    </tr>\n",
              "  </thead>\n",
              "  <tbody>\n",
              "    <tr>\n",
              "      <td>0</td>\n",
              "      <td>2.330548</td>\n",
              "      <td>2.287555</td>\n",
              "      <td>00:00</td>\n",
              "    </tr>\n",
              "    <tr>\n",
              "      <td>1</td>\n",
              "      <td>2.324532</td>\n",
              "      <td>2.285175</td>\n",
              "      <td>00:00</td>\n",
              "    </tr>\n",
              "    <tr>\n",
              "      <td>2</td>\n",
              "      <td>2.311342</td>\n",
              "      <td>2.269344</td>\n",
              "      <td>00:00</td>\n",
              "    </tr>\n",
              "    <tr>\n",
              "      <td>3</td>\n",
              "      <td>2.293695</td>\n",
              "      <td>2.225672</td>\n",
              "      <td>00:00</td>\n",
              "    </tr>\n",
              "    <tr>\n",
              "      <td>4</td>\n",
              "      <td>2.261247</td>\n",
              "      <td>2.140780</td>\n",
              "      <td>00:00</td>\n",
              "    </tr>\n",
              "    <tr>\n",
              "      <td>5</td>\n",
              "      <td>2.203249</td>\n",
              "      <td>2.007268</td>\n",
              "      <td>00:00</td>\n",
              "    </tr>\n",
              "    <tr>\n",
              "      <td>6</td>\n",
              "      <td>2.117976</td>\n",
              "      <td>1.825555</td>\n",
              "      <td>00:00</td>\n",
              "    </tr>\n",
              "    <tr>\n",
              "      <td>7</td>\n",
              "      <td>2.003776</td>\n",
              "      <td>1.604030</td>\n",
              "      <td>00:00</td>\n",
              "    </tr>\n",
              "    <tr>\n",
              "      <td>8</td>\n",
              "      <td>1.861096</td>\n",
              "      <td>1.359088</td>\n",
              "      <td>00:00</td>\n",
              "    </tr>\n",
              "    <tr>\n",
              "      <td>9</td>\n",
              "      <td>1.693940</td>\n",
              "      <td>1.107003</td>\n",
              "      <td>00:00</td>\n",
              "    </tr>\n",
              "  </tbody>\n",
              "</table>"
            ]
          },
          "metadata": {}
        }
      ],
      "source": [
        "lrnr.fit(10)"
      ]
    },
    {
      "cell_type": "markdown",
      "source": [
        "한 배치에 대해 10번 학습시킨 것?,,"
      ],
      "metadata": {
        "id": "i_emybClIzjs"
      },
      "id": "i_emybClIzjs"
    },
    {
      "cell_type": "markdown",
      "source": [
        "음...그럼 지금 한 배치가 64개인 것 같은데\n",
        "\n",
        "dls.one_batch()라는 메서드가 랜덤으로 100개의 데이터 중에서 64개를 뽑은 거고\n",
        "\n",
        "64개가 들어있는 배치를 가지고 30번 학습한 것?\n",
        "\n",
        "그리고 이 100개중에서 64개를 뽑는 건 default가 64개인지 아니면 메서드에서 전체 데이터 셋 중 특정 비율에 대해 한 배치를 구성할지에 대해 임의로 지정이 돼 있는 건가?"
      ],
      "metadata": {
        "id": "gmuvT7ZzJrkN"
      },
      "id": "gmuvT7ZzJrkN"
    },
    {
      "cell_type": "markdown",
      "id": "6aab0571-6f9c-49af-938e-1e20b0f29dff",
      "metadata": {
        "id": "6aab0571-6f9c-49af-938e-1e20b0f29dff"
      },
      "source": [
        "## 4단계 \n",
        "- 하나의 배치 전체를 예측"
      ]
    },
    {
      "cell_type": "code",
      "source": [
        "len(X)"
      ],
      "metadata": {
        "colab": {
          "base_uri": "https://localhost:8080/"
        },
        "id": "vvfNurAxJuC2",
        "outputId": "114aa4c5-0a77-4be5-8607-2251fa6f0b13"
      },
      "id": "vvfNurAxJuC2",
      "execution_count": 44,
      "outputs": [
        {
          "output_type": "execute_result",
          "data": {
            "text/plain": [
              "64"
            ]
          },
          "metadata": {},
          "execution_count": 44
        }
      ]
    },
    {
      "cell_type": "code",
      "execution_count": 45,
      "id": "8WzG4su_T-FM",
      "metadata": {
        "colab": {
          "base_uri": "https://localhost:8080/"
        },
        "id": "8WzG4su_T-FM",
        "outputId": "6aa492bc-fe90-4803-c440-5d1b99280186"
      },
      "outputs": [
        {
          "output_type": "execute_result",
          "data": {
            "text/plain": [
              "tensor([[98,  9],\n",
              "        [16,  3],\n",
              "        [ 3,  8],\n",
              "        [90, 12],\n",
              "        [67, 14],\n",
              "        [61,  7],\n",
              "        [16, 20],\n",
              "        [43, 11],\n",
              "        [ 9, 15],\n",
              "        [ 6,  1],\n",
              "        [76, 16],\n",
              "        [85, 10],\n",
              "        [74, 20],\n",
              "        [85,  5],\n",
              "        [94,  5],\n",
              "        [37,  9],\n",
              "        [ 9, 18],\n",
              "        [29, 13],\n",
              "        [84, 11],\n",
              "        [ 9,  1],\n",
              "        [27, 17],\n",
              "        [ 3, 20],\n",
              "        [78,  6],\n",
              "        [67, 12],\n",
              "        [86,  1],\n",
              "        [42, 15],\n",
              "        [68, 11],\n",
              "        [15,  1],\n",
              "        [87, 18],\n",
              "        [27,  7],\n",
              "        [85, 20],\n",
              "        [67,  8],\n",
              "        [59, 17],\n",
              "        [56,  8],\n",
              "        [16,  6],\n",
              "        [60, 18],\n",
              "        [74, 18],\n",
              "        [90, 15],\n",
              "        [16,  1],\n",
              "        [15,  7],\n",
              "        [10, 11],\n",
              "        [91, 20],\n",
              "        [64,  3],\n",
              "        [88,  1],\n",
              "        [41, 10],\n",
              "        [36, 10],\n",
              "        [59, 14],\n",
              "        [40, 19],\n",
              "        [77,  1],\n",
              "        [45,  7],\n",
              "        [ 8, 10],\n",
              "        [29,  4],\n",
              "        [50, 17],\n",
              "        [68, 20],\n",
              "        [ 6, 20],\n",
              "        [30,  8],\n",
              "        [90, 10],\n",
              "        [14, 20],\n",
              "        [52, 16],\n",
              "        [96, 10],\n",
              "        [52, 13],\n",
              "        [21,  7],\n",
              "        [ 6, 12],\n",
              "        [46,  3]])"
            ]
          },
          "metadata": {},
          "execution_count": 45
        }
      ],
      "source": [
        "X"
      ]
    },
    {
      "cell_type": "code",
      "execution_count": 46,
      "id": "lx1Rb5S8T5s0",
      "metadata": {
        "id": "lx1Rb5S8T5s0"
      },
      "outputs": [],
      "source": [
        "yhat = lrnr.model(X.to(\"cuda:0\"))\n",
        "# gpu로 올리는 방법\n",
        "# lrnr.model(X.to(\"cuda:0\"))"
      ]
    },
    {
      "cell_type": "code",
      "execution_count": 47,
      "id": "hEdal-scUcB8",
      "metadata": {
        "colab": {
          "base_uri": "https://localhost:8080/"
        },
        "id": "hEdal-scUcB8",
        "outputId": "97eee220-a61c-40f6-d289-aba8b2e09051"
      },
      "outputs": [
        {
          "output_type": "execute_result",
          "data": {
            "text/plain": [
              "tensor([1.9949, 3.1066, 2.9928, 3.0203, 3.0077, 2.0495, 1.9925, 2.0209, 1.9446,\n",
              "        3.1027, 2.9105, 1.8953, 3.0883, 1.9135, 2.0431, 2.9699, 1.9160, 1.9139,\n",
              "        2.9780, 3.1430, 2.0144, 2.0002, 1.9890, 2.9239, 2.0053, 1.9547, 3.0133,\n",
              "        3.0226, 3.0466, 2.9784, 2.9969, 2.0730, 2.9868, 1.9919, 3.0498, 3.0932,\n",
              "        3.1290, 3.0818, 3.1352, 3.0216, 1.9685, 3.0288, 1.9852, 1.9646, 3.0108,\n",
              "        3.0809, 3.0427, 2.0983, 1.9600, 3.0099, 3.0880, 3.1222, 1.9712, 3.0373,\n",
              "        1.9062, 3.0307, 1.9688, 2.0329, 3.0960, 1.9165, 3.0674, 2.9871, 1.9008,\n",
              "        3.0002], device='cuda:0', grad_fn=<AddBackward0>)"
            ]
          },
          "metadata": {},
          "execution_count": 47
        }
      ],
      "source": [
        "yhat\n",
        "# 이제 y값과 비교해보자"
      ]
    },
    {
      "cell_type": "code",
      "execution_count": 48,
      "id": "5qCBXjvzUdYU",
      "metadata": {
        "colab": {
          "base_uri": "https://localhost:8080/"
        },
        "id": "5qCBXjvzUdYU",
        "outputId": "e8898da4-a7d1-460a-c925-c143cabdcc58"
      },
      "outputs": [
        {
          "output_type": "execute_result",
          "data": {
            "text/plain": [
              "tensor([[1.3293],\n",
              "        [4.1991],\n",
              "        [4.4509],\n",
              "        [4.3914],\n",
              "        [4.1035],\n",
              "        [1.3350],\n",
              "        [0.9975],\n",
              "        [0.6148],\n",
              "        [1.0044],\n",
              "        [4.2545],\n",
              "        [4.4496],\n",
              "        [1.1314],\n",
              "        [4.2214],\n",
              "        [0.5291],\n",
              "        [0.9221],\n",
              "        [4.0088],\n",
              "        [0.7951],\n",
              "        [0.8385],\n",
              "        [4.1664],\n",
              "        [3.8968],\n",
              "        [1.0369],\n",
              "        [0.9562],\n",
              "        [0.7822],\n",
              "        [4.0574],\n",
              "        [1.1040],\n",
              "        [1.1266],\n",
              "        [4.2178],\n",
              "        [4.2453],\n",
              "        [4.3417],\n",
              "        [3.8937],\n",
              "        [4.0258],\n",
              "        [0.7943],\n",
              "        [4.0512],\n",
              "        [0.8246],\n",
              "        [3.8483],\n",
              "        [3.9544],\n",
              "        [4.0533],\n",
              "        [4.0652],\n",
              "        [4.1735],\n",
              "        [3.9061],\n",
              "        [0.6762],\n",
              "        [4.3823],\n",
              "        [0.7852],\n",
              "        [0.8235],\n",
              "        [3.9602],\n",
              "        [3.8630],\n",
              "        [3.9869],\n",
              "        [1.0159],\n",
              "        [1.2878],\n",
              "        [3.6823],\n",
              "        [4.3921],\n",
              "        [3.8104],\n",
              "        [1.2535],\n",
              "        [3.9419],\n",
              "        [1.0190],\n",
              "        [4.0234],\n",
              "        [0.9221],\n",
              "        [1.0987],\n",
              "        [4.0085],\n",
              "        [0.8868],\n",
              "        [4.7132],\n",
              "        [3.7150],\n",
              "        [0.8335],\n",
              "        [4.3588]])"
            ]
          },
          "metadata": {},
          "execution_count": 48
        }
      ],
      "source": [
        "y\n",
        "# yhat과 별로 유사 X\n",
        "# lrnr.fit(10)\n",
        "# 이 문장을 두어번 더 돌려보자"
      ]
    },
    {
      "cell_type": "code",
      "execution_count": 49,
      "id": "26d232ff-4ca8-45ec-9842-2754898bb204",
      "metadata": {
        "colab": {
          "base_uri": "https://localhost:8080/",
          "height": 363
        },
        "id": "26d232ff-4ca8-45ec-9842-2754898bb204",
        "outputId": "c3d9c468-c05e-4f0f-8438-e49a957ec9ea"
      },
      "outputs": [
        {
          "output_type": "display_data",
          "data": {
            "text/plain": [
              "<IPython.core.display.HTML object>"
            ],
            "text/html": [
              "\n",
              "<style>\n",
              "    /* Turns off some styling */\n",
              "    progress {\n",
              "        /* gets rid of default border in Firefox and Opera. */\n",
              "        border: none;\n",
              "        /* Needs to be in here for Safari polyfill so background images work as expected. */\n",
              "        background-size: auto;\n",
              "    }\n",
              "    progress:not([value]), progress:not([value])::-webkit-progress-bar {\n",
              "        background: repeating-linear-gradient(45deg, #7e7e7e, #7e7e7e 10px, #5c5c5c 10px, #5c5c5c 20px);\n",
              "    }\n",
              "    .progress-bar-interrupted, .progress-bar-interrupted::-webkit-progress-bar {\n",
              "        background: #F44336;\n",
              "    }\n",
              "</style>\n"
            ]
          },
          "metadata": {}
        },
        {
          "output_type": "display_data",
          "data": {
            "text/plain": [
              "<IPython.core.display.HTML object>"
            ],
            "text/html": [
              "<table border=\"1\" class=\"dataframe\">\n",
              "  <thead>\n",
              "    <tr style=\"text-align: left;\">\n",
              "      <th>epoch</th>\n",
              "      <th>train_loss</th>\n",
              "      <th>valid_loss</th>\n",
              "      <th>time</th>\n",
              "    </tr>\n",
              "  </thead>\n",
              "  <tbody>\n",
              "    <tr>\n",
              "      <td>0</td>\n",
              "      <td>0.901508</td>\n",
              "      <td>0.865183</td>\n",
              "      <td>00:00</td>\n",
              "    </tr>\n",
              "    <tr>\n",
              "      <td>1</td>\n",
              "      <td>0.772812</td>\n",
              "      <td>0.650270</td>\n",
              "      <td>00:00</td>\n",
              "    </tr>\n",
              "    <tr>\n",
              "      <td>2</td>\n",
              "      <td>0.652029</td>\n",
              "      <td>0.474232</td>\n",
              "      <td>00:00</td>\n",
              "    </tr>\n",
              "    <tr>\n",
              "      <td>3</td>\n",
              "      <td>0.542836</td>\n",
              "      <td>0.334769</td>\n",
              "      <td>00:00</td>\n",
              "    </tr>\n",
              "    <tr>\n",
              "      <td>4</td>\n",
              "      <td>0.446754</td>\n",
              "      <td>0.234642</td>\n",
              "      <td>00:00</td>\n",
              "    </tr>\n",
              "    <tr>\n",
              "      <td>5</td>\n",
              "      <td>0.364579</td>\n",
              "      <td>0.164108</td>\n",
              "      <td>00:00</td>\n",
              "    </tr>\n",
              "    <tr>\n",
              "      <td>6</td>\n",
              "      <td>0.296820</td>\n",
              "      <td>0.117806</td>\n",
              "      <td>00:00</td>\n",
              "    </tr>\n",
              "    <tr>\n",
              "      <td>7</td>\n",
              "      <td>0.241674</td>\n",
              "      <td>0.087673</td>\n",
              "      <td>00:00</td>\n",
              "    </tr>\n",
              "    <tr>\n",
              "      <td>8</td>\n",
              "      <td>0.197267</td>\n",
              "      <td>0.069042</td>\n",
              "      <td>00:00</td>\n",
              "    </tr>\n",
              "    <tr>\n",
              "      <td>9</td>\n",
              "      <td>0.162504</td>\n",
              "      <td>0.057812</td>\n",
              "      <td>00:00</td>\n",
              "    </tr>\n",
              "  </tbody>\n",
              "</table>"
            ]
          },
          "metadata": {}
        }
      ],
      "source": [
        "lrnr.fit(10)"
      ]
    },
    {
      "cell_type": "code",
      "execution_count": 50,
      "id": "26df819b-f459-429b-a850-c1f0f9f94f8b",
      "metadata": {
        "colab": {
          "base_uri": "https://localhost:8080/",
          "height": 363
        },
        "id": "26df819b-f459-429b-a850-c1f0f9f94f8b",
        "outputId": "4b14be6c-5c98-45fa-994c-16f6166d4523"
      },
      "outputs": [
        {
          "output_type": "display_data",
          "data": {
            "text/plain": [
              "<IPython.core.display.HTML object>"
            ],
            "text/html": [
              "\n",
              "<style>\n",
              "    /* Turns off some styling */\n",
              "    progress {\n",
              "        /* gets rid of default border in Firefox and Opera. */\n",
              "        border: none;\n",
              "        /* Needs to be in here for Safari polyfill so background images work as expected. */\n",
              "        background-size: auto;\n",
              "    }\n",
              "    progress:not([value]), progress:not([value])::-webkit-progress-bar {\n",
              "        background: repeating-linear-gradient(45deg, #7e7e7e, #7e7e7e 10px, #5c5c5c 10px, #5c5c5c 20px);\n",
              "    }\n",
              "    .progress-bar-interrupted, .progress-bar-interrupted::-webkit-progress-bar {\n",
              "        background: #F44336;\n",
              "    }\n",
              "</style>\n"
            ]
          },
          "metadata": {}
        },
        {
          "output_type": "display_data",
          "data": {
            "text/plain": [
              "<IPython.core.display.HTML object>"
            ],
            "text/html": [
              "<table border=\"1\" class=\"dataframe\">\n",
              "  <thead>\n",
              "    <tr style=\"text-align: left;\">\n",
              "      <th>epoch</th>\n",
              "      <th>train_loss</th>\n",
              "      <th>valid_loss</th>\n",
              "      <th>time</th>\n",
              "    </tr>\n",
              "  </thead>\n",
              "  <tbody>\n",
              "    <tr>\n",
              "      <td>0</td>\n",
              "      <td>0.043977</td>\n",
              "      <td>0.051046</td>\n",
              "      <td>00:00</td>\n",
              "    </tr>\n",
              "    <tr>\n",
              "      <td>1</td>\n",
              "      <td>0.041946</td>\n",
              "      <td>0.047424</td>\n",
              "      <td>00:00</td>\n",
              "    </tr>\n",
              "    <tr>\n",
              "      <td>2</td>\n",
              "      <td>0.040513</td>\n",
              "      <td>0.045494</td>\n",
              "      <td>00:00</td>\n",
              "    </tr>\n",
              "    <tr>\n",
              "      <td>3</td>\n",
              "      <td>0.039439</td>\n",
              "      <td>0.044648</td>\n",
              "      <td>00:00</td>\n",
              "    </tr>\n",
              "    <tr>\n",
              "      <td>4</td>\n",
              "      <td>0.038405</td>\n",
              "      <td>0.043965</td>\n",
              "      <td>00:00</td>\n",
              "    </tr>\n",
              "    <tr>\n",
              "      <td>5</td>\n",
              "      <td>0.037688</td>\n",
              "      <td>0.044328</td>\n",
              "      <td>00:00</td>\n",
              "    </tr>\n",
              "    <tr>\n",
              "      <td>6</td>\n",
              "      <td>0.037063</td>\n",
              "      <td>0.044558</td>\n",
              "      <td>00:00</td>\n",
              "    </tr>\n",
              "    <tr>\n",
              "      <td>7</td>\n",
              "      <td>0.036765</td>\n",
              "      <td>0.044889</td>\n",
              "      <td>00:00</td>\n",
              "    </tr>\n",
              "    <tr>\n",
              "      <td>8</td>\n",
              "      <td>0.036368</td>\n",
              "      <td>0.045410</td>\n",
              "      <td>00:00</td>\n",
              "    </tr>\n",
              "    <tr>\n",
              "      <td>9</td>\n",
              "      <td>0.035946</td>\n",
              "      <td>0.045723</td>\n",
              "      <td>00:00</td>\n",
              "    </tr>\n",
              "  </tbody>\n",
              "</table>"
            ]
          },
          "metadata": {}
        }
      ],
      "source": [
        "lrnr.fit(10)"
      ]
    },
    {
      "cell_type": "markdown",
      "source": [
        "- 그럼 계속 동일한 데이터로 구성되어져 있는 배치에 대해서 30번 학습한 것?"
      ],
      "metadata": {
        "id": "d6xihi54JWq0"
      },
      "id": "d6xihi54JWq0"
    },
    {
      "cell_type": "code",
      "execution_count": 52,
      "id": "SyYqdia5UrbU",
      "metadata": {
        "colab": {
          "base_uri": "https://localhost:8080/"
        },
        "id": "SyYqdia5UrbU",
        "outputId": "456cb6c8-7c2b-47a1-df43-ca8f49df3a74"
      },
      "outputs": [
        {
          "output_type": "execute_result",
          "data": {
            "text/plain": [
              "tensor([1.9949, 3.1066, 2.9928, 3.0203, 3.0077, 2.0495, 1.9925, 2.0209, 1.9446,\n",
              "        3.1027, 2.9105, 1.8953, 3.0883, 1.9135, 2.0431, 2.9699, 1.9160, 1.9139,\n",
              "        2.9780, 3.1430, 2.0144, 2.0002, 1.9890, 2.9239, 2.0053, 1.9547, 3.0133,\n",
              "        3.0226, 3.0466, 2.9784, 2.9969, 2.0730, 2.9868, 1.9919, 3.0498, 3.0932,\n",
              "        3.1290, 3.0818, 3.1352, 3.0216, 1.9685, 3.0288, 1.9852, 1.9646, 3.0108,\n",
              "        3.0809, 3.0427, 2.0983, 1.9600, 3.0099, 3.0880, 3.1222, 1.9712, 3.0373,\n",
              "        1.9062, 3.0307, 1.9688, 2.0329, 3.0960, 1.9165, 3.0674, 2.9871, 1.9008,\n",
              "        3.0002], device='cuda:0', grad_fn=<AddBackward0>)"
            ]
          },
          "metadata": {},
          "execution_count": 52
        }
      ],
      "source": [
        "yhat"
      ]
    },
    {
      "cell_type": "code",
      "execution_count": 53,
      "id": "HF465GF4UsuE",
      "metadata": {
        "colab": {
          "base_uri": "https://localhost:8080/"
        },
        "id": "HF465GF4UsuE",
        "outputId": "736f9ab3-092e-46a7-e019-693fbe89af1d"
      },
      "outputs": [
        {
          "output_type": "execute_result",
          "data": {
            "text/plain": [
              "tensor([[1.3293],\n",
              "        [4.1991],\n",
              "        [4.4509],\n",
              "        [4.3914],\n",
              "        [4.1035],\n",
              "        [1.3350],\n",
              "        [0.9975],\n",
              "        [0.6148],\n",
              "        [1.0044],\n",
              "        [4.2545],\n",
              "        [4.4496],\n",
              "        [1.1314],\n",
              "        [4.2214],\n",
              "        [0.5291],\n",
              "        [0.9221],\n",
              "        [4.0088],\n",
              "        [0.7951],\n",
              "        [0.8385],\n",
              "        [4.1664],\n",
              "        [3.8968],\n",
              "        [1.0369],\n",
              "        [0.9562],\n",
              "        [0.7822],\n",
              "        [4.0574],\n",
              "        [1.1040],\n",
              "        [1.1266],\n",
              "        [4.2178],\n",
              "        [4.2453],\n",
              "        [4.3417],\n",
              "        [3.8937],\n",
              "        [4.0258],\n",
              "        [0.7943],\n",
              "        [4.0512],\n",
              "        [0.8246],\n",
              "        [3.8483],\n",
              "        [3.9544],\n",
              "        [4.0533],\n",
              "        [4.0652],\n",
              "        [4.1735],\n",
              "        [3.9061],\n",
              "        [0.6762],\n",
              "        [4.3823],\n",
              "        [0.7852],\n",
              "        [0.8235],\n",
              "        [3.9602],\n",
              "        [3.8630],\n",
              "        [3.9869],\n",
              "        [1.0159],\n",
              "        [1.2878],\n",
              "        [3.6823],\n",
              "        [4.3921],\n",
              "        [3.8104],\n",
              "        [1.2535],\n",
              "        [3.9419],\n",
              "        [1.0190],\n",
              "        [4.0234],\n",
              "        [0.9221],\n",
              "        [1.0987],\n",
              "        [4.0085],\n",
              "        [0.8868],\n",
              "        [4.7132],\n",
              "        [3.7150],\n",
              "        [0.8335],\n",
              "        [4.3588]])"
            ]
          },
          "metadata": {},
          "execution_count": 53
        }
      ],
      "source": [
        "y"
      ]
    },
    {
      "cell_type": "markdown",
      "id": "d4ffa23a-04da-4e2e-b774-10a61c40c76d",
      "metadata": {
        "id": "d4ffa23a-04da-4e2e-b774-10a61c40c76d"
      },
      "source": [
        "> ## ??"
      ]
    },
    {
      "cell_type": "markdown",
      "id": "ee87ecb4-df96-4997-a121-4fec6f624ec7",
      "metadata": {
        "id": "ee87ecb4-df96-4997-a121-4fec6f624ec7"
      },
      "source": [
        "X[0]\n",
        "- 이렇게 하면 error 발생\n",
        "- 왜?\n",
        "- 입력 형식의 문제임\n",
        "- 코드 돌려보고 어떤 문제인지 알아보자"
      ]
    },
    {
      "cell_type": "code",
      "execution_count": 56,
      "id": "N7prmjMKVDa1",
      "metadata": {
        "colab": {
          "base_uri": "https://localhost:8080/"
        },
        "id": "N7prmjMKVDa1",
        "outputId": "f95e8448-655b-4bae-c1d9-9729a809a98c"
      },
      "outputs": [
        {
          "output_type": "execute_result",
          "data": {
            "text/plain": [
              "tensor([[98,  9]])"
            ]
          },
          "metadata": {},
          "execution_count": 56
        }
      ],
      "source": [
        "X[0:1]\n",
        "# 해당 유저가 좋아할 음료는 무엇일지 predict 해보자"
      ]
    },
    {
      "cell_type": "markdown",
      "id": "f9a4d38a-53b6-401a-8e21-a5e08e7ee0f7",
      "metadata": {
        "id": "f9a4d38a-53b6-401a-8e21-a5e08e7ee0f7"
      },
      "source": [
        "- 모델을 학습시켰으니 predict해보자"
      ]
    },
    {
      "cell_type": "code",
      "execution_count": 58,
      "id": "JbFJcJ2vU3A0",
      "metadata": {
        "colab": {
          "base_uri": "https://localhost:8080/"
        },
        "id": "JbFJcJ2vU3A0",
        "outputId": "c02fc67f-8fd2-429e-f795-bb7c7a66da29"
      },
      "outputs": [
        {
          "output_type": "execute_result",
          "data": {
            "text/plain": [
              "tensor([1.0814], device='cuda:0', grad_fn=<AddBackward0>)"
            ]
          },
          "metadata": {},
          "execution_count": 58
        }
      ],
      "source": [
        "lrnr.model(X[0:1].to(\"cuda:0\"))"
      ]
    },
    {
      "cell_type": "code",
      "execution_count": 59,
      "id": "ECPpxEdPVQ_E",
      "metadata": {
        "id": "ECPpxEdPVQ_E"
      },
      "outputs": [],
      "source": [
        "# 하나의 유저가 하나의 아이템을 선택했다고 가정하고 예측(주어진 자료중에서 예측)"
      ]
    },
    {
      "cell_type": "code",
      "execution_count": 60,
      "id": "hY1zyqPNVmTl",
      "metadata": {
        "id": "hY1zyqPNVmTl"
      },
      "outputs": [],
      "source": [
        "Xnew= torch.tensor([[1,2]])"
      ]
    },
    {
      "cell_type": "code",
      "execution_count": 62,
      "id": "kjxbWL82VwZs",
      "metadata": {
        "colab": {
          "base_uri": "https://localhost:8080/"
        },
        "id": "kjxbWL82VwZs",
        "outputId": "f748abb5-89ba-4724-c664-73cf8b8c06ca"
      },
      "outputs": [
        {
          "output_type": "execute_result",
          "data": {
            "text/plain": [
              "tensor([3.9209], device='cuda:0', grad_fn=<AddBackward0>)"
            ]
          },
          "metadata": {},
          "execution_count": 62
        }
      ],
      "source": [
        "lrnr.model(Xnew.to(\"cuda:0\"))"
      ]
    },
    {
      "cell_type": "code",
      "execution_count": 66,
      "id": "0rvw3gUPVz49",
      "metadata": {
        "colab": {
          "base_uri": "https://localhost:8080/"
        },
        "id": "0rvw3gUPVz49",
        "outputId": "0c529792-4c37-4b17-fd61-d79c1201f6dd"
      },
      "outputs": [
        {
          "output_type": "execute_result",
          "data": {
            "text/plain": [
              "tensor([0.9566], device='cuda:0', grad_fn=<AddBackward0>)"
            ]
          },
          "metadata": {},
          "execution_count": 66
        }
      ],
      "source": [
        "Xnew= torch.tensor([[1,17]]) \n",
        "lrnr.model(Xnew.to(\"cuda:0\"))"
      ]
    },
    {
      "cell_type": "markdown",
      "id": "26df02d9-e3cf-448a-8917-fa29f82b179d",
      "metadata": {
        "id": "26df02d9-e3cf-448a-8917-fa29f82b179d"
      },
      "source": [
        "## 텍스트분석"
      ]
    },
    {
      "cell_type": "code",
      "execution_count": 67,
      "id": "Q-1c-f7UWGAN",
      "metadata": {
        "id": "Q-1c-f7UWGAN"
      },
      "outputs": [],
      "source": [
        "df  = pd.DataFrame({'text':['h e l l o . h e l l o ! h e l l o ? h e l l o !! h e l l o ??']*20000})"
      ]
    },
    {
      "cell_type": "code",
      "execution_count": 68,
      "id": "ZkkhaSuCX4at",
      "metadata": {
        "colab": {
          "base_uri": "https://localhost:8080/",
          "height": 143
        },
        "id": "ZkkhaSuCX4at",
        "outputId": "a4bbc306-2336-4f8b-8aca-b070696ba745"
      },
      "outputs": [
        {
          "output_type": "execute_result",
          "data": {
            "text/plain": [
              "                                                            text\n",
              "0  h e l l o . h e l l o ! h e l l o ? h e l l o !! h e l l o ??\n",
              "1  h e l l o . h e l l o ! h e l l o ? h e l l o !! h e l l o ??\n",
              "2  h e l l o . h e l l o ! h e l l o ? h e l l o !! h e l l o ??"
            ],
            "text/html": [
              "\n",
              "  <div id=\"df-7c3765c7-8949-4d4a-b19a-3b802b5c1e21\">\n",
              "    <div class=\"colab-df-container\">\n",
              "      <div>\n",
              "<style scoped>\n",
              "    .dataframe tbody tr th:only-of-type {\n",
              "        vertical-align: middle;\n",
              "    }\n",
              "\n",
              "    .dataframe tbody tr th {\n",
              "        vertical-align: top;\n",
              "    }\n",
              "\n",
              "    .dataframe thead th {\n",
              "        text-align: right;\n",
              "    }\n",
              "</style>\n",
              "<table border=\"1\" class=\"dataframe\">\n",
              "  <thead>\n",
              "    <tr style=\"text-align: right;\">\n",
              "      <th></th>\n",
              "      <th>text</th>\n",
              "    </tr>\n",
              "  </thead>\n",
              "  <tbody>\n",
              "    <tr>\n",
              "      <th>0</th>\n",
              "      <td>h e l l o . h e l l o ! h e l l o ? h e l l o !! h e l l o ??</td>\n",
              "    </tr>\n",
              "    <tr>\n",
              "      <th>1</th>\n",
              "      <td>h e l l o . h e l l o ! h e l l o ? h e l l o !! h e l l o ??</td>\n",
              "    </tr>\n",
              "    <tr>\n",
              "      <th>2</th>\n",
              "      <td>h e l l o . h e l l o ! h e l l o ? h e l l o !! h e l l o ??</td>\n",
              "    </tr>\n",
              "  </tbody>\n",
              "</table>\n",
              "</div>\n",
              "      <button class=\"colab-df-convert\" onclick=\"convertToInteractive('df-7c3765c7-8949-4d4a-b19a-3b802b5c1e21')\"\n",
              "              title=\"Convert this dataframe to an interactive table.\"\n",
              "              style=\"display:none;\">\n",
              "        \n",
              "  <svg xmlns=\"http://www.w3.org/2000/svg\" height=\"24px\"viewBox=\"0 0 24 24\"\n",
              "       width=\"24px\">\n",
              "    <path d=\"M0 0h24v24H0V0z\" fill=\"none\"/>\n",
              "    <path d=\"M18.56 5.44l.94 2.06.94-2.06 2.06-.94-2.06-.94-.94-2.06-.94 2.06-2.06.94zm-11 1L8.5 8.5l.94-2.06 2.06-.94-2.06-.94L8.5 2.5l-.94 2.06-2.06.94zm10 10l.94 2.06.94-2.06 2.06-.94-2.06-.94-.94-2.06-.94 2.06-2.06.94z\"/><path d=\"M17.41 7.96l-1.37-1.37c-.4-.4-.92-.59-1.43-.59-.52 0-1.04.2-1.43.59L10.3 9.45l-7.72 7.72c-.78.78-.78 2.05 0 2.83L4 21.41c.39.39.9.59 1.41.59.51 0 1.02-.2 1.41-.59l7.78-7.78 2.81-2.81c.8-.78.8-2.07 0-2.86zM5.41 20L4 18.59l7.72-7.72 1.47 1.35L5.41 20z\"/>\n",
              "  </svg>\n",
              "      </button>\n",
              "      \n",
              "  <style>\n",
              "    .colab-df-container {\n",
              "      display:flex;\n",
              "      flex-wrap:wrap;\n",
              "      gap: 12px;\n",
              "    }\n",
              "\n",
              "    .colab-df-convert {\n",
              "      background-color: #E8F0FE;\n",
              "      border: none;\n",
              "      border-radius: 50%;\n",
              "      cursor: pointer;\n",
              "      display: none;\n",
              "      fill: #1967D2;\n",
              "      height: 32px;\n",
              "      padding: 0 0 0 0;\n",
              "      width: 32px;\n",
              "    }\n",
              "\n",
              "    .colab-df-convert:hover {\n",
              "      background-color: #E2EBFA;\n",
              "      box-shadow: 0px 1px 2px rgba(60, 64, 67, 0.3), 0px 1px 3px 1px rgba(60, 64, 67, 0.15);\n",
              "      fill: #174EA6;\n",
              "    }\n",
              "\n",
              "    [theme=dark] .colab-df-convert {\n",
              "      background-color: #3B4455;\n",
              "      fill: #D2E3FC;\n",
              "    }\n",
              "\n",
              "    [theme=dark] .colab-df-convert:hover {\n",
              "      background-color: #434B5C;\n",
              "      box-shadow: 0px 1px 3px 1px rgba(0, 0, 0, 0.15);\n",
              "      filter: drop-shadow(0px 1px 2px rgba(0, 0, 0, 0.3));\n",
              "      fill: #FFFFFF;\n",
              "    }\n",
              "  </style>\n",
              "\n",
              "      <script>\n",
              "        const buttonEl =\n",
              "          document.querySelector('#df-7c3765c7-8949-4d4a-b19a-3b802b5c1e21 button.colab-df-convert');\n",
              "        buttonEl.style.display =\n",
              "          google.colab.kernel.accessAllowed ? 'block' : 'none';\n",
              "\n",
              "        async function convertToInteractive(key) {\n",
              "          const element = document.querySelector('#df-7c3765c7-8949-4d4a-b19a-3b802b5c1e21');\n",
              "          const dataTable =\n",
              "            await google.colab.kernel.invokeFunction('convertToInteractive',\n",
              "                                                     [key], {});\n",
              "          if (!dataTable) return;\n",
              "\n",
              "          const docLinkHtml = 'Like what you see? Visit the ' +\n",
              "            '<a target=\"_blank\" href=https://colab.research.google.com/notebooks/data_table.ipynb>data table notebook</a>'\n",
              "            + ' to learn more about interactive tables.';\n",
              "          element.innerHTML = '';\n",
              "          dataTable['output_type'] = 'display_data';\n",
              "          await google.colab.output.renderOutput(dataTable, element);\n",
              "          const docLink = document.createElement('div');\n",
              "          docLink.innerHTML = docLinkHtml;\n",
              "          element.appendChild(docLink);\n",
              "        }\n",
              "      </script>\n",
              "    </div>\n",
              "  </div>\n",
              "  "
            ]
          },
          "metadata": {},
          "execution_count": 68
        }
      ],
      "source": [
        "df.head(3)"
      ]
    },
    {
      "cell_type": "code",
      "execution_count": 69,
      "id": "M29jTAJeX-qF",
      "metadata": {
        "colab": {
          "base_uri": "https://localhost:8080/",
          "height": 17
        },
        "id": "M29jTAJeX-qF",
        "outputId": "481a8bd8-9b80-421a-e5a9-7c50f607ed28"
      },
      "outputs": [
        {
          "output_type": "display_data",
          "data": {
            "text/plain": [
              "<IPython.core.display.HTML object>"
            ],
            "text/html": [
              "\n",
              "<style>\n",
              "    /* Turns off some styling */\n",
              "    progress {\n",
              "        /* gets rid of default border in Firefox and Opera. */\n",
              "        border: none;\n",
              "        /* Needs to be in here for Safari polyfill so background images work as expected. */\n",
              "        background-size: auto;\n",
              "    }\n",
              "    progress:not([value]), progress:not([value])::-webkit-progress-bar {\n",
              "        background: repeating-linear-gradient(45deg, #7e7e7e, #7e7e7e 10px, #5c5c5c 10px, #5c5c5c 20px);\n",
              "    }\n",
              "    .progress-bar-interrupted, .progress-bar-interrupted::-webkit-progress-bar {\n",
              "        background: #F44336;\n",
              "    }\n",
              "</style>\n"
            ]
          },
          "metadata": {}
        },
        {
          "output_type": "display_data",
          "data": {
            "text/plain": [
              "<IPython.core.display.HTML object>"
            ],
            "text/html": []
          },
          "metadata": {}
        }
      ],
      "source": [
        "dls = TextDataLoaders.from_df(df, text_col = 'text', is_lm=True)\n",
        "# text 생성에 관심이 있다면 is_lm = True"
      ]
    },
    {
      "cell_type": "code",
      "execution_count": 71,
      "id": "kjgLf1g8YVVm",
      "metadata": {
        "colab": {
          "base_uri": "https://localhost:8080/",
          "height": 332
        },
        "id": "kjgLf1g8YVVm",
        "outputId": "2643e0f4-871f-4e9c-cfec-c842c7fcb439"
      },
      "outputs": [
        {
          "output_type": "display_data",
          "data": {
            "text/plain": [
              "<IPython.core.display.HTML object>"
            ],
            "text/html": [
              "<table border=\"1\" class=\"dataframe\">\n",
              "  <thead>\n",
              "    <tr style=\"text-align: right;\">\n",
              "      <th></th>\n",
              "      <th>text</th>\n",
              "      <th>text_</th>\n",
              "    </tr>\n",
              "  </thead>\n",
              "  <tbody>\n",
              "    <tr>\n",
              "      <th>0</th>\n",
              "      <td>xxbos h e l l o . h e l l o ! h e l l o ? h e l l o ! ! h e l l o ? ? xxbos h e l l o . h e l l o ! h e l l o ? h e l l o ! ! h e l l o ? ? xxbos h e l l o</td>\n",
              "      <td>h e l l o . h e l l o ! h e l l o ? h e l l o ! ! h e l l o ? ? xxbos h e l l o . h e l l o ! h e l l o ? h e l l o ! ! h e l l o ? ? xxbos h e l l o .</td>\n",
              "    </tr>\n",
              "    <tr>\n",
              "      <th>1</th>\n",
              "      <td>? xxbos h e l l o . h e l l o ! h e l l o ? h e l l o ! ! h e l l o ? ? xxbos h e l l o . h e l l o ! h e l l o ? h e l l o ! ! h e l l o ? ? xxbos h e l l</td>\n",
              "      <td>xxbos h e l l o . h e l l o ! h e l l o ? h e l l o ! ! h e l l o ? ? xxbos h e l l o . h e l l o ! h e l l o ? h e l l o ! ! h e l l o ? ? xxbos h e l l o</td>\n",
              "    </tr>\n",
              "    <tr>\n",
              "      <th>2</th>\n",
              "      <td>? ? xxbos h e l l o . h e l l o ! h e l l o ? h e l l o ! ! h e l l o ? ? xxbos h e l l o . h e l l o ! h e l l o ? h e l l o ! ! h e l l o ? ? xxbos h e l</td>\n",
              "      <td>? xxbos h e l l o . h e l l o ! h e l l o ? h e l l o ! ! h e l l o ? ? xxbos h e l l o . h e l l o ! h e l l o ? h e l l o ! ! h e l l o ? ? xxbos h e l l</td>\n",
              "    </tr>\n",
              "    <tr>\n",
              "      <th>3</th>\n",
              "      <td>o ? ? xxbos h e l l o . h e l l o ! h e l l o ? h e l l o ! ! h e l l o ? ? xxbos h e l l o . h e l l o ! h e l l o ? h e l l o ! ! h e l l o ? ? xxbos h e</td>\n",
              "      <td>? ? xxbos h e l l o . h e l l o ! h e l l o ? h e l l o ! ! h e l l o ? ? xxbos h e l l o . h e l l o ! h e l l o ? h e l l o ! ! h e l l o ? ? xxbos h e l</td>\n",
              "    </tr>\n",
              "    <tr>\n",
              "      <th>4</th>\n",
              "      <td>l o ? ? xxbos h e l l o . h e l l o ! h e l l o ? h e l l o ! ! h e l l o ? ? xxbos h e l l o . h e l l o ! h e l l o ? h e l l o ! ! h e l l o ? ? xxbos h</td>\n",
              "      <td>o ? ? xxbos h e l l o . h e l l o ! h e l l o ? h e l l o ! ! h e l l o ? ? xxbos h e l l o . h e l l o ! h e l l o ? h e l l o ! ! h e l l o ? ? xxbos h e</td>\n",
              "    </tr>\n",
              "    <tr>\n",
              "      <th>5</th>\n",
              "      <td>l l o ? ? xxbos h e l l o . h e l l o ! h e l l o ? h e l l o ! ! h e l l o ? ? xxbos h e l l o . h e l l o ! h e l l o ? h e l l o ! ! h e l l o ? ? xxbos</td>\n",
              "      <td>l o ? ? xxbos h e l l o . h e l l o ! h e l l o ? h e l l o ! ! h e l l o ? ? xxbos h e l l o . h e l l o ! h e l l o ? h e l l o ! ! h e l l o ? ? xxbos h</td>\n",
              "    </tr>\n",
              "    <tr>\n",
              "      <th>6</th>\n",
              "      <td>e l l o ? ? xxbos h e l l o . h e l l o ! h e l l o ? h e l l o ! ! h e l l o ? ? xxbos h e l l o . h e l l o ! h e l l o ? h e l l o ! ! h e l l o ? ?</td>\n",
              "      <td>l l o ? ? xxbos h e l l o . h e l l o ! h e l l o ? h e l l o ! ! h e l l o ? ? xxbos h e l l o . h e l l o ! h e l l o ? h e l l o ! ! h e l l o ? ? xxbos</td>\n",
              "    </tr>\n",
              "    <tr>\n",
              "      <th>7</th>\n",
              "      <td>h e l l o ? ? xxbos h e l l o . h e l l o ! h e l l o ? h e l l o ! ! h e l l o ? ? xxbos h e l l o . h e l l o ! h e l l o ? h e l l o ! ! h e l l o ?</td>\n",
              "      <td>e l l o ? ? xxbos h e l l o . h e l l o ! h e l l o ? h e l l o ! ! h e l l o ? ? xxbos h e l l o . h e l l o ! h e l l o ? h e l l o ! ! h e l l o ? ?</td>\n",
              "    </tr>\n",
              "    <tr>\n",
              "      <th>8</th>\n",
              "      <td>! h e l l o ? ? xxbos h e l l o . h e l l o ! h e l l o ? h e l l o ! ! h e l l o ? ? xxbos h e l l o . h e l l o ! h e l l o ? h e l l o ! ! h e l l o</td>\n",
              "      <td>h e l l o ? ? xxbos h e l l o . h e l l o ! h e l l o ? h e l l o ! ! h e l l o ? ? xxbos h e l l o . h e l l o ! h e l l o ? h e l l o ! ! h e l l o ?</td>\n",
              "    </tr>\n",
              "  </tbody>\n",
              "</table>"
            ]
          },
          "metadata": {}
        }
      ],
      "source": [
        "dls.show_batch()\n",
        "## text가 x역할 , text_가 y역할"
      ]
    },
    {
      "cell_type": "code",
      "execution_count": 72,
      "id": "dw0UUb_aZ-sm",
      "metadata": {
        "id": "dw0UUb_aZ-sm"
      },
      "outputs": [],
      "source": [
        "# 2단계"
      ]
    },
    {
      "cell_type": "code",
      "execution_count": 73,
      "id": "MO_rm3rFZgfW",
      "metadata": {
        "id": "MO_rm3rFZgfW",
        "colab": {
          "base_uri": "https://localhost:8080/",
          "height": 37
        },
        "outputId": "49d5d1e7-4717-411b-c7d8-201998e5e868"
      },
      "outputs": [
        {
          "output_type": "display_data",
          "data": {
            "text/plain": [
              "<IPython.core.display.HTML object>"
            ],
            "text/html": [
              "\n",
              "<style>\n",
              "    /* Turns off some styling */\n",
              "    progress {\n",
              "        /* gets rid of default border in Firefox and Opera. */\n",
              "        border: none;\n",
              "        /* Needs to be in here for Safari polyfill so background images work as expected. */\n",
              "        background-size: auto;\n",
              "    }\n",
              "    progress:not([value]), progress:not([value])::-webkit-progress-bar {\n",
              "        background: repeating-linear-gradient(45deg, #7e7e7e, #7e7e7e 10px, #5c5c5c 10px, #5c5c5c 20px);\n",
              "    }\n",
              "    .progress-bar-interrupted, .progress-bar-interrupted::-webkit-progress-bar {\n",
              "        background: #F44336;\n",
              "    }\n",
              "</style>\n"
            ]
          },
          "metadata": {}
        },
        {
          "output_type": "display_data",
          "data": {
            "text/plain": [
              "<IPython.core.display.HTML object>"
            ],
            "text/html": [
              "\n",
              "    <div>\n",
              "      <progress value='105070592' class='' max='105067061' style='width:300px; height:20px; vertical-align: middle;'></progress>\n",
              "      100.00% [105070592/105067061 00:09&lt;00:00]\n",
              "    </div>\n",
              "    "
            ]
          },
          "metadata": {}
        }
      ],
      "source": [
        "lrnr = language_model_learner(dls, AWD_LSTM)\n",
        "# AWD_LSTM => 모형 like resnet"
      ]
    },
    {
      "cell_type": "code",
      "execution_count": 74,
      "id": "IULckVMBZ8_-",
      "metadata": {
        "id": "IULckVMBZ8_-"
      },
      "outputs": [],
      "source": [
        "#3단계"
      ]
    },
    {
      "cell_type": "code",
      "execution_count": 75,
      "id": "JmV7bgDAaDeu",
      "metadata": {
        "colab": {
          "base_uri": "https://localhost:8080/",
          "height": 81
        },
        "id": "JmV7bgDAaDeu",
        "outputId": "8a5c527a-3b0d-4d4e-f521-fa505151b063"
      },
      "outputs": [
        {
          "output_type": "display_data",
          "data": {
            "text/plain": [
              "<IPython.core.display.HTML object>"
            ],
            "text/html": [
              "\n",
              "<style>\n",
              "    /* Turns off some styling */\n",
              "    progress {\n",
              "        /* gets rid of default border in Firefox and Opera. */\n",
              "        border: none;\n",
              "        /* Needs to be in here for Safari polyfill so background images work as expected. */\n",
              "        background-size: auto;\n",
              "    }\n",
              "    progress:not([value]), progress:not([value])::-webkit-progress-bar {\n",
              "        background: repeating-linear-gradient(45deg, #7e7e7e, #7e7e7e 10px, #5c5c5c 10px, #5c5c5c 20px);\n",
              "    }\n",
              "    .progress-bar-interrupted, .progress-bar-interrupted::-webkit-progress-bar {\n",
              "        background: #F44336;\n",
              "    }\n",
              "</style>\n"
            ]
          },
          "metadata": {}
        },
        {
          "output_type": "display_data",
          "data": {
            "text/plain": [
              "<IPython.core.display.HTML object>"
            ],
            "text/html": [
              "<table border=\"1\" class=\"dataframe\">\n",
              "  <thead>\n",
              "    <tr style=\"text-align: left;\">\n",
              "      <th>epoch</th>\n",
              "      <th>train_loss</th>\n",
              "      <th>valid_loss</th>\n",
              "      <th>time</th>\n",
              "    </tr>\n",
              "  </thead>\n",
              "  <tbody>\n",
              "    <tr>\n",
              "      <td>0</td>\n",
              "      <td>1.939229</td>\n",
              "      <td>0.863949</td>\n",
              "      <td>00:40</td>\n",
              "    </tr>\n",
              "  </tbody>\n",
              "</table>"
            ]
          },
          "metadata": {}
        }
      ],
      "source": [
        "lrnr.fit(1)"
      ]
    },
    {
      "cell_type": "code",
      "execution_count": 76,
      "id": "f0Zx9Q2UbI0m",
      "metadata": {
        "id": "f0Zx9Q2UbI0m"
      },
      "outputs": [],
      "source": [
        "#lrnr.fit(10)\n",
        "#이렇게 설정하면 당연히 학습이 더 잘 될 것"
      ]
    },
    {
      "cell_type": "code",
      "execution_count": 78,
      "id": "-E1hz_CaazE2",
      "metadata": {
        "id": "-E1hz_CaazE2",
        "colab": {
          "base_uri": "https://localhost:8080/",
          "height": 36
        },
        "outputId": "219b3d0e-80d4-42b8-969a-2b1922a8b6f9"
      },
      "outputs": [
        {
          "output_type": "display_data",
          "data": {
            "text/plain": [
              "<IPython.core.display.HTML object>"
            ],
            "text/html": [
              "\n",
              "<style>\n",
              "    /* Turns off some styling */\n",
              "    progress {\n",
              "        /* gets rid of default border in Firefox and Opera. */\n",
              "        border: none;\n",
              "        /* Needs to be in here for Safari polyfill so background images work as expected. */\n",
              "        background-size: auto;\n",
              "    }\n",
              "    progress:not([value]), progress:not([value])::-webkit-progress-bar {\n",
              "        background: repeating-linear-gradient(45deg, #7e7e7e, #7e7e7e 10px, #5c5c5c 10px, #5c5c5c 20px);\n",
              "    }\n",
              "    .progress-bar-interrupted, .progress-bar-interrupted::-webkit-progress-bar {\n",
              "        background: #F44336;\n",
              "    }\n",
              "</style>\n"
            ]
          },
          "metadata": {}
        },
        {
          "output_type": "display_data",
          "data": {
            "text/plain": [
              "<IPython.core.display.HTML object>"
            ],
            "text/html": []
          },
          "metadata": {}
        },
        {
          "output_type": "execute_result",
          "data": {
            "text/plain": [
              "'h e l o O ? O ! O ! ! ! h l o ! ! e h l o ! h h l l l o'"
            ],
            "application/vnd.google.colaboratory.intrinsic+json": {
              "type": "string"
            }
          },
          "metadata": {},
          "execution_count": 78
        }
      ],
      "source": [
        "lrnr.predict(\"h e\", n_words=30)"
      ]
    },
    {
      "cell_type": "markdown",
      "source": [
        "그닥 성능이 뛰어나보이진 않는다\n",
        "\n",
        "lrnr.fit(5)로 맞추고 수행을 해보자"
      ],
      "metadata": {
        "id": "sqB9x40HL931"
      },
      "id": "sqB9x40HL931"
    },
    {
      "cell_type": "code",
      "source": [
        "lrnr.fit(5)"
      ],
      "metadata": {
        "colab": {
          "base_uri": "https://localhost:8080/",
          "height": 206
        },
        "id": "425APd4OL8eZ",
        "outputId": "1abd8cc5-fbbd-49e6-a06d-d8998c60d97f"
      },
      "id": "425APd4OL8eZ",
      "execution_count": 79,
      "outputs": [
        {
          "output_type": "display_data",
          "data": {
            "text/plain": [
              "<IPython.core.display.HTML object>"
            ],
            "text/html": [
              "\n",
              "<style>\n",
              "    /* Turns off some styling */\n",
              "    progress {\n",
              "        /* gets rid of default border in Firefox and Opera. */\n",
              "        border: none;\n",
              "        /* Needs to be in here for Safari polyfill so background images work as expected. */\n",
              "        background-size: auto;\n",
              "    }\n",
              "    progress:not([value]), progress:not([value])::-webkit-progress-bar {\n",
              "        background: repeating-linear-gradient(45deg, #7e7e7e, #7e7e7e 10px, #5c5c5c 10px, #5c5c5c 20px);\n",
              "    }\n",
              "    .progress-bar-interrupted, .progress-bar-interrupted::-webkit-progress-bar {\n",
              "        background: #F44336;\n",
              "    }\n",
              "</style>\n"
            ]
          },
          "metadata": {}
        },
        {
          "output_type": "display_data",
          "data": {
            "text/plain": [
              "<IPython.core.display.HTML object>"
            ],
            "text/html": [
              "<table border=\"1\" class=\"dataframe\">\n",
              "  <thead>\n",
              "    <tr style=\"text-align: left;\">\n",
              "      <th>epoch</th>\n",
              "      <th>train_loss</th>\n",
              "      <th>valid_loss</th>\n",
              "      <th>time</th>\n",
              "    </tr>\n",
              "  </thead>\n",
              "  <tbody>\n",
              "    <tr>\n",
              "      <td>0</td>\n",
              "      <td>0.922182</td>\n",
              "      <td>0.374670</td>\n",
              "      <td>00:34</td>\n",
              "    </tr>\n",
              "    <tr>\n",
              "      <td>1</td>\n",
              "      <td>0.611042</td>\n",
              "      <td>0.247983</td>\n",
              "      <td>00:36</td>\n",
              "    </tr>\n",
              "    <tr>\n",
              "      <td>2</td>\n",
              "      <td>0.498036</td>\n",
              "      <td>0.213546</td>\n",
              "      <td>00:35</td>\n",
              "    </tr>\n",
              "    <tr>\n",
              "      <td>3</td>\n",
              "      <td>0.400501</td>\n",
              "      <td>0.186736</td>\n",
              "      <td>00:36</td>\n",
              "    </tr>\n",
              "    <tr>\n",
              "      <td>4</td>\n",
              "      <td>0.368718</td>\n",
              "      <td>0.166502</td>\n",
              "      <td>00:35</td>\n",
              "    </tr>\n",
              "  </tbody>\n",
              "</table>"
            ]
          },
          "metadata": {}
        }
      ]
    },
    {
      "cell_type": "code",
      "source": [
        "lrnr.predict(\"h e\", n_words=30)"
      ],
      "metadata": {
        "colab": {
          "base_uri": "https://localhost:8080/",
          "height": 36
        },
        "id": "nyk4mdIoMkti",
        "outputId": "96a218b8-a5a3-4ced-b386-f778edbfdc79"
      },
      "id": "nyk4mdIoMkti",
      "execution_count": 80,
      "outputs": [
        {
          "output_type": "display_data",
          "data": {
            "text/plain": [
              "<IPython.core.display.HTML object>"
            ],
            "text/html": [
              "\n",
              "<style>\n",
              "    /* Turns off some styling */\n",
              "    progress {\n",
              "        /* gets rid of default border in Firefox and Opera. */\n",
              "        border: none;\n",
              "        /* Needs to be in here for Safari polyfill so background images work as expected. */\n",
              "        background-size: auto;\n",
              "    }\n",
              "    progress:not([value]), progress:not([value])::-webkit-progress-bar {\n",
              "        background: repeating-linear-gradient(45deg, #7e7e7e, #7e7e7e 10px, #5c5c5c 10px, #5c5c5c 20px);\n",
              "    }\n",
              "    .progress-bar-interrupted, .progress-bar-interrupted::-webkit-progress-bar {\n",
              "        background: #F44336;\n",
              "    }\n",
              "</style>\n"
            ]
          },
          "metadata": {}
        },
        {
          "output_type": "display_data",
          "data": {
            "text/plain": [
              "<IPython.core.display.HTML object>"
            ],
            "text/html": []
          },
          "metadata": {}
        },
        {
          "output_type": "execute_result",
          "data": {
            "text/plain": [
              "'h e l l o . h e l l o ! ! h e l l o ? h e l l o ? ? h e l l o'"
            ],
            "application/vnd.google.colaboratory.intrinsic+json": {
              "type": "string"
            }
          },
          "metadata": {},
          "execution_count": 80
        }
      ]
    },
    {
      "cell_type": "markdown",
      "source": [
        "- 확실히 학습 에폭을 늘리니 성능이 매우 좋아짐을 확인할 수 있다. "
      ],
      "metadata": {
        "id": "Uu1VVX--M8J-"
      },
      "id": "Uu1VVX--M8J-"
    },
    {
      "cell_type": "markdown",
      "id": "d9f7a28e-2e17-4748-8491-b3bb60870d25",
      "metadata": {
        "id": "d9f7a28e-2e17-4748-8491-b3bb60870d25"
      },
      "source": [
        "## GAN (Generative Adversarial Network)"
      ]
    },
    {
      "cell_type": "markdown",
      "id": "77dcc5e6-b141-4fde-bb6c-38537b54b8cb",
      "metadata": {
        "id": "77dcc5e6-b141-4fde-bb6c-38537b54b8cb"
      },
      "source": [
        "`-` 저자: 이안굿펠로우 (이름이 특이함. 좋은친구..) \n",
        "- 천재임 \n",
        "- 지도교수가 요수아 벤지오 "
      ]
    },
    {
      "cell_type": "markdown",
      "id": "2278f4cf-1738-4fa0-91da-55b3ef33904d",
      "metadata": {
        "id": "2278f4cf-1738-4fa0-91da-55b3ef33904d"
      },
      "source": [
        "`-` 논문 NIPS, 저는 이 논문 읽고 소름돋았어요.. \n",
        "- https://arxiv.org/abs/1406.2661 (현재시점, 38751회 인용되었음 $\\to$ 48978회 인용..)"
      ]
    },
    {
      "cell_type": "markdown",
      "id": "b8bdd6ab-3883-46e3-a90a-47968224e37c",
      "metadata": {
        "id": "b8bdd6ab-3883-46e3-a90a-47968224e37c"
      },
      "source": [
        "`-` 최근 10년간 머신러닝 분야에서 가장 혁신적인 아이디어이다. (얀르쿤, 2014년 시점..) "
      ]
    },
    {
      "cell_type": "markdown",
      "id": "a5bf2a75-5dc6-402c-a32c-6354899fdc94",
      "metadata": {
        "id": "a5bf2a75-5dc6-402c-a32c-6354899fdc94"
      },
      "source": [
        "`-` 무슨내용? 생성모형 "
      ]
    },
    {
      "cell_type": "markdown",
      "id": "34e25c37-85e0-46bf-a686-107def3c61ad",
      "metadata": {
        "id": "34e25c37-85e0-46bf-a686-107def3c61ad"
      },
      "source": [
        "### 생성모형이란? (쉬운 설명)"
      ]
    },
    {
      "cell_type": "markdown",
      "id": "04dd5ada-8337-4f90-8ff1-167f52fa9200",
      "metadata": {
        "id": "04dd5ada-8337-4f90-8ff1-167f52fa9200"
      },
      "source": [
        "> 만들수 없다면 이해하지 못한 것이다, 리처드 파인만 (천재 물리학자) "
      ]
    },
    {
      "cell_type": "markdown",
      "id": "b8851731-52ab-4695-8d52-d66098b67816",
      "metadata": {
        "id": "b8851731-52ab-4695-8d52-d66098b67816"
      },
      "source": [
        "`-` 사진속에 들어있는 동물이 개인지 고양이인지 맞출수 있는 기계와 개와 고양이를 그릴수 있는 기계중 어떤것이 더 시각적보에 대한 이해가 깊다고 볼수 있는가? "
      ]
    },
    {
      "cell_type": "markdown",
      "id": "fc9044ae-7e3c-410c-9174-369b42484124",
      "metadata": {
        "id": "fc9044ae-7e3c-410c-9174-369b42484124"
      },
      "source": [
        "`-` 진정으로 인공지능이 이미지를 이해했다면, 이미지를 만들수도 있어야 한다. $\\to$ 이미지를 생성하는 모형을 만들어보자 $\\to$ 성공 "
      ]
    },
    {
      "cell_type": "markdown",
      "id": "ddc4b6f4-ffcc-49a6-9eb0-44cff9e60248",
      "metadata": {
        "id": "ddc4b6f4-ffcc-49a6-9eb0-44cff9e60248"
      },
      "source": [
        "![](https://upload.wikimedia.org/wikipedia/commons/1/1f/Woman_1.jpg)"
      ]
    },
    {
      "cell_type": "markdown",
      "id": "2de7bd2e-e0c3-44e8-a5f6-bd7589ef5725",
      "metadata": {
        "id": "2de7bd2e-e0c3-44e8-a5f6-bd7589ef5725"
      },
      "source": [
        "#### GAN의 응용분야"
      ]
    },
    {
      "cell_type": "markdown",
      "id": "42187fc7-e28d-4fd4-89f0-4c7f77212222",
      "metadata": {
        "id": "42187fc7-e28d-4fd4-89f0-4c7f77212222"
      },
      "source": [
        "`-` 내가 찍은 사진이 피카소의 화풍으로 표현된다면?"
      ]
    },
    {
      "cell_type": "markdown",
      "id": "c118ee68-5881-492f-824e-e668413fcdd9",
      "metadata": {
        "id": "c118ee68-5881-492f-824e-e668413fcdd9"
      },
      "source": [
        "`-` 퀸의 라이브에이드가 4k로 나온다면?\n",
        "\n",
        "`-` 1920년대 서울의 모습이 칼라로 복원된다면? "
      ]
    },
    {
      "cell_type": "markdown",
      "id": "2dcbd708-659b-4af8-9acf-3438fde58756",
      "metadata": {
        "id": "2dcbd708-659b-4af8-9acf-3438fde58756"
      },
      "source": [
        "`-` 딥페이크: 유명인의 가짜 포르노, 가짜뉴스, 협박(거짓기소) \n"
      ]
    },
    {
      "cell_type": "markdown",
      "id": "ce861abd-5b76-46c1-aaf4-46695e613d68",
      "metadata": {
        "id": "ce861abd-5b76-46c1-aaf4-46695e613d68"
      },
      "source": [
        "`-` 게임영상 (파이널판타지)"
      ]
    },
    {
      "cell_type": "markdown",
      "id": "c92021a9-86be-4c2a-944d-d7ade46db5b3",
      "metadata": {
        "id": "c92021a9-86be-4c2a-944d-d7ade46db5b3"
      },
      "source": [
        "`-` 거북이의 커버.. "
      ]
    },
    {
      "cell_type": "markdown",
      "id": "b1404e70-b108-4ba2-9710-bb6ee9749be0",
      "metadata": {
        "id": "b1404e70-b108-4ba2-9710-bb6ee9749be0"
      },
      "source": [
        "`-` 너무 많아요....."
      ]
    },
    {
      "cell_type": "markdown",
      "id": "a238899d-00f7-49af-84ad-d7c2dd543c97",
      "metadata": {
        "id": "a238899d-00f7-49af-84ad-d7c2dd543c97",
        "tags": []
      },
      "source": [
        "### 생성모형이란? 통계학과 버전의 설명 "
      ]
    },
    {
      "cell_type": "markdown",
      "id": "32160a4e-774b-4e34-8246-fc2a02cc2295",
      "metadata": {
        "id": "32160a4e-774b-4e34-8246-fc2a02cc2295"
      },
      "source": [
        "> 제한된 정보만으로 어떤 문제를 풀 떄, 그 과정에서 원래의 문제보다 일반적인 문제를 풀지 말고, 가능한 원래의 문제를 직접 풀어야한다. 배프닉 (SVM 창시자) "
      ]
    },
    {
      "cell_type": "markdown",
      "id": "000ac6b1-d00c-4c8a-9d01-1159b0e928a4",
      "metadata": {
        "id": "000ac6b1-d00c-4c8a-9d01-1159b0e928a4"
      },
      "source": [
        "`-` 이미지 $\\boldsymbol{x}$가 주어졌을 경우 라벨을 $y$라고 하자. "
      ]
    },
    {
      "cell_type": "markdown",
      "id": "9271c837-7f25-4052-a24d-b0a269f83074",
      "metadata": {
        "id": "9271c837-7f25-4052-a24d-b0a269f83074"
      },
      "source": [
        "`-` 이미지를 보고 라벨을 맞추는 일은 $p(y| \\boldsymbol{x})$에 관심이 있는 것과 동일하다."
      ]
    },
    {
      "cell_type": "markdown",
      "id": "b8e887ea-31ad-4a38-86ec-9e49bda1a98f",
      "metadata": {
        "id": "b8e887ea-31ad-4a38-86ec-9e49bda1a98f"
      },
      "source": [
        "`-` 이미지를 생성하는 일은 $p(\\boldsymbol{x},y)$에 관심이 있는것이다. "
      ]
    },
    {
      "cell_type": "markdown",
      "id": "c39d6db8-4257-48c4-b064-be3a8ed11140",
      "metadata": {
        "id": "c39d6db8-4257-48c4-b064-be3a8ed11140"
      },
      "source": [
        "`-` 데이터의 생성확률 $p(\\boldsymbol{x},y)$을 알면 클래스의 사후확률 $p(y|\\boldsymbol{x})$를 알 수 있음. (아래의 수식 참고) 하지만 역은 불가능 \n",
        "\n",
        "$$p(y|x) = \\frac{p(x,y)}{p(x)} = \\frac{p(x,y)}{\\sum_{y}p(x,y)} $$"
      ]
    },
    {
      "cell_type": "markdown",
      "id": "c2c11f87-d88d-4791-b893-c0ef358c72c3",
      "metadata": {
        "id": "c2c11f87-d88d-4791-b893-c0ef358c72c3"
      },
      "source": [
        "- 즉 이미지를 생성하는일은 분류문제보다 더 어려운 일이라 해석가능 "
      ]
    },
    {
      "cell_type": "markdown",
      "id": "148619a6-5fb0-4502-a9fd-7a72eca412c3",
      "metadata": {
        "id": "148619a6-5fb0-4502-a9fd-7a72eca412c3"
      },
      "source": [
        "`-` 따라서 배프닉의 원리에 의하면 식별적 분류가 생성적 분류보다 바람직한 접근법이라 할 수 있음. "
      ]
    },
    {
      "cell_type": "markdown",
      "id": "153d90ad-f77d-49d4-9c0f-29f95382ce72",
      "metadata": {
        "id": "153d90ad-f77d-49d4-9c0f-29f95382ce72"
      },
      "source": [
        "`-` 하지만 다양한 현실문제에서 생성모형이 유용할때가 많다. "
      ]
    },
    {
      "cell_type": "markdown",
      "id": "70d730f5-4f28-454d-bcc0-ae53af2798e9",
      "metadata": {
        "id": "70d730f5-4f28-454d-bcc0-ae53af2798e9"
      },
      "source": [
        "### GAN의 원리"
      ]
    },
    {
      "cell_type": "markdown",
      "id": "07a8f8b2-d05d-4e4d-9b55-9973aff15982",
      "metadata": {
        "id": "07a8f8b2-d05d-4e4d-9b55-9973aff15982"
      },
      "source": [
        "`-` GAN은 생성모형중 하나임 "
      ]
    },
    {
      "cell_type": "markdown",
      "id": "fff692f1-5e9e-46e0-801d-c0d37a46d862",
      "metadata": {
        "id": "fff692f1-5e9e-46e0-801d-c0d37a46d862"
      },
      "source": [
        "`-` GAN의 원리는 경찰과 위조지폐범이 서로 선의의(?) 경쟁을 통하여 서로 발전하는 모형으로 설명할 수 있다. "
      ]
    },
    {
      "cell_type": "markdown",
      "id": "eccd9d78-c5f9-4405-8217-c1b41491ee8d",
      "metadata": {
        "id": "eccd9d78-c5f9-4405-8217-c1b41491ee8d"
      },
      "source": [
        "> The generative model can be thought of as analogous to a team of counterfeiters,\n",
        "trying to produce fake currency and use it without detection, while the discriminative model is\n",
        "analogous to the police, trying to detect the counterfeit currency. Competition in this game drives\n",
        "both teams to improve their methods until the counterfeits are indistiguishable from the genuine\n",
        "articles."
      ]
    },
    {
      "cell_type": "markdown",
      "id": "2bfabd74-9fd9-4b87-b302-051422cc34f0",
      "metadata": {
        "id": "2bfabd74-9fd9-4b87-b302-051422cc34f0"
      },
      "source": [
        "`-` 서로 적대적인(adversarial) 네트워크(network)를 동시에 학습시켜 가짜이미지를 만든다(generate) "
      ]
    },
    {
      "cell_type": "markdown",
      "id": "614ba18b-5174-42f0-bbf5-e01fdf3be285",
      "metadata": {
        "id": "614ba18b-5174-42f0-bbf5-e01fdf3be285"
      },
      "source": [
        "`-` 무식한 상황극.. "
      ]
    },
    {
      "cell_type": "markdown",
      "id": "e1bef504-24fa-4ae1-9445-7e3397a8cd45",
      "metadata": {
        "id": "e1bef504-24fa-4ae1-9445-7e3397a8cd45"
      },
      "source": [
        "> 위조범: 가짜돈을 만들어서 부자가 되어야지! (가짜돈을 그림) \n",
        "\n",
        "> 경찰: (위조범이 만든 돈을 보고) 이건 가짜다! \n",
        "\n",
        "> 위조범: 걸렸군.. 더 정교하게 만들어야지.. \n",
        "\n",
        "> 경찰: 이건 진짠가?... --> 상사에게 혼남. 그것도 구분못하냐고 \n",
        "\n",
        "> 위조범: 더 정교하게 만들자.. \n",
        "\n",
        "> 경찰: 더 판별능력을 업그레이드 하자! \n",
        "\n",
        "> 반복.. "
      ]
    },
    {
      "cell_type": "markdown",
      "id": "7bff8658-b655-4db7-a69f-15bed361e29b",
      "metadata": {
        "id": "7bff8658-b655-4db7-a69f-15bed361e29b"
      },
      "source": [
        "`-` 굉장히 우수한 경찰조차도 진짜와 가짜를 구분하지 못할때(=진짜 이미지를 0.5의 확률로만 진짜라고 말할때 = 가짜 이미지를 0.5의 확률로만 가짜라고 말할때) 학습을 멈춘다. "
      ]
    },
    {
      "cell_type": "code",
      "execution_count": null,
      "id": "1ffe0bc6-faf3-4ba6-ba96-5a4316bbce0c",
      "metadata": {
        "id": "1ffe0bc6-faf3-4ba6-ba96-5a4316bbce0c",
        "outputId": "d1055122-853d-4077-b488-4895bfe42ea1"
      },
      "outputs": [
        {
          "name": "stdout",
          "output_type": "stream",
          "text": [
            "[master 7f6bb52] .\n",
            " 1 file changed, 236 insertions(+), 12 deletions(-)\n",
            "Enumerating objects: 7, done.\n",
            "Counting objects: 100% (7/7), done.\n",
            "Delta compression using up to 16 threads\n",
            "Compressing objects: 100% (4/4), done.\n",
            "Writing objects: 100% (4/4), 3.71 KiB | 3.71 MiB/s, done.\n",
            "Total 4 (delta 2), reused 0 (delta 0), pack-reused 0\n",
            "remote: Resolving deltas: 100% (2/2), completed with 2 local objects.\u001b[K\n",
            "To https://github.com/guebin/DL2022.git\n",
            "   604fa18..7f6bb52  master -> master\n"
          ]
        }
      ],
      "source": [
        "!git add ."
      ]
    }
  ],
  "metadata": {
    "colab": {
      "provenance": [],
      "collapsed_sections": [
        "2de7bd2e-e0c3-44e8-a5f6-bd7589ef5725",
        "a238899d-00f7-49af-84ad-d7c2dd543c97",
        "70d730f5-4f28-454d-bcc0-ae53af2798e9"
      ]
    },
    "kernelspec": {
      "display_name": "Python 3 (ipykernel)",
      "language": "python",
      "name": "python3"
    },
    "language_info": {
      "codemirror_mode": {
        "name": "ipython",
        "version": 3
      },
      "file_extension": ".py",
      "mimetype": "text/x-python",
      "name": "python",
      "nbconvert_exporter": "python",
      "pygments_lexer": "ipython3",
      "version": "3.9.12"
    },
    "accelerator": "GPU",
    "gpuClass": "standard"
  },
  "nbformat": 4,
  "nbformat_minor": 5
}